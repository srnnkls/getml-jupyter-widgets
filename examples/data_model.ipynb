{
 "cells": [
  {
   "cell_type": "markdown",
   "metadata": {
    "tags": []
   },
   "source": [
    "# Introduction"
   ]
  },
  {
   "cell_type": "markdown",
   "metadata": {},
   "source": [
    "The React Jupyter Widget keeps your JavaScript and Python state in sync."
   ]
  },
  {
   "cell_type": "code",
   "execution_count": 7,
   "metadata": {},
   "outputs": [],
   "source": [
    "import getml_jupyter_widgets"
   ]
  },
  {
   "cell_type": "markdown",
   "metadata": {},
   "source": [
    "Run the cell below and type something new into the text input. "
   ]
  },
  {
   "cell_type": "code",
   "execution_count": 8,
   "metadata": {},
   "outputs": [
    {
     "data": {
      "application/vnd.jupyter.widget-view+json": {
       "model_id": "8ddfedc016a24d3b88766b17abfb511c",
       "version_major": 2,
       "version_minor": 0
      },
      "text/plain": [
       "DataModelWidget(tree={'name': 'population', 'children': [{'name': 'peripheral'}]})"
      ]
     },
     "execution_count": 8,
     "metadata": {},
     "output_type": "execute_result"
    }
   ],
   "source": [
    "w = getml_jupyter_widgets.DataModelWidget()\n",
    "w"
   ]
  },
  {
   "cell_type": "code",
   "execution_count": 51,
   "metadata": {},
   "outputs": [
    {
     "data": {
      "text/plain": [
       "'Jupyter'"
      ]
     },
     "execution_count": 51,
     "metadata": {},
     "output_type": "execute_result"
    }
   ],
   "source": [
    "w.value"
   ]
  }
 ],
 "metadata": {
  "kernelspec": {
   "display_name": "Python 3 (ipykernel)",
   "language": "python",
   "name": "python3"
  },
  "language_info": {
   "codemirror_mode": {
    "name": "ipython",
    "version": 3
   },
   "file_extension": ".py",
   "mimetype": "text/x-python",
   "name": "python",
   "nbconvert_exporter": "python",
   "pygments_lexer": "ipython3",
   "version": "3.9.15"
  },
  "widgets": {
   "application/vnd.jupyter.widget-state+json": {
    "state": {
     "4cc472490f2e40d880673673c2cbd54d": {
      "model_module": "@jupyter-widgets/base",
      "model_module_version": "2.0.0",
      "model_name": "LayoutModel",
      "state": {}
     },
     "8ddfedc016a24d3b88766b17abfb511c": {
      "model_module": "getml-jupyter-widgets",
      "model_module_version": "^0.1.0",
      "model_name": "DataModelWidgetModel",
      "state": {
       "_model_module_version": "^0.1.0",
       "_view_module_version": "^0.1.0",
       "layout": "IPY_MODEL_4cc472490f2e40d880673673c2cbd54d"
      }
     },
     "93ee1222138b47cbaedfbe0a5d5bfec4": {
      "model_module": "getml-jupyter-widgets",
      "model_module_version": "^0.1.0",
      "model_name": "DataModelWidgetModel",
      "state": {
       "_model_module_version": "^0.1.0",
       "_view_module_version": "^0.1.0",
       "layout": "IPY_MODEL_bfd33ece781c48c198074c8b84a430fa"
      }
     },
     "a71fd2ebc4b7439e99ff7e477f52f56f": {
      "model_module": "@jupyter-widgets/base",
      "model_module_version": "2.0.0",
      "model_name": "LayoutModel",
      "state": {}
     },
     "ade6d16407524f88ad9f221793b5a299": {
      "model_module": "getml-jupyter-widgets",
      "model_module_version": "^0.1.0",
      "model_name": "DataModelWidgetModel",
      "state": {
       "_model_module_version": "^0.1.0",
       "_view_module_version": "^0.1.0",
       "layout": "IPY_MODEL_a71fd2ebc4b7439e99ff7e477f52f56f"
      }
     },
     "bfd33ece781c48c198074c8b84a430fa": {
      "model_module": "@jupyter-widgets/base",
      "model_module_version": "2.0.0",
      "model_name": "LayoutModel",
      "state": {}
     },
     "e0cc657f439e4e1b97f21189b45e36e3": {
      "model_module": "@jupyter-widgets/base",
      "model_module_version": "2.0.0",
      "model_name": "LayoutModel",
      "state": {}
     },
     "e5bd496b253746ffb32557ffc2dcb51f": {
      "model_module": "@jupyter-widgets/base",
      "model_module_version": "2.0.0",
      "model_name": "LayoutModel",
      "state": {}
     },
     "e94746fe55df4646a73ac1f89202450d": {
      "model_module": "getml-jupyter-widgets",
      "model_module_version": "^0.1.0",
      "model_name": "DataModelWidgetModel",
      "state": {
       "_model_module_version": "^0.1.0",
       "_view_module_version": "^0.1.0",
       "layout": "IPY_MODEL_e0cc657f439e4e1b97f21189b45e36e3"
      }
     },
     "f908dab78a984d88babcc02babd23d68": {
      "model_module": "getml-jupyter-widgets",
      "model_module_version": "^0.1.0",
      "model_name": "DataModelWidgetModel",
      "state": {
       "_model_module_version": "^0.1.0",
       "_view_module_version": "^0.1.0",
       "layout": "IPY_MODEL_e5bd496b253746ffb32557ffc2dcb51f"
      }
     }
    },
    "version_major": 2,
    "version_minor": 0
   }
  }
 },
 "nbformat": 4,
 "nbformat_minor": 4
}
