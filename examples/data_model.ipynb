{
 "cells": [
  {
   "cell_type": "markdown",
   "metadata": {
    "tags": []
   },
   "source": [
    "# Introduction"
   ]
  },
  {
   "cell_type": "markdown",
   "metadata": {},
   "source": [
    "The React Jupyter Widget keeps your JavaScript and Python state in sync."
   ]
  },
  {
   "cell_type": "code",
   "execution_count": 1,
   "metadata": {
    "tags": []
   },
   "outputs": [],
   "source": [
    "import getml_jupyter_widgets"
   ]
  },
  {
   "cell_type": "code",
   "execution_count": 2,
   "metadata": {
    "tags": []
   },
   "outputs": [
    {
     "data": {
      "application/vnd.jupyter.widget-view+json": {
       "model_id": "e144b821f1964bdea09fe97dc926cf34",
       "version_major": 2,
       "version_minor": 0
      },
      "text/html": [
       "<svg xmlns=\"http://www.w3.org/2000/svg\" height=\"500\" width=\"600\"><defs><linearGradient id=\"population-gradient\" x1=\"0\" y1=\"0\" x2=\"0\" y2=\"1\"><stop offset=\"0%\" stop-color=\"#d54c4c\" stop-opacity=\"1\"/><stop offset=\"100%\" stop-color=\"#71248e\" stop-opacity=\"1\"/></linearGradient></defs><g class=\"visx-group\" transform=\"translate(300, 235)\"><g class=\"visx-group\" transform=\"translate(0, 0)\"><path class=\"visx-link visx-link-radial-diagonal\" d=\"M0,0C7.1947999449907e-15,117.5,7.1947999449907e-15,117.5,1.43895998899814e-14,235\" stroke=\"#374469\" stroke-width=\"1\" fill=\"none\"/><path class=\"visx-link visx-link-radial-diagonal\" d=\"M0,0C7.1947999449907e-15,117.5,7.1947999449907e-15,117.5,1.43895998899814e-14,235\" stroke=\"transparent\" stroke-width=\"10\" fill=\"none\"/></g><g class=\"visx-group\" transform=\"translate(0, 25)\"><circle fill=\"url('#population-gradient')\" r=\"30\"/><text dy=\".33em\" fill=\"#ffffff\" font-family=\"Arial\" font-size=\"9\" text-anchor=\"middle\" style=\"pointer-events: none;\">pop</text></g><g class=\"visx-group\" transform=\"translate(1.43895998899814e-14, 235)\"><rect height=\"25\" width=\"45\" fill=\"#ffffff\" rx=\"12\" stroke=\"#d54c4c\" stroke-width=\"1\" x=\"-22.5\" y=\"-12.5\"/><text dy=\".33em\" fill=\"#272b4d\" font-family=\"Arial\" font-size=\"9\" text-anchor=\"middle\" style=\"pointer-events: none;\">peripheral</text></g></g></svg>"
      ],
      "text/plain": [
       "DataModelWidget(serialized_svg='<svg xmlns=\"http://www.w3.org/2000/svg\" height=\"500\" width=\"600\"><defs><linear…"
      ]
     },
     "metadata": {},
     "output_type": "display_data"
    }
   ],
   "source": [
    "w = getml_jupyter_widgets.DataModelWidget()\n",
    "w # 1"
   ]
  },
  {
   "cell_type": "code",
   "execution_count": 3,
   "metadata": {
    "tags": []
   },
   "outputs": [
    {
     "data": {
      "application/vnd.jupyter.widget-view+json": {
       "model_id": "e144b821f1964bdea09fe97dc926cf34",
       "version_major": 2,
       "version_minor": 0
      },
      "text/html": [
       "<svg xmlns=\"http://www.w3.org/2000/svg\" height=\"500\" width=\"600\"><defs><linearGradient id=\"population-gradient\" x1=\"0\" y1=\"0\" x2=\"0\" y2=\"1\"><stop offset=\"0%\" stop-color=\"#d54c4c\" stop-opacity=\"1\"/><stop offset=\"100%\" stop-color=\"#71248e\" stop-opacity=\"1\"/></linearGradient></defs><g class=\"visx-group\" transform=\"translate(300, 235)\"><g class=\"visx-group\" transform=\"translate(0, 0)\"><path class=\"visx-link visx-link-radial-diagonal\" d=\"M0,0C7.1947999449907e-15,117.5,7.1947999449907e-15,117.5,1.43895998899814e-14,235\" stroke=\"#374469\" stroke-width=\"1\" fill=\"none\"/><path class=\"visx-link visx-link-radial-diagonal\" d=\"M0,0C7.1947999449907e-15,117.5,7.1947999449907e-15,117.5,1.43895998899814e-14,235\" stroke=\"transparent\" stroke-width=\"10\" fill=\"none\"/></g><g class=\"visx-group\" transform=\"translate(0, 25)\"><circle fill=\"url('#population-gradient')\" r=\"30\"/><text dy=\".33em\" fill=\"#ffffff\" font-family=\"Arial\" font-size=\"9\" text-anchor=\"middle\" style=\"pointer-events: none;\">pop</text></g><g class=\"visx-group\" transform=\"translate(1.43895998899814e-14, 235)\"><rect height=\"25\" width=\"45\" fill=\"#ffffff\" rx=\"12\" stroke=\"#d54c4c\" stroke-width=\"1\" x=\"-22.5\" y=\"-12.5\"/><text dy=\".33em\" fill=\"#272b4d\" font-family=\"Arial\" font-size=\"9\" text-anchor=\"middle\" style=\"pointer-events: none;\">peripheral</text></g></g></svg>"
      ],
      "text/plain": [
       "DataModelWidget(serialized_svg='<svg xmlns=\"http://www.w3.org/2000/svg\" height=\"500\" width=\"600\"><defs><linear…"
      ]
     },
     "metadata": {},
     "output_type": "display_data"
    }
   ],
   "source": [
    "w # 2"
   ]
  },
  {
   "cell_type": "code",
   "execution_count": 4,
   "metadata": {},
   "outputs": [
    {
     "data": {
      "application/vnd.jupyter.widget-view+json": {
       "model_id": "e144b821f1964bdea09fe97dc926cf34",
       "version_major": 2,
       "version_minor": 0
      },
      "text/html": [
       "<svg xmlns=\"http://www.w3.org/2000/svg\" height=\"500\" width=\"600\"><defs><linearGradient id=\"population-gradient\" x1=\"0\" y1=\"0\" x2=\"0\" y2=\"1\"><stop offset=\"0%\" stop-color=\"#d54c4c\" stop-opacity=\"1\"/><stop offset=\"100%\" stop-color=\"#71248e\" stop-opacity=\"1\"/></linearGradient></defs><g class=\"visx-group\" transform=\"translate(300, 235)\"><g class=\"visx-group\" transform=\"translate(0, 0)\"><path class=\"visx-link visx-link-radial-diagonal\" d=\"M0,0C7.1947999449907e-15,117.5,7.1947999449907e-15,117.5,1.43895998899814e-14,235\" stroke=\"#374469\" stroke-width=\"1\" fill=\"none\"/><path class=\"visx-link visx-link-radial-diagonal\" d=\"M0,0C7.1947999449907e-15,117.5,7.1947999449907e-15,117.5,1.43895998899814e-14,235\" stroke=\"transparent\" stroke-width=\"10\" fill=\"none\"/></g><g class=\"visx-group\" transform=\"translate(0, 25)\"><circle fill=\"url('#population-gradient')\" r=\"30\"/><text dy=\".33em\" fill=\"#ffffff\" font-family=\"Arial\" font-size=\"9\" text-anchor=\"middle\" style=\"pointer-events: none;\">pop</text></g><g class=\"visx-group\" transform=\"translate(1.43895998899814e-14, 235)\"><rect height=\"25\" width=\"45\" fill=\"#ffffff\" rx=\"12\" stroke=\"#d54c4c\" stroke-width=\"1\" x=\"-22.5\" y=\"-12.5\"/><text dy=\".33em\" fill=\"#272b4d\" font-family=\"Arial\" font-size=\"9\" text-anchor=\"middle\" style=\"pointer-events: none;\">peripheral</text></g></g></svg>"
      ],
      "text/plain": [
       "DataModelWidget(serialized_svg='<svg xmlns=\"http://www.w3.org/2000/svg\" height=\"500\" width=\"600\"><defs><linear…"
      ]
     },
     "metadata": {},
     "output_type": "display_data"
    }
   ],
   "source": [
    "w # 3"
   ]
  },
  {
   "cell_type": "code",
   "execution_count": 7,
   "metadata": {},
   "outputs": [],
   "source": [
    "w.tree = {\"name\": \"pop\", \"children\": [{\"name\": \"peripheral\"}]}"
   ]
  },
  {
   "cell_type": "code",
   "execution_count": 8,
   "metadata": {
    "tags": []
   },
   "outputs": [
    {
     "data": {
      "text/plain": [
       "'<svg xmlns=\"http://www.w3.org/2000/svg\" height=\"500\" width=\"600\"><defs><linearGradient id=\"population-gradient\" x1=\"0\" y1=\"0\" x2=\"0\" y2=\"1\"><stop offset=\"0%\" stop-color=\"#d54c4c\" stop-opacity=\"1\"/><stop offset=\"100%\" stop-color=\"#71248e\" stop-opacity=\"1\"/></linearGradient></defs><g class=\"visx-group\" transform=\"translate(300, 235)\"><g class=\"visx-group\" transform=\"translate(0, 0)\"><path class=\"visx-link visx-link-radial-diagonal\" d=\"M0,0C7.1947999449907e-15,117.5,7.1947999449907e-15,117.5,1.43895998899814e-14,235\" stroke=\"#374469\" stroke-width=\"1\" fill=\"none\"/><path class=\"visx-link visx-link-radial-diagonal\" d=\"M0,0C7.1947999449907e-15,117.5,7.1947999449907e-15,117.5,1.43895998899814e-14,235\" stroke=\"transparent\" stroke-width=\"10\" fill=\"none\"/></g><g class=\"visx-group\" transform=\"translate(0, 25)\"><circle fill=\"url(\\'#population-gradient\\')\" r=\"30\"/><text dy=\".33em\" fill=\"#ffffff\" font-family=\"Arial\" font-size=\"9\" text-anchor=\"middle\" style=\"pointer-events: none;\">pop</text></g><g class=\"visx-group\" transform=\"translate(1.43895998899814e-14, 235)\"><rect height=\"25\" width=\"45\" fill=\"#ffffff\" rx=\"12\" stroke=\"#d54c4c\" stroke-width=\"1\" x=\"-22.5\" y=\"-12.5\"/><text dy=\".33em\" fill=\"#272b4d\" font-family=\"Arial\" font-size=\"9\" text-anchor=\"middle\" style=\"pointer-events: none;\">peripheral</text></g></g></svg>'"
      ]
     },
     "execution_count": 8,
     "metadata": {},
     "output_type": "execute_result"
    }
   ],
   "source": [
    "w.serialized_svg"
   ]
  }
 ],
 "metadata": {
  "kernelspec": {
   "display_name": "Python 3 (ipykernel)",
   "language": "python",
   "name": "python3"
  },
  "language_info": {
   "codemirror_mode": {
    "name": "ipython",
    "version": 3
   },
   "file_extension": ".py",
   "mimetype": "text/x-python",
   "name": "python",
   "nbconvert_exporter": "python",
   "pygments_lexer": "ipython3",
   "version": "3.9.15"
  },
  "widgets": {
   "application/vnd.jupyter.widget-state+json": {
    "state": {
     "82720e7e2f72488d9d8ff02301fb546a": {
      "model_module": "@jupyter-widgets/base",
      "model_module_version": "2.0.0",
      "model_name": "LayoutModel",
      "state": {}
     },
     "e144b821f1964bdea09fe97dc926cf34": {
      "model_module": "getml-jupyter-widgets",
      "model_module_version": "^0.1.0",
      "model_name": "DataModelWidgetModel",
      "state": {
       "_model_module_version": "^0.1.0",
       "_view_module_version": "^0.1.0",
       "layout": "IPY_MODEL_82720e7e2f72488d9d8ff02301fb546a",
       "serialized_svg": "<svg xmlns=\"http://www.w3.org/2000/svg\" height=\"500\" width=\"600\"><defs><linearGradient id=\"population-gradient\" x1=\"0\" y1=\"0\" x2=\"0\" y2=\"1\"><stop offset=\"0%\" stop-color=\"#d54c4c\" stop-opacity=\"1\"/><stop offset=\"100%\" stop-color=\"#71248e\" stop-opacity=\"1\"/></linearGradient></defs><g class=\"visx-group\" transform=\"translate(300, 235)\"><g class=\"visx-group\" transform=\"translate(0, 0)\"><path class=\"visx-link visx-link-radial-diagonal\" d=\"M0,0C7.1947999449907e-15,117.5,7.1947999449907e-15,117.5,1.43895998899814e-14,235\" stroke=\"#374469\" stroke-width=\"1\" fill=\"none\"/><path class=\"visx-link visx-link-radial-diagonal\" d=\"M0,0C7.1947999449907e-15,117.5,7.1947999449907e-15,117.5,1.43895998899814e-14,235\" stroke=\"transparent\" stroke-width=\"10\" fill=\"none\"/></g><g class=\"visx-group\" transform=\"translate(0, 25)\"><circle fill=\"url('#population-gradient')\" r=\"30\"/><text dy=\".33em\" fill=\"#ffffff\" font-family=\"Arial\" font-size=\"9\" text-anchor=\"middle\" style=\"pointer-events: none;\">pop</text></g><g class=\"visx-group\" transform=\"translate(1.43895998899814e-14, 235)\"><rect height=\"25\" width=\"45\" fill=\"#ffffff\" rx=\"12\" stroke=\"#d54c4c\" stroke-width=\"1\" x=\"-22.5\" y=\"-12.5\"/><text dy=\".33em\" fill=\"#272b4d\" font-family=\"Arial\" font-size=\"9\" text-anchor=\"middle\" style=\"pointer-events: none;\">peripheral</text></g></g></svg>",
       "tree": {
        "children": [
         {
          "name": "peripheral"
         }
        ],
        "name": "pop"
       }
      }
     }
    },
    "version_major": 2,
    "version_minor": 0
   }
  }
 },
 "nbformat": 4,
 "nbformat_minor": 4
}
