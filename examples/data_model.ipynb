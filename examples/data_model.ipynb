{
 "cells": [
  {
   "cell_type": "markdown",
   "metadata": {
    "tags": []
   },
   "source": [
    "# Introduction"
   ]
  },
  {
   "cell_type": "markdown",
   "metadata": {},
   "source": [
    "The React Jupyter Widget keeps your JavaScript and Python state in sync."
   ]
  },
  {
   "cell_type": "code",
   "execution_count": 3,
   "metadata": {},
   "outputs": [],
   "source": [
    "import getml_jupyter_widgets"
   ]
  },
  {
   "cell_type": "markdown",
   "metadata": {},
   "source": [
    "Run the cell below and type something new into the text input. "
   ]
  },
  {
   "cell_type": "code",
   "execution_count": 36,
   "metadata": {},
   "outputs": [
    {
     "data": {
      "application/vnd.jupyter.widget-view+json": {
       "model_id": "eecc560334f44f92825cb0a9697501be",
       "version_major": 2,
       "version_minor": 0
      },
      "text/plain": [
       "DataModelWidget(tree={'name': 'population', 'children': [{'name': 'peripheral'}]})"
      ]
     },
     "execution_count": 36,
     "metadata": {},
     "output_type": "execute_result"
    }
   ],
   "source": [
    "w = getml_jupyter_widgets.DataModelWidget()\n",
    "w"
   ]
  },
  {
   "cell_type": "code",
   "execution_count": 38,
   "metadata": {
    "tags": []
   },
   "outputs": [],
   "source": [
    "w.tree = {\"name\": \"pop\", \"children\": [{\"name\": \"peripheral\", \"on\": \"key = key\"}]}"
   ]
  }
 ],
 "metadata": {
  "kernelspec": {
   "display_name": "Python 3 (ipykernel)",
   "language": "python",
   "name": "python3"
  },
  "language_info": {
   "codemirror_mode": {
    "name": "ipython",
    "version": 3
   },
   "file_extension": ".py",
   "mimetype": "text/x-python",
   "name": "python",
   "nbconvert_exporter": "python",
   "pygments_lexer": "ipython3",
   "version": "3.9.15"
  },
  "widgets": {
   "application/vnd.jupyter.widget-state+json": {
    "state": {
     "0aa0fb6fcdd34b77b6a67c4b3172327a": {
      "model_module": "getml-jupyter-widgets",
      "model_module_version": "^0.1.0",
      "model_name": "DataModelWidgetModel",
      "state": {
       "_model_module_version": "^0.1.0",
       "_view_module_version": "^0.1.0",
       "layout": "IPY_MODEL_1e3de5dcbab14b2d97a47474e5ac2a86",
       "tree": {
        "children": [
         {
          "name": "peripheral",
          "on": "key"
         }
        ],
        "name": "pop"
       }
      }
     },
     "11acd46c4e9f4a5791c09daba0b92f22": {
      "model_module": "@jupyter-widgets/base",
      "model_module_version": "2.0.0",
      "model_name": "LayoutModel",
      "state": {}
     },
     "1e3de5dcbab14b2d97a47474e5ac2a86": {
      "model_module": "@jupyter-widgets/base",
      "model_module_version": "2.0.0",
      "model_name": "LayoutModel",
      "state": {}
     },
     "343ec9b50f7244a4a17bb00d7c94e30e": {
      "model_module": "@jupyter-widgets/base",
      "model_module_version": "2.0.0",
      "model_name": "LayoutModel",
      "state": {}
     },
     "3b7c7c28fd264b2db02f0d78896c055e": {
      "model_module": "@jupyter-widgets/base",
      "model_module_version": "2.0.0",
      "model_name": "LayoutModel",
      "state": {}
     },
     "3c5b34bbae0a40228fd9de6492cbe781": {
      "model_module": "@jupyter-widgets/base",
      "model_module_version": "2.0.0",
      "model_name": "LayoutModel",
      "state": {}
     },
     "71e399162dd54d63b81a6c612ca5c12c": {
      "model_module": "getml-jupyter-widgets",
      "model_module_version": "^0.1.0",
      "model_name": "DataModelWidgetModel",
      "state": {
       "_model_module_version": "^0.1.0",
       "_view_module_version": "^0.1.0",
       "layout": "IPY_MODEL_c3fe4459caa54cbab585534e331fbea5",
       "tree": {}
      }
     },
     "8b5e130ed28d434b9ed8c4ad94a54015": {
      "model_module": "getml-jupyter-widgets",
      "model_module_version": "^0.1.0",
      "model_name": "DataModelWidgetModel",
      "state": {
       "_model_module_version": "^0.1.0",
       "_view_module_version": "^0.1.0",
       "layout": "IPY_MODEL_11acd46c4e9f4a5791c09daba0b92f22",
       "tree": {
        "children": [
         {
          "name": "peripheral",
          "on": "key"
         }
        ],
        "name": "pop"
       }
      }
     },
     "8cd230e116ad442d891f87d0080aaa54": {
      "model_module": "getml-jupyter-widgets",
      "model_module_version": "^0.1.0",
      "model_name": "DataModelWidgetModel",
      "state": {
       "_model_module_version": "^0.1.0",
       "_view_module_version": "^0.1.0",
       "layout": "IPY_MODEL_9f3756b38e0d4ddfa40b9fd9f720627a",
       "tree": {
        "children": [
         {
          "name": "peripheral"
         }
        ],
        "name": "pop"
       }
      }
     },
     "93cad3f5dcdf4f64bca7893c10ff82fe": {
      "model_module": "getml-jupyter-widgets",
      "model_module_version": "^0.1.0",
      "model_name": "DataModelWidgetModel",
      "state": {
       "_model_module_version": "^0.1.0",
       "_view_module_version": "^0.1.0",
       "layout": "IPY_MODEL_343ec9b50f7244a4a17bb00d7c94e30e",
       "tree": {
        "children": [
         {
          "name": "peripheral"
         }
        ],
        "name": "pop"
       }
      }
     },
     "9f3756b38e0d4ddfa40b9fd9f720627a": {
      "model_module": "@jupyter-widgets/base",
      "model_module_version": "2.0.0",
      "model_name": "LayoutModel",
      "state": {}
     },
     "a6ee4fea29424eb2b847b56efe09049f": {
      "model_module": "getml-jupyter-widgets",
      "model_module_version": "^0.1.0",
      "model_name": "DataModelWidgetModel",
      "state": {
       "_model_module_version": "^0.1.0",
       "_view_module_version": "^0.1.0",
       "layout": "IPY_MODEL_d55eb854f00848ffb6c3fccb328957b4",
       "tree": {
        "children": [
         {
          "name": "peripheral"
         }
        ],
        "name": "pop"
       }
      }
     },
     "b1e4dd04f70446f38ce97dc02e9aec02": {
      "model_module": "getml-jupyter-widgets",
      "model_module_version": "^0.1.0",
      "model_name": "DataModelWidgetModel",
      "state": {
       "_model_module_version": "^0.1.0",
       "_view_module_version": "^0.1.0",
       "layout": "IPY_MODEL_e2d365f0ea0c45829985b8ac26c3635d"
      }
     },
     "b2e899c9a4824541b709a236ba76e0ff": {
      "model_module": "getml-jupyter-widgets",
      "model_module_version": "^0.1.0",
      "model_name": "DataModelWidgetModel",
      "state": {
       "_model_module_version": "^0.1.0",
       "_view_module_version": "^0.1.0",
       "layout": "IPY_MODEL_ceeeb7763c7546829bb4fa34e75ef889",
       "tree": {
        "children": [
         {
          "name": "peripheral",
          "on": "key = key"
         }
        ],
        "name": "population"
       }
      }
     },
     "c3fe4459caa54cbab585534e331fbea5": {
      "model_module": "@jupyter-widgets/base",
      "model_module_version": "2.0.0",
      "model_name": "LayoutModel",
      "state": {}
     },
     "c6f5010208e0437984ef6e3a3c62ec8c": {
      "model_module": "getml-jupyter-widgets",
      "model_module_version": "^0.1.0",
      "model_name": "DataModelWidgetModel",
      "state": {
       "_model_module_version": "^0.1.0",
       "_view_module_version": "^0.1.0",
       "layout": "IPY_MODEL_3b7c7c28fd264b2db02f0d78896c055e",
       "tree": {
        "children": [
         {
          "name": "peripheral"
         }
        ],
        "name": "pop"
       }
      }
     },
     "ceeeb7763c7546829bb4fa34e75ef889": {
      "model_module": "@jupyter-widgets/base",
      "model_module_version": "2.0.0",
      "model_name": "LayoutModel",
      "state": {}
     },
     "d55eb854f00848ffb6c3fccb328957b4": {
      "model_module": "@jupyter-widgets/base",
      "model_module_version": "2.0.0",
      "model_name": "LayoutModel",
      "state": {}
     },
     "e2d365f0ea0c45829985b8ac26c3635d": {
      "model_module": "@jupyter-widgets/base",
      "model_module_version": "2.0.0",
      "model_name": "LayoutModel",
      "state": {}
     },
     "eecc560334f44f92825cb0a9697501be": {
      "model_module": "getml-jupyter-widgets",
      "model_module_version": "^0.1.0",
      "model_name": "DataModelWidgetModel",
      "state": {
       "_model_module_version": "^0.1.0",
       "_view_module_version": "^0.1.0",
       "layout": "IPY_MODEL_3c5b34bbae0a40228fd9de6492cbe781",
       "tree": {
        "children": [
         {
          "name": "peripheral",
          "on": "key = key"
         }
        ],
        "name": "pop"
       }
      }
     }
    },
    "version_major": 2,
    "version_minor": 0
   }
  }
 },
 "nbformat": 4,
 "nbformat_minor": 4
}
