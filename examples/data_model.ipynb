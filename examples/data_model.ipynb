{
 "cells": [
  {
   "cell_type": "markdown",
   "metadata": {
    "tags": []
   },
   "source": [
    "# Introduction"
   ]
  },
  {
   "cell_type": "markdown",
   "metadata": {},
   "source": [
    "The React Jupyter Widget keeps your JavaScript and Python state in sync."
   ]
  },
  {
   "cell_type": "code",
   "execution_count": 1,
   "metadata": {
    "tags": []
   },
   "outputs": [],
   "source": [
    "import getml_jupyter_widgets"
   ]
  },
  {
   "cell_type": "code",
   "execution_count": 2,
   "metadata": {
    "tags": []
   },
   "outputs": [],
   "source": [
    "from IPython.display import display"
   ]
  },
  {
   "cell_type": "code",
   "execution_count": 3,
   "metadata": {
    "tags": []
   },
   "outputs": [
    {
     "data": {
      "application/vnd.jupyter.widget-view+json": {
       "model_id": "b15eba3e91b34c4a97b5a73be9645ff8",
       "version_major": 2,
       "version_minor": 0
      },
      "text/html": [
       "<?xml version=\"1.0\" standalone=\"no\"?>\r\n",
       "<svg xmlns=\"http://www.w3.org/2000/svg\" height=\"500\" width=\"600\"><defs><linearGradient id=\"population-gradient\" x1=\"0\" y1=\"0\" x2=\"0\" y2=\"1\"><stop offset=\"0%\" stop-color=\"#d54c4c\" stop-opacity=\"1\"/><stop offset=\"100%\" stop-color=\"#71248e\" stop-opacity=\"1\"/></linearGradient></defs><g class=\"visx-group\" transform=\"translate(300, 235)\"><g class=\"visx-group\" transform=\"translate(0, 0)\"><path class=\"visx-link visx-link-radial-diagonal\" d=\"M0,0C7.1947999449907e-15,117.5,117.5,0,235,0\" stroke=\"#374469\" stroke-width=\"1\" fill=\"none\"/><path class=\"visx-link visx-link-radial-diagonal\" d=\"M0,0C7.1947999449907e-15,117.5,117.5,0,235,0\" stroke=\"transparent\" stroke-width=\"10\" fill=\"none\"/></g><g class=\"visx-group\" transform=\"translate(0, 0)\"><path class=\"visx-link visx-link-radial-diagonal\" d=\"M0,0C7.1947999449907e-15,117.5,-117.5,1.43895998899814e-14,-235,2.87791997799628e-14\" stroke=\"#374469\" stroke-width=\"1\" fill=\"none\"/><path class=\"visx-link visx-link-radial-diagonal\" d=\"M0,0C7.1947999449907e-15,117.5,-117.5,1.43895998899814e-14,-235,2.87791997799628e-14\" stroke=\"transparent\" stroke-width=\"10\" fill=\"none\"/></g><g class=\"visx-group\" transform=\"translate(0, 25)\"><circle fill=\"url('#population-gradient')\" r=\"30\"/><text dy=\".33em\" fill=\"#ffffff\" font-family=\"Arial\" font-size=\"9\" text-anchor=\"middle\" style=\"pointer-events: none;\">pop</text></g><g class=\"visx-group\" transform=\"translate(235, 0)\"><rect height=\"25\" width=\"45\" fill=\"#ffffff\" rx=\"12\" stroke=\"#d54c4c\" stroke-width=\"1\" x=\"-22.5\" y=\"-12.5\"/><text dy=\".33em\" fill=\"#272b4d\" font-family=\"Arial\" font-size=\"9\" text-anchor=\"middle\" style=\"pointer-events: none;\">peripheral</text></g><g class=\"visx-group\" transform=\"translate(-235, 2.87791997799628e-14)\"><rect height=\"25\" width=\"45\" fill=\"#ffffff\" rx=\"12\" stroke=\"#d54c4c\" stroke-width=\"1\" x=\"-22.5\" y=\"-12.5\"/><text dy=\".33em\" fill=\"#272b4d\" font-family=\"Arial\" font-size=\"9\" text-anchor=\"middle\" style=\"pointer-events: none;\">another</text></g></g></svg>"
      ],
      "text/plain": [
       "DataModelWidget(serialized_svg='<?xml version=\"1.0\" standalone=\"no\"?>\\r\\n<svg xmlns=\"http://www.w3.org/2000/sv…"
      ]
     },
     "metadata": {},
     "output_type": "display_data"
    }
   ],
   "source": [
    "w = getml_jupyter_widgets.DataModelWidget()\n",
    "w"
   ]
  },
  {
   "cell_type": "code",
   "execution_count": 4,
   "metadata": {
    "tags": []
   },
   "outputs": [
    {
     "data": {
      "text/plain": [
       "[{'header': {'date': datetime.datetime(2023, 5, 17, 13, 16, 30, 522000, tzinfo=tzlocal()),\n",
       "   'msg_id': 'fefe2f09-45c6-44ed-a0e4-d805359ee292',\n",
       "   'msg_type': 'comm_msg',\n",
       "   'session': '3f315e7a-2bfe-4013-a3f6-d73e7914a4b1',\n",
       "   'username': '',\n",
       "   'version': '5.2'},\n",
       "  'msg_id': 'fefe2f09-45c6-44ed-a0e4-d805359ee292',\n",
       "  'msg_type': 'comm_msg',\n",
       "  'parent_header': {},\n",
       "  'metadata': {},\n",
       "  'content': {'comm_id': 'b15eba3e91b34c4a97b5a73be9645ff8',\n",
       "   'data': {'method': 'update',\n",
       "    'state': {'serialized_svg': '<?xml version=\"1.0\" standalone=\"no\"?>\\r\\n<svg xmlns=\"http://www.w3.org/2000/svg\" height=\"500\" width=\"600\"><defs><linearGradient id=\"population-gradient\" x1=\"0\" y1=\"0\" x2=\"0\" y2=\"1\"><stop offset=\"0%\" stop-color=\"#d54c4c\" stop-opacity=\"1\"/><stop offset=\"100%\" stop-color=\"#71248e\" stop-opacity=\"1\"/></linearGradient></defs><g class=\"visx-group\" transform=\"translate(300, 235)\"><g class=\"visx-group\" transform=\"translate(0, 0)\"><path class=\"visx-link visx-link-radial-diagonal\" d=\"M0,0C7.1947999449907e-15,117.5,7.1947999449907e-15,117.5,1.43895998899814e-14,235\" stroke=\"#374469\" stroke-width=\"1\" fill=\"none\"/><path class=\"visx-link visx-link-radial-diagonal\" d=\"M0,0C7.1947999449907e-15,117.5,7.1947999449907e-15,117.5,1.43895998899814e-14,235\" stroke=\"transparent\" stroke-width=\"10\" fill=\"none\"/></g><g class=\"visx-group\" transform=\"translate(0, 25)\"><circle fill=\"url(\\'#population-gradient\\')\" r=\"30\"/><text dy=\".33em\" fill=\"#ffffff\" font-family=\"Arial\" font-size=\"9\" text-anchor=\"middle\" style=\"pointer-events: none;\">population</text></g><g class=\"visx-group\" transform=\"translate(1.43895998899814e-14, 235)\"><rect height=\"25\" width=\"45\" fill=\"#ffffff\" rx=\"12\" stroke=\"#d54c4c\" stroke-width=\"1\" x=\"-22.5\" y=\"-12.5\"/><text dy=\".33em\" fill=\"#272b4d\" font-family=\"Arial\" font-size=\"9\" text-anchor=\"middle\" style=\"pointer-events: none;\">peripheral</text></g></g></svg>'},\n",
       "    'buffer_paths': []}},\n",
       "  'buffers': []},\n",
       " {<DisplayHandle display_id=c8a9187c3430572b68cca19c449742a7>}]"
      ]
     },
     "execution_count": 4,
     "metadata": {},
     "output_type": "execute_result"
    }
   ],
   "source": [
    "w.debug"
   ]
  },
  {
   "cell_type": "code",
   "execution_count": 10,
   "metadata": {
    "tags": []
   },
   "outputs": [
    {
     "ename": "NameError",
     "evalue": "name 'hd' is not defined",
     "output_type": "error",
     "traceback": [
      "\u001b[0;31m---------------------------------------------------------------------------\u001b[0m",
      "\u001b[0;31mNameError\u001b[0m                                 Traceback (most recent call last)",
      "Cell \u001b[0;32mIn[10], line 1\u001b[0m\n\u001b[0;32m----> 1\u001b[0m \u001b[43mhd\u001b[49m\u001b[38;5;241m.\u001b[39mupdate({\u001b[38;5;124m\"\u001b[39m\u001b[38;5;124mtext/plain\u001b[39m\u001b[38;5;124m\"\u001b[39m: \u001b[38;5;124m\"\u001b[39m\u001b[38;5;124mabc\u001b[39m\u001b[38;5;124m\"\u001b[39m}, raw\u001b[38;5;241m=\u001b[39m\u001b[38;5;28;01mTrue\u001b[39;00m)\n",
      "\u001b[0;31mNameError\u001b[0m: name 'hd' is not defined"
     ]
    }
   ],
   "source": [
    "hd.update({\"text/plain\": \"abc\"}, raw=True)"
   ]
  },
  {
   "cell_type": "code",
   "execution_count": 13,
   "metadata": {
    "tags": []
   },
   "outputs": [
    {
     "data": {
      "text/plain": [
       "{'0c278d87eaff6dc8accf5de9b107d784'}"
      ]
     },
     "execution_count": 13,
     "metadata": {},
     "output_type": "execute_result"
    }
   ],
   "source": [
    "w._output_cell_refs"
   ]
  },
  {
   "cell_type": "code",
   "execution_count": 5,
   "metadata": {
    "tags": []
   },
   "outputs": [],
   "source": [
    "w.tree = {\"name\": \"pop\", \"children\": [{\"name\": \"peripheral\", \"on\": \"key = key\"}, {\"name\": \"another\"}]}"
   ]
  },
  {
   "cell_type": "code",
   "execution_count": 6,
   "metadata": {
    "tags": []
   },
   "outputs": [
    {
     "data": {
      "text/plain": [
       "[{'header': {'date': datetime.datetime(2023, 5, 17, 13, 16, 30, 522000, tzinfo=tzlocal()),\n",
       "   'msg_id': 'fefe2f09-45c6-44ed-a0e4-d805359ee292',\n",
       "   'msg_type': 'comm_msg',\n",
       "   'session': '3f315e7a-2bfe-4013-a3f6-d73e7914a4b1',\n",
       "   'username': '',\n",
       "   'version': '5.2'},\n",
       "  'msg_id': 'fefe2f09-45c6-44ed-a0e4-d805359ee292',\n",
       "  'msg_type': 'comm_msg',\n",
       "  'parent_header': {},\n",
       "  'metadata': {},\n",
       "  'content': {'comm_id': 'b15eba3e91b34c4a97b5a73be9645ff8',\n",
       "   'data': {'method': 'update',\n",
       "    'state': {'serialized_svg': '<?xml version=\"1.0\" standalone=\"no\"?>\\r\\n<svg xmlns=\"http://www.w3.org/2000/svg\" height=\"500\" width=\"600\"><defs><linearGradient id=\"population-gradient\" x1=\"0\" y1=\"0\" x2=\"0\" y2=\"1\"><stop offset=\"0%\" stop-color=\"#d54c4c\" stop-opacity=\"1\"/><stop offset=\"100%\" stop-color=\"#71248e\" stop-opacity=\"1\"/></linearGradient></defs><g class=\"visx-group\" transform=\"translate(300, 235)\"><g class=\"visx-group\" transform=\"translate(0, 0)\"><path class=\"visx-link visx-link-radial-diagonal\" d=\"M0,0C7.1947999449907e-15,117.5,7.1947999449907e-15,117.5,1.43895998899814e-14,235\" stroke=\"#374469\" stroke-width=\"1\" fill=\"none\"/><path class=\"visx-link visx-link-radial-diagonal\" d=\"M0,0C7.1947999449907e-15,117.5,7.1947999449907e-15,117.5,1.43895998899814e-14,235\" stroke=\"transparent\" stroke-width=\"10\" fill=\"none\"/></g><g class=\"visx-group\" transform=\"translate(0, 25)\"><circle fill=\"url(\\'#population-gradient\\')\" r=\"30\"/><text dy=\".33em\" fill=\"#ffffff\" font-family=\"Arial\" font-size=\"9\" text-anchor=\"middle\" style=\"pointer-events: none;\">population</text></g><g class=\"visx-group\" transform=\"translate(1.43895998899814e-14, 235)\"><rect height=\"25\" width=\"45\" fill=\"#ffffff\" rx=\"12\" stroke=\"#d54c4c\" stroke-width=\"1\" x=\"-22.5\" y=\"-12.5\"/><text dy=\".33em\" fill=\"#272b4d\" font-family=\"Arial\" font-size=\"9\" text-anchor=\"middle\" style=\"pointer-events: none;\">peripheral</text></g></g></svg>'},\n",
       "    'buffer_paths': []}},\n",
       "  'buffers': []},\n",
       " {<DisplayHandle display_id=c8a9187c3430572b68cca19c449742a7>},\n",
       " {'header': {'date': datetime.datetime(2023, 5, 17, 13, 16, 58, 701000, tzinfo=tzlocal()),\n",
       "   'msg_id': 'adb6b8fa-6d17-485c-8361-f82e7dd0d105',\n",
       "   'msg_type': 'comm_msg',\n",
       "   'session': '3f315e7a-2bfe-4013-a3f6-d73e7914a4b1',\n",
       "   'username': '',\n",
       "   'version': '5.2'},\n",
       "  'msg_id': 'adb6b8fa-6d17-485c-8361-f82e7dd0d105',\n",
       "  'msg_type': 'comm_msg',\n",
       "  'parent_header': {},\n",
       "  'metadata': {},\n",
       "  'content': {'comm_id': 'b15eba3e91b34c4a97b5a73be9645ff8',\n",
       "   'data': {'method': 'update',\n",
       "    'state': {'serialized_svg': '<?xml version=\"1.0\" standalone=\"no\"?>\\r\\n<svg xmlns=\"http://www.w3.org/2000/svg\" height=\"500\" width=\"600\"><defs><linearGradient id=\"population-gradient\" x1=\"0\" y1=\"0\" x2=\"0\" y2=\"1\"><stop offset=\"0%\" stop-color=\"#d54c4c\" stop-opacity=\"1\"/><stop offset=\"100%\" stop-color=\"#71248e\" stop-opacity=\"1\"/></linearGradient></defs><g class=\"visx-group\" transform=\"translate(300, 235)\"><g class=\"visx-group\" transform=\"translate(0, 0)\"><path class=\"visx-link visx-link-radial-diagonal\" d=\"M0,0C7.1947999449907e-15,117.5,117.5,0,235,0\" stroke=\"#374469\" stroke-width=\"1\" fill=\"none\"/><path class=\"visx-link visx-link-radial-diagonal\" d=\"M0,0C7.1947999449907e-15,117.5,117.5,0,235,0\" stroke=\"transparent\" stroke-width=\"10\" fill=\"none\"/></g><g class=\"visx-group\" transform=\"translate(0, 0)\"><path class=\"visx-link visx-link-radial-diagonal\" d=\"M0,0C7.1947999449907e-15,117.5,-117.5,1.43895998899814e-14,-235,2.87791997799628e-14\" stroke=\"#374469\" stroke-width=\"1\" fill=\"none\"/><path class=\"visx-link visx-link-radial-diagonal\" d=\"M0,0C7.1947999449907e-15,117.5,-117.5,1.43895998899814e-14,-235,2.87791997799628e-14\" stroke=\"transparent\" stroke-width=\"10\" fill=\"none\"/></g><g class=\"visx-group\" transform=\"translate(0, 25)\"><circle fill=\"url(\\'#population-gradient\\')\" r=\"30\"/><text dy=\".33em\" fill=\"#ffffff\" font-family=\"Arial\" font-size=\"9\" text-anchor=\"middle\" style=\"pointer-events: none;\">pop</text></g><g class=\"visx-group\" transform=\"translate(235, 0)\"><rect height=\"25\" width=\"45\" fill=\"#ffffff\" rx=\"12\" stroke=\"#d54c4c\" stroke-width=\"1\" x=\"-22.5\" y=\"-12.5\"/><text dy=\".33em\" fill=\"#272b4d\" font-family=\"Arial\" font-size=\"9\" text-anchor=\"middle\" style=\"pointer-events: none;\">peripheral</text></g><g class=\"visx-group\" transform=\"translate(-235, 2.87791997799628e-14)\"><rect height=\"25\" width=\"45\" fill=\"#ffffff\" rx=\"12\" stroke=\"#d54c4c\" stroke-width=\"1\" x=\"-22.5\" y=\"-12.5\"/><text dy=\".33em\" fill=\"#272b4d\" font-family=\"Arial\" font-size=\"9\" text-anchor=\"middle\" style=\"pointer-events: none;\">another</text></g></g></svg>'},\n",
       "    'buffer_paths': []}},\n",
       "  'buffers': []},\n",
       " {<DisplayHandle display_id=c8a9187c3430572b68cca19c449742a7>}]"
      ]
     },
     "execution_count": 6,
     "metadata": {},
     "output_type": "execute_result"
    }
   ],
   "source": [
    "w.debug"
   ]
  },
  {
   "cell_type": "code",
   "execution_count": 8,
   "metadata": {},
   "outputs": [
    {
     "data": {
      "text/plain": [
       "[{'header': {'date': datetime.datetime(2023, 5, 17, 12, 14, 50, 894000, tzinfo=tzlocal()),\n",
       "   'msg_id': '0e083609-84e6-4b0d-b7cc-cbaf7f37e500',\n",
       "   'msg_type': 'comm_msg',\n",
       "   'session': '3f315e7a-2bfe-4013-a3f6-d73e7914a4b1',\n",
       "   'username': '',\n",
       "   'version': '5.2'},\n",
       "  'msg_id': '0e083609-84e6-4b0d-b7cc-cbaf7f37e500',\n",
       "  'msg_type': 'comm_msg',\n",
       "  'parent_header': {},\n",
       "  'metadata': {},\n",
       "  'content': {'comm_id': 'db95ca9b459140a19d8bdf1987da3d10',\n",
       "   'data': {'method': 'update',\n",
       "    'state': {'serialized_svg': '<?xml version=\"1.0\" standalone=\"no\"?>\\r\\n<svg xmlns=\"http://www.w3.org/2000/svg\" height=\"500\" width=\"600\"><defs><linearGradient id=\"population-gradient\" x1=\"0\" y1=\"0\" x2=\"0\" y2=\"1\"><stop offset=\"0%\" stop-color=\"#d54c4c\" stop-opacity=\"1\"/><stop offset=\"100%\" stop-color=\"#71248e\" stop-opacity=\"1\"/></linearGradient></defs><g class=\"visx-group\" transform=\"translate(300, 235)\"><g class=\"visx-group\" transform=\"translate(0, 0)\"><path class=\"visx-link visx-link-radial-diagonal\" d=\"M0,0C7.1947999449907e-15,117.5,7.1947999449907e-15,117.5,1.43895998899814e-14,235\" stroke=\"#374469\" stroke-width=\"1\" fill=\"none\"/><path class=\"visx-link visx-link-radial-diagonal\" d=\"M0,0C7.1947999449907e-15,117.5,7.1947999449907e-15,117.5,1.43895998899814e-14,235\" stroke=\"transparent\" stroke-width=\"10\" fill=\"none\"/></g><g class=\"visx-group\" transform=\"translate(0, 25)\"><circle fill=\"url(\\'#population-gradient\\')\" r=\"30\"/><text dy=\".33em\" fill=\"#ffffff\" font-family=\"Arial\" font-size=\"9\" text-anchor=\"middle\" style=\"pointer-events: none;\">population</text></g><g class=\"visx-group\" transform=\"translate(1.43895998899814e-14, 235)\"><rect height=\"25\" width=\"45\" fill=\"#ffffff\" rx=\"12\" stroke=\"#d54c4c\" stroke-width=\"1\" x=\"-22.5\" y=\"-12.5\"/><text dy=\".33em\" fill=\"#272b4d\" font-family=\"Arial\" font-size=\"9\" text-anchor=\"middle\" style=\"pointer-events: none;\">peripheral</text></g></g></svg>'},\n",
       "    'buffer_paths': []}},\n",
       "  'buffers': []},\n",
       " {'header': {'date': datetime.datetime(2023, 5, 17, 12, 17, 21, 733000, tzinfo=tzlocal()),\n",
       "   'msg_id': 'daa78e7f-6323-4f62-a671-1956075c6443',\n",
       "   'msg_type': 'comm_msg',\n",
       "   'session': '3f315e7a-2bfe-4013-a3f6-d73e7914a4b1',\n",
       "   'username': '',\n",
       "   'version': '5.2'},\n",
       "  'msg_id': 'daa78e7f-6323-4f62-a671-1956075c6443',\n",
       "  'msg_type': 'comm_msg',\n",
       "  'parent_header': {},\n",
       "  'metadata': {},\n",
       "  'content': {'comm_id': '179e73780e2b4ac589f1c5c880141b99',\n",
       "   'data': {'method': 'update',\n",
       "    'state': {'serialized_svg': '<?xml version=\"1.0\" standalone=\"no\"?>\\r\\n<svg xmlns=\"http://www.w3.org/2000/svg\" height=\"500\" width=\"600\"><defs><linearGradient id=\"population-gradient\" x1=\"0\" y1=\"0\" x2=\"0\" y2=\"1\"><stop offset=\"0%\" stop-color=\"#d54c4c\" stop-opacity=\"1\"/><stop offset=\"100%\" stop-color=\"#71248e\" stop-opacity=\"1\"/></linearGradient></defs><g class=\"visx-group\" transform=\"translate(300, 235)\"><g class=\"visx-group\" transform=\"translate(0, 0)\"><path class=\"visx-link visx-link-radial-diagonal\" d=\"M0,0C7.1947999449907e-15,117.5,7.1947999449907e-15,117.5,1.43895998899814e-14,235\" stroke=\"#374469\" stroke-width=\"1\" fill=\"none\"/><path class=\"visx-link visx-link-radial-diagonal\" d=\"M0,0C7.1947999449907e-15,117.5,7.1947999449907e-15,117.5,1.43895998899814e-14,235\" stroke=\"transparent\" stroke-width=\"10\" fill=\"none\"/></g><g class=\"visx-group\" transform=\"translate(0, 25)\"><circle fill=\"url(\\'#population-gradient\\')\" r=\"30\"/><text dy=\".33em\" fill=\"#ffffff\" font-family=\"Arial\" font-size=\"9\" text-anchor=\"middle\" style=\"pointer-events: none;\">population</text></g><g class=\"visx-group\" transform=\"translate(1.43895998899814e-14, 235)\"><rect height=\"25\" width=\"45\" fill=\"#ffffff\" rx=\"12\" stroke=\"#d54c4c\" stroke-width=\"1\" x=\"-22.5\" y=\"-12.5\"/><text dy=\".33em\" fill=\"#272b4d\" font-family=\"Arial\" font-size=\"9\" text-anchor=\"middle\" style=\"pointer-events: none;\">peripheral</text></g></g></svg>'},\n",
       "    'buffer_paths': []}},\n",
       "  'buffers': []}]"
      ]
     },
     "execution_count": 8,
     "metadata": {},
     "output_type": "execute_result"
    }
   ],
   "source": [
    "w.debug"
   ]
  },
  {
   "cell_type": "code",
   "execution_count": null,
   "metadata": {},
   "outputs": [],
   "source": []
  }
 ],
 "metadata": {
  "kernelspec": {
   "display_name": "Python 3 (ipykernel)",
   "language": "python",
   "name": "python3"
  },
  "language_info": {
   "codemirror_mode": {
    "name": "ipython",
    "version": 3
   },
   "file_extension": ".py",
   "mimetype": "text/x-python",
   "name": "python",
   "nbconvert_exporter": "python",
   "pygments_lexer": "ipython3",
   "version": "3.11.3"
  },
  "widgets": {
   "application/vnd.jupyter.widget-state+json": {
    "state": {
     "b15eba3e91b34c4a97b5a73be9645ff8": {
      "model_module": "getml-jupyter-widgets",
      "model_module_version": "^0.1.0",
      "model_name": "DataModelWidgetModel",
      "state": {
       "_model_module_version": "^0.1.0",
       "_view_module_version": "^0.1.0",
       "layout": "IPY_MODEL_b3a62c62f6d04fb6bcedd298f276013b",
       "serialized_svg": "<?xml version=\"1.0\" standalone=\"no\"?>\r\n<svg xmlns=\"http://www.w3.org/2000/svg\" height=\"500\" width=\"600\"><defs><linearGradient id=\"population-gradient\" x1=\"0\" y1=\"0\" x2=\"0\" y2=\"1\"><stop offset=\"0%\" stop-color=\"#d54c4c\" stop-opacity=\"1\"/><stop offset=\"100%\" stop-color=\"#71248e\" stop-opacity=\"1\"/></linearGradient></defs><g class=\"visx-group\" transform=\"translate(300, 235)\"><g class=\"visx-group\" transform=\"translate(0, 0)\"><path class=\"visx-link visx-link-radial-diagonal\" d=\"M0,0C7.1947999449907e-15,117.5,117.5,0,235,0\" stroke=\"#374469\" stroke-width=\"1\" fill=\"none\"/><path class=\"visx-link visx-link-radial-diagonal\" d=\"M0,0C7.1947999449907e-15,117.5,117.5,0,235,0\" stroke=\"transparent\" stroke-width=\"10\" fill=\"none\"/></g><g class=\"visx-group\" transform=\"translate(0, 0)\"><path class=\"visx-link visx-link-radial-diagonal\" d=\"M0,0C7.1947999449907e-15,117.5,-117.5,1.43895998899814e-14,-235,2.87791997799628e-14\" stroke=\"#374469\" stroke-width=\"1\" fill=\"none\"/><path class=\"visx-link visx-link-radial-diagonal\" d=\"M0,0C7.1947999449907e-15,117.5,-117.5,1.43895998899814e-14,-235,2.87791997799628e-14\" stroke=\"transparent\" stroke-width=\"10\" fill=\"none\"/></g><g class=\"visx-group\" transform=\"translate(0, 25)\"><circle fill=\"url('#population-gradient')\" r=\"30\"/><text dy=\".33em\" fill=\"#ffffff\" font-family=\"Arial\" font-size=\"9\" text-anchor=\"middle\" style=\"pointer-events: none;\">pop</text></g><g class=\"visx-group\" transform=\"translate(235, 0)\"><rect height=\"25\" width=\"45\" fill=\"#ffffff\" rx=\"12\" stroke=\"#d54c4c\" stroke-width=\"1\" x=\"-22.5\" y=\"-12.5\"/><text dy=\".33em\" fill=\"#272b4d\" font-family=\"Arial\" font-size=\"9\" text-anchor=\"middle\" style=\"pointer-events: none;\">peripheral</text></g><g class=\"visx-group\" transform=\"translate(-235, 2.87791997799628e-14)\"><rect height=\"25\" width=\"45\" fill=\"#ffffff\" rx=\"12\" stroke=\"#d54c4c\" stroke-width=\"1\" x=\"-22.5\" y=\"-12.5\"/><text dy=\".33em\" fill=\"#272b4d\" font-family=\"Arial\" font-size=\"9\" text-anchor=\"middle\" style=\"pointer-events: none;\">another</text></g></g></svg>",
       "tree": {
        "children": [
         {
          "name": "peripheral",
          "on": "key = key"
         },
         {
          "name": "another"
         }
        ],
        "name": "pop"
       }
      }
     },
     "b3a62c62f6d04fb6bcedd298f276013b": {
      "model_module": "@jupyter-widgets/base",
      "model_module_version": "2.0.0",
      "model_name": "LayoutModel",
      "state": {}
     }
    },
    "version_major": 2,
    "version_minor": 0
   }
  }
 },
 "nbformat": 4,
 "nbformat_minor": 4
}
