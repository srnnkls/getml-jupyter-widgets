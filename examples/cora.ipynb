{
 "cells": [
  {
   "cell_type": "markdown",
   "metadata": {},
   "source": [
    "# CORA - Categorizing academic publications using getML\n",
    "\n",
    "In this notebook, we compare getML against extant approaches in the relational learning literature on the CORA data set, which is often used for benchmarking. We demonstrate that getML outperforms the state of the art in the relational learning literature on this data set. Beyond the benchmarking aspects, this notebooks showcases getML's excellent capabilities in dealing with categorical data.\n",
    "\n",
    "Summary:\n",
    "\n",
    "- Prediction type: __Classification model__\n",
    "- Domain: __Academia__\n",
    "- Prediction target: __The category of a paper__ \n",
    "- Population size: __2708__\n",
    "\n",
    "_Author: Dr. Patrick Urbanke_"
   ]
  },
  {
   "cell_type": "markdown",
   "metadata": {},
   "source": [
    " "
   ]
  },
  {
   "cell_type": "markdown",
   "metadata": {},
   "source": [
    "# Background\n",
    "\n",
    "CORA is a well-known benchmarking dataset in the academic literature on relational learning. The dataset contains 2708 scientific publications on machine learning. The papers are divided into 7 categories. The challenge is to predict the category of a paper based on the papers it cites, the papers it is cited by and keywords contained in the paper.\n",
    "\n",
    "It has been downloaded from the [CTU Prague relational learning repository](https://relational.fit.cvut.cz/dataset/CORA) (Motl and Schulte, 2015)."
   ]
  },
  {
   "cell_type": "markdown",
   "metadata": {},
   "source": [
    " "
   ]
  },
  {
   "cell_type": "markdown",
   "metadata": {},
   "source": [
    "### A web frontend for getML\n",
    "\n",
    "The getML monitor is a frontend built to support your work with getML. The getML monitor displays information such as the imported data frames, trained pipelines and allows easy data and feature exploration. You can launch the getML monitor [here](http://localhost:1709)."
   ]
  },
  {
   "cell_type": "markdown",
   "metadata": {},
   "source": [
    " "
   ]
  },
  {
   "cell_type": "markdown",
   "metadata": {},
   "source": [
    "### Where is this running?\n",
    "\n",
    "Your getML live session is running inside a docker container on [mybinder.org](https://mybinder.org/), a service built by the Jupyter community and funded by Google Cloud, OVH, GESIS Notebooks and the Turing Institute. As it is a free service, this session will shut down after 10 minutes of inactivity."
   ]
  },
  {
   "cell_type": "markdown",
   "metadata": {},
   "source": [
    " "
   ]
  },
  {
   "cell_type": "markdown",
   "metadata": {},
   "source": [
    "# Analysis"
   ]
  },
  {
   "cell_type": "markdown",
   "metadata": {},
   "source": [
    "Let's get started with the analysis and set up your session:"
   ]
  },
  {
   "cell_type": "code",
   "execution_count": 1,
   "metadata": {
    "tags": []
   },
   "outputs": [
    {
     "name": "stdout",
     "output_type": "stream",
     "text": [
      "getML engine is already running.\n",
      "\n",
      "Connected to project 'cora'\n",
      "http://localhost:1709/#/listprojects/cora/\n"
     ]
    }
   ],
   "source": [
    "import copy\n",
    "import os\n",
    "from urllib import request\n",
    "\n",
    "import numpy as np\n",
    "import pandas as pd\n",
    "from IPython.display import Image\n",
    "import getml\n",
    "\n",
    "getml.engine.launch()\n",
    "getml.engine.set_project('cora')"
   ]
  },
  {
   "cell_type": "markdown",
   "metadata": {},
   "source": [
    " "
   ]
  },
  {
   "cell_type": "markdown",
   "metadata": {},
   "source": [
    "## 1. Loading data"
   ]
  },
  {
   "cell_type": "markdown",
   "metadata": {},
   "source": [
    "### 1.1 Download from source\n",
    "\n",
    "We begin by downloading the data from the source file:"
   ]
  },
  {
   "cell_type": "code",
   "execution_count": 2,
   "metadata": {
    "tags": []
   },
   "outputs": [
    {
     "data": {
      "text/plain": [
       "Connection(conn_id='default',\n",
       "           dbname='CORA',\n",
       "           dialect='mysql',\n",
       "           host='relational.fit.cvut.cz',\n",
       "           port=3306)"
      ]
     },
     "execution_count": 2,
     "metadata": {},
     "output_type": "execute_result"
    }
   ],
   "source": [
    "conn = getml.database.connect_mariadb(\n",
    "    host=\"relational.fit.cvut.cz\",\n",
    "    dbname=\"CORA\",\n",
    "    port=3306,\n",
    "    user=\"guest\",\n",
    "    password=\"relational\"\n",
    ")\n",
    "\n",
    "conn"
   ]
  },
  {
   "cell_type": "code",
   "execution_count": 3,
   "metadata": {
    "tags": []
   },
   "outputs": [],
   "source": [
    "def load_if_needed(name):\n",
    "    \"\"\"\n",
    "    Loads the data from the relational learning\n",
    "    repository, if the data frame has not already\n",
    "    been loaded.\n",
    "    \"\"\"\n",
    "    if not getml.data.exists(name):\n",
    "        data_frame = getml.data.DataFrame.from_db(\n",
    "            name=name,\n",
    "            table_name=name,\n",
    "            conn=conn\n",
    "        )\n",
    "        data_frame.save()\n",
    "    else:\n",
    "        data_frame = getml.data.load_data_frame(name)\n",
    "    return data_frame"
   ]
  },
  {
   "cell_type": "code",
   "execution_count": 4,
   "metadata": {
    "tags": []
   },
   "outputs": [],
   "source": [
    "paper = load_if_needed(\"paper\")\n",
    "cites = load_if_needed(\"cites\")\n",
    "content = load_if_needed(\"content\")"
   ]
  },
  {
   "cell_type": "code",
   "execution_count": 5,
   "metadata": {
    "tags": []
   },
   "outputs": [
    {
     "data": {
      "text/html": [
       "<style>\n",
       "  table {\n",
       "    font-family: Helvetica, sans-serif;\n",
       "  }\n",
       "\n",
       "  th {\n",
       "    text-align: left !important;\n",
       "  }\n",
       "  td {\n",
       "    text-align: left !important;\n",
       "  }\n",
       "  th:nth-child(1) {\n",
       "    text-align: right !important;\n",
       "    border-right: 1px solid LightGray;\n",
       "  }\n",
       "  th.sub-header {\n",
       "    font-weight: normal;\n",
       "    font-style: italic;\n",
       "  }\n",
       "  .join_key,\n",
       "  .numerical,\n",
       "  .target,\n",
       "  .unused_float {\n",
       "    text-align: right !important;\n",
       "  }\n",
       "\n",
       "  .char-align {\n",
       "    text-align: right !important;\n",
       "  }\n",
       "  span.left {\n",
       "    text-align: right;\n",
       "    width: 3em;\n",
       "  }\n",
       "  span.right {\n",
       "    float: right;\n",
       "    text-align: left;\n",
       "  }\n",
       "</style>\n",
       "\n",
       "<table class=\"dataframe\">\n",
       "  <thead>\n",
       "    <tr>\n",
       "      \n",
       "        \n",
       "          <th>name</th>\n",
       "        \n",
       "      \n",
       "        \n",
       "          <th class=\"join_key\">paper_id</th>\n",
       "        \n",
       "      \n",
       "        \n",
       "          <th class=\"categorical\">class_label           </th>\n",
       "        \n",
       "      \n",
       "    </tr>\n",
       "    \n",
       "      <tr>\n",
       "        \n",
       "          \n",
       "            <th class=\"sub-header\">role</th>\n",
       "          \n",
       "        \n",
       "          \n",
       "            <th class=\"sub-header join_key\">join_key</th>\n",
       "          \n",
       "        \n",
       "          \n",
       "            <th class=\"sub-header categorical\">categorical           </th>\n",
       "          \n",
       "        \n",
       "      </tr>\n",
       "    \n",
       "  </thead>\n",
       "  <tbody>\n",
       "    \n",
       "      <tr>\n",
       "        <th>0</th>\n",
       "        \n",
       "          \n",
       "            <td class=\"join_key\">35</td>\n",
       "          \n",
       "        \n",
       "          \n",
       "            <td class=\"categorical\">Genetic_Algorithms</td>\n",
       "          \n",
       "        \n",
       "      </tr>\n",
       "    \n",
       "      <tr>\n",
       "        <th>1</th>\n",
       "        \n",
       "          \n",
       "            <td class=\"join_key\">40</td>\n",
       "          \n",
       "        \n",
       "          \n",
       "            <td class=\"categorical\">Genetic_Algorithms</td>\n",
       "          \n",
       "        \n",
       "      </tr>\n",
       "    \n",
       "      <tr>\n",
       "        <th>2</th>\n",
       "        \n",
       "          \n",
       "            <td class=\"join_key\">114</td>\n",
       "          \n",
       "        \n",
       "          \n",
       "            <td class=\"categorical\">Reinforcement_Learning</td>\n",
       "          \n",
       "        \n",
       "      </tr>\n",
       "    \n",
       "      <tr>\n",
       "        <th>3</th>\n",
       "        \n",
       "          \n",
       "            <td class=\"join_key\">117</td>\n",
       "          \n",
       "        \n",
       "          \n",
       "            <td class=\"categorical\">Reinforcement_Learning</td>\n",
       "          \n",
       "        \n",
       "      </tr>\n",
       "    \n",
       "      <tr>\n",
       "        <th>4</th>\n",
       "        \n",
       "          \n",
       "            <td class=\"join_key\">128</td>\n",
       "          \n",
       "        \n",
       "          \n",
       "            <td class=\"categorical\">Reinforcement_Learning</td>\n",
       "          \n",
       "        \n",
       "      </tr>\n",
       "    \n",
       "      <tr>\n",
       "        <th></th>\n",
       "        \n",
       "          \n",
       "            <td class=\"join_key\">...</td>\n",
       "          \n",
       "        \n",
       "          \n",
       "            <td class=\"categorical\">...</td>\n",
       "          \n",
       "        \n",
       "      </tr>\n",
       "    \n",
       "      <tr>\n",
       "        <th>2703</th>\n",
       "        \n",
       "          \n",
       "            <td class=\"join_key\">1154500</td>\n",
       "          \n",
       "        \n",
       "          \n",
       "            <td class=\"categorical\">Case_Based</td>\n",
       "          \n",
       "        \n",
       "      </tr>\n",
       "    \n",
       "      <tr>\n",
       "        <th>2704</th>\n",
       "        \n",
       "          \n",
       "            <td class=\"join_key\">1154520</td>\n",
       "          \n",
       "        \n",
       "          \n",
       "            <td class=\"categorical\">Neural_Networks</td>\n",
       "          \n",
       "        \n",
       "      </tr>\n",
       "    \n",
       "      <tr>\n",
       "        <th>2705</th>\n",
       "        \n",
       "          \n",
       "            <td class=\"join_key\">1154524</td>\n",
       "          \n",
       "        \n",
       "          \n",
       "            <td class=\"categorical\">Rule_Learning</td>\n",
       "          \n",
       "        \n",
       "      </tr>\n",
       "    \n",
       "      <tr>\n",
       "        <th>2706</th>\n",
       "        \n",
       "          \n",
       "            <td class=\"join_key\">1154525</td>\n",
       "          \n",
       "        \n",
       "          \n",
       "            <td class=\"categorical\">Rule_Learning</td>\n",
       "          \n",
       "        \n",
       "      </tr>\n",
       "    \n",
       "      <tr>\n",
       "        <th>2707</th>\n",
       "        \n",
       "          \n",
       "            <td class=\"join_key\">1155073</td>\n",
       "          \n",
       "        \n",
       "          \n",
       "            <td class=\"categorical\">Rule_Learning</td>\n",
       "          \n",
       "        \n",
       "      </tr>\n",
       "    \n",
       "  </tbody>\n",
       "</table>\n",
       "\n",
       "  <p>\n",
       "    2708 rows x 2 columns<br />\n",
       "    memory usage: 0.02 MB<br />\n",
       "    name: paper<br />\n",
       "    type: getml.DataFrame<br />\n",
       "    \n",
       "        url: <a href=\"http://localhost:1709/#/getdataframe/cora/paper/\" target=\"_blank\"> http://localhost:1709/#/getdataframe/cora/paper/</a>\n",
       "    \n",
       "  </p>\n"
      ],
      "text/plain": [
       "name   paper_id   class_label           \n",
       "role   join_key   categorical           \n",
       "   0         35   Genetic_Algorithms    \n",
       "   1         40   Genetic_Algorithms    \n",
       "   2        114   Reinforcement_Learning\n",
       "   3        117   Reinforcement_Learning\n",
       "   4        128   Reinforcement_Learning\n",
       "            ...   ...                   \n",
       "2703    1154500   Case_Based            \n",
       "2704    1154520   Neural_Networks       \n",
       "2705    1154524   Rule_Learning         \n",
       "2706    1154525   Rule_Learning         \n",
       "2707    1155073   Rule_Learning         \n",
       "\n",
       "\n",
       "2708 rows x 2 columns\n",
       "memory usage: 0.02 MB\n",
       "name: paper\n",
       "type: getml.DataFrame\n",
       "url: http://localhost:1709/#/getdataframe/cora/paper/"
      ]
     },
     "execution_count": 5,
     "metadata": {},
     "output_type": "execute_result"
    }
   ],
   "source": [
    "paper"
   ]
  },
  {
   "cell_type": "code",
   "execution_count": 6,
   "metadata": {
    "tags": []
   },
   "outputs": [
    {
     "data": {
      "text/html": [
       "<style>\n",
       "  table {\n",
       "    font-family: Helvetica, sans-serif;\n",
       "  }\n",
       "\n",
       "  th {\n",
       "    text-align: left !important;\n",
       "  }\n",
       "  td {\n",
       "    text-align: left !important;\n",
       "  }\n",
       "  th:nth-child(1) {\n",
       "    text-align: right !important;\n",
       "    border-right: 1px solid LightGray;\n",
       "  }\n",
       "  th.sub-header {\n",
       "    font-weight: normal;\n",
       "    font-style: italic;\n",
       "  }\n",
       "  .join_key,\n",
       "  .numerical,\n",
       "  .target,\n",
       "  .unused_float {\n",
       "    text-align: right !important;\n",
       "  }\n",
       "\n",
       "  .char-align {\n",
       "    text-align: right !important;\n",
       "  }\n",
       "  span.left {\n",
       "    text-align: right;\n",
       "    width: 3em;\n",
       "  }\n",
       "  span.right {\n",
       "    float: right;\n",
       "    text-align: left;\n",
       "  }\n",
       "</style>\n",
       "\n",
       "<table class=\"dataframe\">\n",
       "  <thead>\n",
       "    <tr>\n",
       "      \n",
       "        \n",
       "          <th>name</th>\n",
       "        \n",
       "      \n",
       "        \n",
       "          <th class=\"join_key\">cited_paper_id</th>\n",
       "        \n",
       "      \n",
       "        \n",
       "          <th class=\"join_key\">citing_paper_id</th>\n",
       "        \n",
       "      \n",
       "    </tr>\n",
       "    \n",
       "      <tr>\n",
       "        \n",
       "          \n",
       "            <th class=\"sub-header\">role</th>\n",
       "          \n",
       "        \n",
       "          \n",
       "            <th class=\"sub-header join_key\">      join_key</th>\n",
       "          \n",
       "        \n",
       "          \n",
       "            <th class=\"sub-header join_key\">       join_key</th>\n",
       "          \n",
       "        \n",
       "      </tr>\n",
       "    \n",
       "  </thead>\n",
       "  <tbody>\n",
       "    \n",
       "      <tr>\n",
       "        <th>0</th>\n",
       "        \n",
       "          \n",
       "            <td class=\"join_key\">35</td>\n",
       "          \n",
       "        \n",
       "          \n",
       "            <td class=\"join_key\">887</td>\n",
       "          \n",
       "        \n",
       "      </tr>\n",
       "    \n",
       "      <tr>\n",
       "        <th>1</th>\n",
       "        \n",
       "          \n",
       "            <td class=\"join_key\">35</td>\n",
       "          \n",
       "        \n",
       "          \n",
       "            <td class=\"join_key\">1033</td>\n",
       "          \n",
       "        \n",
       "      </tr>\n",
       "    \n",
       "      <tr>\n",
       "        <th>2</th>\n",
       "        \n",
       "          \n",
       "            <td class=\"join_key\">35</td>\n",
       "          \n",
       "        \n",
       "          \n",
       "            <td class=\"join_key\">1688</td>\n",
       "          \n",
       "        \n",
       "      </tr>\n",
       "    \n",
       "      <tr>\n",
       "        <th>3</th>\n",
       "        \n",
       "          \n",
       "            <td class=\"join_key\">35</td>\n",
       "          \n",
       "        \n",
       "          \n",
       "            <td class=\"join_key\">1956</td>\n",
       "          \n",
       "        \n",
       "      </tr>\n",
       "    \n",
       "      <tr>\n",
       "        <th>4</th>\n",
       "        \n",
       "          \n",
       "            <td class=\"join_key\">35</td>\n",
       "          \n",
       "        \n",
       "          \n",
       "            <td class=\"join_key\">8865</td>\n",
       "          \n",
       "        \n",
       "      </tr>\n",
       "    \n",
       "      <tr>\n",
       "        <th></th>\n",
       "        \n",
       "          \n",
       "            <td class=\"join_key\">...</td>\n",
       "          \n",
       "        \n",
       "          \n",
       "            <td class=\"join_key\">...</td>\n",
       "          \n",
       "        \n",
       "      </tr>\n",
       "    \n",
       "      <tr>\n",
       "        <th>5424</th>\n",
       "        \n",
       "          \n",
       "            <td class=\"join_key\">853116</td>\n",
       "          \n",
       "        \n",
       "          \n",
       "            <td class=\"join_key\">19621</td>\n",
       "          \n",
       "        \n",
       "      </tr>\n",
       "    \n",
       "      <tr>\n",
       "        <th>5425</th>\n",
       "        \n",
       "          \n",
       "            <td class=\"join_key\">853116</td>\n",
       "          \n",
       "        \n",
       "          \n",
       "            <td class=\"join_key\">853155</td>\n",
       "          \n",
       "        \n",
       "      </tr>\n",
       "    \n",
       "      <tr>\n",
       "        <th>5426</th>\n",
       "        \n",
       "          \n",
       "            <td class=\"join_key\">853118</td>\n",
       "          \n",
       "        \n",
       "          \n",
       "            <td class=\"join_key\">1140289</td>\n",
       "          \n",
       "        \n",
       "      </tr>\n",
       "    \n",
       "      <tr>\n",
       "        <th>5427</th>\n",
       "        \n",
       "          \n",
       "            <td class=\"join_key\">853155</td>\n",
       "          \n",
       "        \n",
       "          \n",
       "            <td class=\"join_key\">853118</td>\n",
       "          \n",
       "        \n",
       "      </tr>\n",
       "    \n",
       "      <tr>\n",
       "        <th>5428</th>\n",
       "        \n",
       "          \n",
       "            <td class=\"join_key\">954315</td>\n",
       "          \n",
       "        \n",
       "          \n",
       "            <td class=\"join_key\">1155073</td>\n",
       "          \n",
       "        \n",
       "      </tr>\n",
       "    \n",
       "  </tbody>\n",
       "</table>\n",
       "\n",
       "  <p>\n",
       "    5429 rows x 2 columns<br />\n",
       "    memory usage: 0.04 MB<br />\n",
       "    name: cites<br />\n",
       "    type: getml.DataFrame<br />\n",
       "    \n",
       "        url: <a href=\"http://localhost:1709/#/getdataframe/cora/cites/\" target=\"_blank\"> http://localhost:1709/#/getdataframe/cora/cites/</a>\n",
       "    \n",
       "  </p>\n"
      ],
      "text/plain": [
       "name   cited_paper_id   citing_paper_id\n",
       "role         join_key          join_key\n",
       "   0               35               887\n",
       "   1               35              1033\n",
       "   2               35              1688\n",
       "   3               35              1956\n",
       "   4               35              8865\n",
       "                  ...               ...\n",
       "5424           853116             19621\n",
       "5425           853116            853155\n",
       "5426           853118           1140289\n",
       "5427           853155            853118\n",
       "5428           954315           1155073\n",
       "\n",
       "\n",
       "5429 rows x 2 columns\n",
       "memory usage: 0.04 MB\n",
       "name: cites\n",
       "type: getml.DataFrame\n",
       "url: http://localhost:1709/#/getdataframe/cora/cites/"
      ]
     },
     "execution_count": 6,
     "metadata": {},
     "output_type": "execute_result"
    }
   ],
   "source": [
    "cites"
   ]
  },
  {
   "cell_type": "code",
   "execution_count": 7,
   "metadata": {
    "tags": []
   },
   "outputs": [
    {
     "data": {
      "text/html": [
       "<style>\n",
       "  table {\n",
       "    font-family: Helvetica, sans-serif;\n",
       "  }\n",
       "\n",
       "  th {\n",
       "    text-align: left !important;\n",
       "  }\n",
       "  td {\n",
       "    text-align: left !important;\n",
       "  }\n",
       "  th:nth-child(1) {\n",
       "    text-align: right !important;\n",
       "    border-right: 1px solid LightGray;\n",
       "  }\n",
       "  th.sub-header {\n",
       "    font-weight: normal;\n",
       "    font-style: italic;\n",
       "  }\n",
       "  .join_key,\n",
       "  .numerical,\n",
       "  .target,\n",
       "  .unused_float {\n",
       "    text-align: right !important;\n",
       "  }\n",
       "\n",
       "  .char-align {\n",
       "    text-align: right !important;\n",
       "  }\n",
       "  span.left {\n",
       "    text-align: right;\n",
       "    width: 3em;\n",
       "  }\n",
       "  span.right {\n",
       "    float: right;\n",
       "    text-align: left;\n",
       "  }\n",
       "</style>\n",
       "\n",
       "<table class=\"dataframe\">\n",
       "  <thead>\n",
       "    <tr>\n",
       "      \n",
       "        \n",
       "          <th> name</th>\n",
       "        \n",
       "      \n",
       "        \n",
       "          <th class=\"join_key\">paper_id</th>\n",
       "        \n",
       "      \n",
       "        \n",
       "          <th class=\"categorical\">word_cited_id</th>\n",
       "        \n",
       "      \n",
       "    </tr>\n",
       "    \n",
       "      <tr>\n",
       "        \n",
       "          \n",
       "            <th class=\"sub-header\"> role</th>\n",
       "          \n",
       "        \n",
       "          \n",
       "            <th class=\"sub-header join_key\">join_key</th>\n",
       "          \n",
       "        \n",
       "          \n",
       "            <th class=\"sub-header categorical\">categorical  </th>\n",
       "          \n",
       "        \n",
       "      </tr>\n",
       "    \n",
       "  </thead>\n",
       "  <tbody>\n",
       "    \n",
       "      <tr>\n",
       "        <th>0</th>\n",
       "        \n",
       "          \n",
       "            <td class=\"join_key\">35</td>\n",
       "          \n",
       "        \n",
       "          \n",
       "            <td class=\"categorical\">word100</td>\n",
       "          \n",
       "        \n",
       "      </tr>\n",
       "    \n",
       "      <tr>\n",
       "        <th>1</th>\n",
       "        \n",
       "          \n",
       "            <td class=\"join_key\">35</td>\n",
       "          \n",
       "        \n",
       "          \n",
       "            <td class=\"categorical\">word1152</td>\n",
       "          \n",
       "        \n",
       "      </tr>\n",
       "    \n",
       "      <tr>\n",
       "        <th>2</th>\n",
       "        \n",
       "          \n",
       "            <td class=\"join_key\">35</td>\n",
       "          \n",
       "        \n",
       "          \n",
       "            <td class=\"categorical\">word1175</td>\n",
       "          \n",
       "        \n",
       "      </tr>\n",
       "    \n",
       "      <tr>\n",
       "        <th>3</th>\n",
       "        \n",
       "          \n",
       "            <td class=\"join_key\">35</td>\n",
       "          \n",
       "        \n",
       "          \n",
       "            <td class=\"categorical\">word1228</td>\n",
       "          \n",
       "        \n",
       "      </tr>\n",
       "    \n",
       "      <tr>\n",
       "        <th>4</th>\n",
       "        \n",
       "          \n",
       "            <td class=\"join_key\">35</td>\n",
       "          \n",
       "        \n",
       "          \n",
       "            <td class=\"categorical\">word1248</td>\n",
       "          \n",
       "        \n",
       "      </tr>\n",
       "    \n",
       "      <tr>\n",
       "        <th></th>\n",
       "        \n",
       "          \n",
       "            <td class=\"join_key\">...</td>\n",
       "          \n",
       "        \n",
       "          \n",
       "            <td class=\"categorical\">...</td>\n",
       "          \n",
       "        \n",
       "      </tr>\n",
       "    \n",
       "      <tr>\n",
       "        <th>49211</th>\n",
       "        \n",
       "          \n",
       "            <td class=\"join_key\">1155073</td>\n",
       "          \n",
       "        \n",
       "          \n",
       "            <td class=\"categorical\">word75</td>\n",
       "          \n",
       "        \n",
       "      </tr>\n",
       "    \n",
       "      <tr>\n",
       "        <th>49212</th>\n",
       "        \n",
       "          \n",
       "            <td class=\"join_key\">1155073</td>\n",
       "          \n",
       "        \n",
       "          \n",
       "            <td class=\"categorical\">word759</td>\n",
       "          \n",
       "        \n",
       "      </tr>\n",
       "    \n",
       "      <tr>\n",
       "        <th>49213</th>\n",
       "        \n",
       "          \n",
       "            <td class=\"join_key\">1155073</td>\n",
       "          \n",
       "        \n",
       "          \n",
       "            <td class=\"categorical\">word789</td>\n",
       "          \n",
       "        \n",
       "      </tr>\n",
       "    \n",
       "      <tr>\n",
       "        <th>49214</th>\n",
       "        \n",
       "          \n",
       "            <td class=\"join_key\">1155073</td>\n",
       "          \n",
       "        \n",
       "          \n",
       "            <td class=\"categorical\">word815</td>\n",
       "          \n",
       "        \n",
       "      </tr>\n",
       "    \n",
       "      <tr>\n",
       "        <th>49215</th>\n",
       "        \n",
       "          \n",
       "            <td class=\"join_key\">1155073</td>\n",
       "          \n",
       "        \n",
       "          \n",
       "            <td class=\"categorical\">word979</td>\n",
       "          \n",
       "        \n",
       "      </tr>\n",
       "    \n",
       "  </tbody>\n",
       "</table>\n",
       "\n",
       "  <p>\n",
       "    49216 rows x 2 columns<br />\n",
       "    memory usage: 0.39 MB<br />\n",
       "    name: content<br />\n",
       "    type: getml.DataFrame<br />\n",
       "    \n",
       "        url: <a href=\"http://localhost:1709/#/getdataframe/cora/content/\" target=\"_blank\"> http://localhost:1709/#/getdataframe/cora/content/</a>\n",
       "    \n",
       "  </p>\n"
      ],
      "text/plain": [
       " name   paper_id   word_cited_id\n",
       " role   join_key   categorical  \n",
       "    0         35   word100      \n",
       "    1         35   word1152     \n",
       "    2         35   word1175     \n",
       "    3         35   word1228     \n",
       "    4         35   word1248     \n",
       "             ...   ...          \n",
       "49211    1155073   word75       \n",
       "49212    1155073   word759      \n",
       "49213    1155073   word789      \n",
       "49214    1155073   word815      \n",
       "49215    1155073   word979      \n",
       "\n",
       "\n",
       "49216 rows x 2 columns\n",
       "memory usage: 0.39 MB\n",
       "name: content\n",
       "type: getml.DataFrame\n",
       "url: http://localhost:1709/#/getdataframe/cora/content/"
      ]
     },
     "execution_count": 7,
     "metadata": {},
     "output_type": "execute_result"
    }
   ],
   "source": [
    "content"
   ]
  },
  {
   "cell_type": "markdown",
   "metadata": {},
   "source": [
    " "
   ]
  },
  {
   "cell_type": "markdown",
   "metadata": {},
   "source": [
    "### 1.2 Prepare data for getML"
   ]
  },
  {
   "cell_type": "markdown",
   "metadata": {},
   "source": [
    " "
   ]
  },
  {
   "cell_type": "markdown",
   "metadata": {},
   "source": [
    "getML requires that we define *roles* for each of the columns."
   ]
  },
  {
   "cell_type": "code",
   "execution_count": 8,
   "metadata": {
    "tags": []
   },
   "outputs": [
    {
     "data": {
      "text/html": [
       "<style>\n",
       "  table {\n",
       "    font-family: Helvetica, sans-serif;\n",
       "  }\n",
       "\n",
       "  th {\n",
       "    text-align: left !important;\n",
       "  }\n",
       "  td {\n",
       "    text-align: left !important;\n",
       "  }\n",
       "  th:nth-child(1) {\n",
       "    text-align: right !important;\n",
       "    border-right: 1px solid LightGray;\n",
       "  }\n",
       "  th.sub-header {\n",
       "    font-weight: normal;\n",
       "    font-style: italic;\n",
       "  }\n",
       "  .join_key,\n",
       "  .numerical,\n",
       "  .target,\n",
       "  .unused_float {\n",
       "    text-align: right !important;\n",
       "  }\n",
       "\n",
       "  .char-align {\n",
       "    text-align: right !important;\n",
       "  }\n",
       "  span.left {\n",
       "    text-align: right;\n",
       "    width: 3em;\n",
       "  }\n",
       "  span.right {\n",
       "    float: right;\n",
       "    text-align: left;\n",
       "  }\n",
       "</style>\n",
       "\n",
       "<table class=\"dataframe\">\n",
       "  <thead>\n",
       "    <tr>\n",
       "      \n",
       "        \n",
       "          <th>name</th>\n",
       "        \n",
       "      \n",
       "        \n",
       "          <th class=\"join_key\">paper_id</th>\n",
       "        \n",
       "      \n",
       "        \n",
       "          <th class=\"categorical\">class_label           </th>\n",
       "        \n",
       "      \n",
       "    </tr>\n",
       "    \n",
       "      <tr>\n",
       "        \n",
       "          \n",
       "            <th class=\"sub-header\">role</th>\n",
       "          \n",
       "        \n",
       "          \n",
       "            <th class=\"sub-header join_key\">join_key</th>\n",
       "          \n",
       "        \n",
       "          \n",
       "            <th class=\"sub-header categorical\">categorical           </th>\n",
       "          \n",
       "        \n",
       "      </tr>\n",
       "    \n",
       "  </thead>\n",
       "  <tbody>\n",
       "    \n",
       "      <tr>\n",
       "        <th>0</th>\n",
       "        \n",
       "          \n",
       "            <td class=\"join_key\">35</td>\n",
       "          \n",
       "        \n",
       "          \n",
       "            <td class=\"categorical\">Genetic_Algorithms</td>\n",
       "          \n",
       "        \n",
       "      </tr>\n",
       "    \n",
       "      <tr>\n",
       "        <th>1</th>\n",
       "        \n",
       "          \n",
       "            <td class=\"join_key\">40</td>\n",
       "          \n",
       "        \n",
       "          \n",
       "            <td class=\"categorical\">Genetic_Algorithms</td>\n",
       "          \n",
       "        \n",
       "      </tr>\n",
       "    \n",
       "      <tr>\n",
       "        <th>2</th>\n",
       "        \n",
       "          \n",
       "            <td class=\"join_key\">114</td>\n",
       "          \n",
       "        \n",
       "          \n",
       "            <td class=\"categorical\">Reinforcement_Learning</td>\n",
       "          \n",
       "        \n",
       "      </tr>\n",
       "    \n",
       "      <tr>\n",
       "        <th>3</th>\n",
       "        \n",
       "          \n",
       "            <td class=\"join_key\">117</td>\n",
       "          \n",
       "        \n",
       "          \n",
       "            <td class=\"categorical\">Reinforcement_Learning</td>\n",
       "          \n",
       "        \n",
       "      </tr>\n",
       "    \n",
       "      <tr>\n",
       "        <th>4</th>\n",
       "        \n",
       "          \n",
       "            <td class=\"join_key\">128</td>\n",
       "          \n",
       "        \n",
       "          \n",
       "            <td class=\"categorical\">Reinforcement_Learning</td>\n",
       "          \n",
       "        \n",
       "      </tr>\n",
       "    \n",
       "      <tr>\n",
       "        <th></th>\n",
       "        \n",
       "          \n",
       "            <td class=\"join_key\">...</td>\n",
       "          \n",
       "        \n",
       "          \n",
       "            <td class=\"categorical\">...</td>\n",
       "          \n",
       "        \n",
       "      </tr>\n",
       "    \n",
       "      <tr>\n",
       "        <th>2703</th>\n",
       "        \n",
       "          \n",
       "            <td class=\"join_key\">1154500</td>\n",
       "          \n",
       "        \n",
       "          \n",
       "            <td class=\"categorical\">Case_Based</td>\n",
       "          \n",
       "        \n",
       "      </tr>\n",
       "    \n",
       "      <tr>\n",
       "        <th>2704</th>\n",
       "        \n",
       "          \n",
       "            <td class=\"join_key\">1154520</td>\n",
       "          \n",
       "        \n",
       "          \n",
       "            <td class=\"categorical\">Neural_Networks</td>\n",
       "          \n",
       "        \n",
       "      </tr>\n",
       "    \n",
       "      <tr>\n",
       "        <th>2705</th>\n",
       "        \n",
       "          \n",
       "            <td class=\"join_key\">1154524</td>\n",
       "          \n",
       "        \n",
       "          \n",
       "            <td class=\"categorical\">Rule_Learning</td>\n",
       "          \n",
       "        \n",
       "      </tr>\n",
       "    \n",
       "      <tr>\n",
       "        <th>2706</th>\n",
       "        \n",
       "          \n",
       "            <td class=\"join_key\">1154525</td>\n",
       "          \n",
       "        \n",
       "          \n",
       "            <td class=\"categorical\">Rule_Learning</td>\n",
       "          \n",
       "        \n",
       "      </tr>\n",
       "    \n",
       "      <tr>\n",
       "        <th>2707</th>\n",
       "        \n",
       "          \n",
       "            <td class=\"join_key\">1155073</td>\n",
       "          \n",
       "        \n",
       "          \n",
       "            <td class=\"categorical\">Rule_Learning</td>\n",
       "          \n",
       "        \n",
       "      </tr>\n",
       "    \n",
       "  </tbody>\n",
       "</table>\n",
       "\n",
       "  <p>\n",
       "    2708 rows x 2 columns<br />\n",
       "    memory usage: 0.02 MB<br />\n",
       "    name: paper<br />\n",
       "    type: getml.DataFrame<br />\n",
       "    \n",
       "        url: <a href=\"http://localhost:1709/#/getdataframe/cora/paper/\" target=\"_blank\"> http://localhost:1709/#/getdataframe/cora/paper/</a>\n",
       "    \n",
       "  </p>\n"
      ],
      "text/plain": [
       "name   paper_id   class_label           \n",
       "role   join_key   categorical           \n",
       "   0         35   Genetic_Algorithms    \n",
       "   1         40   Genetic_Algorithms    \n",
       "   2        114   Reinforcement_Learning\n",
       "   3        117   Reinforcement_Learning\n",
       "   4        128   Reinforcement_Learning\n",
       "            ...   ...                   \n",
       "2703    1154500   Case_Based            \n",
       "2704    1154520   Neural_Networks       \n",
       "2705    1154524   Rule_Learning         \n",
       "2706    1154525   Rule_Learning         \n",
       "2707    1155073   Rule_Learning         \n",
       "\n",
       "\n",
       "2708 rows x 2 columns\n",
       "memory usage: 0.02 MB\n",
       "name: paper\n",
       "type: getml.DataFrame\n",
       "url: http://localhost:1709/#/getdataframe/cora/paper/"
      ]
     },
     "execution_count": 8,
     "metadata": {},
     "output_type": "execute_result"
    }
   ],
   "source": [
    "paper.set_role(\"paper_id\", getml.data.roles.join_key)\n",
    "paper.set_role(\"class_label\", getml.data.roles.categorical)\n",
    "paper"
   ]
  },
  {
   "cell_type": "code",
   "execution_count": 9,
   "metadata": {
    "tags": []
   },
   "outputs": [
    {
     "data": {
      "text/html": [
       "<style>\n",
       "  table {\n",
       "    font-family: Helvetica, sans-serif;\n",
       "  }\n",
       "\n",
       "  th {\n",
       "    text-align: left !important;\n",
       "  }\n",
       "  td {\n",
       "    text-align: left !important;\n",
       "  }\n",
       "  th:nth-child(1) {\n",
       "    text-align: right !important;\n",
       "    border-right: 1px solid LightGray;\n",
       "  }\n",
       "  th.sub-header {\n",
       "    font-weight: normal;\n",
       "    font-style: italic;\n",
       "  }\n",
       "  .join_key,\n",
       "  .numerical,\n",
       "  .target,\n",
       "  .unused_float {\n",
       "    text-align: right !important;\n",
       "  }\n",
       "\n",
       "  .char-align {\n",
       "    text-align: right !important;\n",
       "  }\n",
       "  span.left {\n",
       "    text-align: right;\n",
       "    width: 3em;\n",
       "  }\n",
       "  span.right {\n",
       "    float: right;\n",
       "    text-align: left;\n",
       "  }\n",
       "</style>\n",
       "\n",
       "<table class=\"dataframe\">\n",
       "  <thead>\n",
       "    <tr>\n",
       "      \n",
       "        \n",
       "          <th>name</th>\n",
       "        \n",
       "      \n",
       "        \n",
       "          <th class=\"join_key\">cited_paper_id</th>\n",
       "        \n",
       "      \n",
       "        \n",
       "          <th class=\"join_key\">citing_paper_id</th>\n",
       "        \n",
       "      \n",
       "    </tr>\n",
       "    \n",
       "      <tr>\n",
       "        \n",
       "          \n",
       "            <th class=\"sub-header\">role</th>\n",
       "          \n",
       "        \n",
       "          \n",
       "            <th class=\"sub-header join_key\">      join_key</th>\n",
       "          \n",
       "        \n",
       "          \n",
       "            <th class=\"sub-header join_key\">       join_key</th>\n",
       "          \n",
       "        \n",
       "      </tr>\n",
       "    \n",
       "  </thead>\n",
       "  <tbody>\n",
       "    \n",
       "      <tr>\n",
       "        <th>0</th>\n",
       "        \n",
       "          \n",
       "            <td class=\"join_key\">35</td>\n",
       "          \n",
       "        \n",
       "          \n",
       "            <td class=\"join_key\">887</td>\n",
       "          \n",
       "        \n",
       "      </tr>\n",
       "    \n",
       "      <tr>\n",
       "        <th>1</th>\n",
       "        \n",
       "          \n",
       "            <td class=\"join_key\">35</td>\n",
       "          \n",
       "        \n",
       "          \n",
       "            <td class=\"join_key\">1033</td>\n",
       "          \n",
       "        \n",
       "      </tr>\n",
       "    \n",
       "      <tr>\n",
       "        <th>2</th>\n",
       "        \n",
       "          \n",
       "            <td class=\"join_key\">35</td>\n",
       "          \n",
       "        \n",
       "          \n",
       "            <td class=\"join_key\">1688</td>\n",
       "          \n",
       "        \n",
       "      </tr>\n",
       "    \n",
       "      <tr>\n",
       "        <th>3</th>\n",
       "        \n",
       "          \n",
       "            <td class=\"join_key\">35</td>\n",
       "          \n",
       "        \n",
       "          \n",
       "            <td class=\"join_key\">1956</td>\n",
       "          \n",
       "        \n",
       "      </tr>\n",
       "    \n",
       "      <tr>\n",
       "        <th>4</th>\n",
       "        \n",
       "          \n",
       "            <td class=\"join_key\">35</td>\n",
       "          \n",
       "        \n",
       "          \n",
       "            <td class=\"join_key\">8865</td>\n",
       "          \n",
       "        \n",
       "      </tr>\n",
       "    \n",
       "      <tr>\n",
       "        <th></th>\n",
       "        \n",
       "          \n",
       "            <td class=\"join_key\">...</td>\n",
       "          \n",
       "        \n",
       "          \n",
       "            <td class=\"join_key\">...</td>\n",
       "          \n",
       "        \n",
       "      </tr>\n",
       "    \n",
       "      <tr>\n",
       "        <th>5424</th>\n",
       "        \n",
       "          \n",
       "            <td class=\"join_key\">853116</td>\n",
       "          \n",
       "        \n",
       "          \n",
       "            <td class=\"join_key\">19621</td>\n",
       "          \n",
       "        \n",
       "      </tr>\n",
       "    \n",
       "      <tr>\n",
       "        <th>5425</th>\n",
       "        \n",
       "          \n",
       "            <td class=\"join_key\">853116</td>\n",
       "          \n",
       "        \n",
       "          \n",
       "            <td class=\"join_key\">853155</td>\n",
       "          \n",
       "        \n",
       "      </tr>\n",
       "    \n",
       "      <tr>\n",
       "        <th>5426</th>\n",
       "        \n",
       "          \n",
       "            <td class=\"join_key\">853118</td>\n",
       "          \n",
       "        \n",
       "          \n",
       "            <td class=\"join_key\">1140289</td>\n",
       "          \n",
       "        \n",
       "      </tr>\n",
       "    \n",
       "      <tr>\n",
       "        <th>5427</th>\n",
       "        \n",
       "          \n",
       "            <td class=\"join_key\">853155</td>\n",
       "          \n",
       "        \n",
       "          \n",
       "            <td class=\"join_key\">853118</td>\n",
       "          \n",
       "        \n",
       "      </tr>\n",
       "    \n",
       "      <tr>\n",
       "        <th>5428</th>\n",
       "        \n",
       "          \n",
       "            <td class=\"join_key\">954315</td>\n",
       "          \n",
       "        \n",
       "          \n",
       "            <td class=\"join_key\">1155073</td>\n",
       "          \n",
       "        \n",
       "      </tr>\n",
       "    \n",
       "  </tbody>\n",
       "</table>\n",
       "\n",
       "  <p>\n",
       "    5429 rows x 2 columns<br />\n",
       "    memory usage: 0.04 MB<br />\n",
       "    name: cites<br />\n",
       "    type: getml.DataFrame<br />\n",
       "    \n",
       "        url: <a href=\"http://localhost:1709/#/getdataframe/cora/cites/\" target=\"_blank\"> http://localhost:1709/#/getdataframe/cora/cites/</a>\n",
       "    \n",
       "  </p>\n"
      ],
      "text/plain": [
       "name   cited_paper_id   citing_paper_id\n",
       "role         join_key          join_key\n",
       "   0               35               887\n",
       "   1               35              1033\n",
       "   2               35              1688\n",
       "   3               35              1956\n",
       "   4               35              8865\n",
       "                  ...               ...\n",
       "5424           853116             19621\n",
       "5425           853116            853155\n",
       "5426           853118           1140289\n",
       "5427           853155            853118\n",
       "5428           954315           1155073\n",
       "\n",
       "\n",
       "5429 rows x 2 columns\n",
       "memory usage: 0.04 MB\n",
       "name: cites\n",
       "type: getml.DataFrame\n",
       "url: http://localhost:1709/#/getdataframe/cora/cites/"
      ]
     },
     "execution_count": 9,
     "metadata": {},
     "output_type": "execute_result"
    }
   ],
   "source": [
    "cites.set_role([\"cited_paper_id\", \"citing_paper_id\"], getml.data.roles.join_key)\n",
    "cites"
   ]
  },
  {
   "cell_type": "markdown",
   "metadata": {},
   "source": [
    "We need to separate our data set into a training, testing and validation set:"
   ]
  },
  {
   "cell_type": "code",
   "execution_count": 10,
   "metadata": {
    "tags": []
   },
   "outputs": [
    {
     "data": {
      "text/html": [
       "<style>\n",
       "  table {\n",
       "    font-family: Helvetica, sans-serif;\n",
       "  }\n",
       "\n",
       "  th {\n",
       "    text-align: left !important;\n",
       "  }\n",
       "  td {\n",
       "    text-align: left !important;\n",
       "  }\n",
       "  th:nth-child(1) {\n",
       "    text-align: right !important;\n",
       "    border-right: 1px solid LightGray;\n",
       "  }\n",
       "  th.sub-header {\n",
       "    font-weight: normal;\n",
       "    font-style: italic;\n",
       "  }\n",
       "  .join_key,\n",
       "  .numerical,\n",
       "  .target,\n",
       "  .unused_float {\n",
       "    text-align: right !important;\n",
       "  }\n",
       "\n",
       "  .char-align {\n",
       "    text-align: right !important;\n",
       "  }\n",
       "  span.left {\n",
       "    text-align: right;\n",
       "    width: 3em;\n",
       "  }\n",
       "  span.right {\n",
       "    float: right;\n",
       "    text-align: left;\n",
       "  }\n",
       "</style>\n",
       "\n",
       "<table class=\"dataframe\">\n",
       "  <thead>\n",
       "    <tr>\n",
       "      \n",
       "        \n",
       "          <th> name</th>\n",
       "        \n",
       "      \n",
       "        \n",
       "          <th class=\"join_key\">paper_id</th>\n",
       "        \n",
       "      \n",
       "        \n",
       "          <th class=\"categorical\">word_cited_id</th>\n",
       "        \n",
       "      \n",
       "    </tr>\n",
       "    \n",
       "      <tr>\n",
       "        \n",
       "          \n",
       "            <th class=\"sub-header\"> role</th>\n",
       "          \n",
       "        \n",
       "          \n",
       "            <th class=\"sub-header join_key\">join_key</th>\n",
       "          \n",
       "        \n",
       "          \n",
       "            <th class=\"sub-header categorical\">categorical  </th>\n",
       "          \n",
       "        \n",
       "      </tr>\n",
       "    \n",
       "  </thead>\n",
       "  <tbody>\n",
       "    \n",
       "      <tr>\n",
       "        <th>0</th>\n",
       "        \n",
       "          \n",
       "            <td class=\"join_key\">35</td>\n",
       "          \n",
       "        \n",
       "          \n",
       "            <td class=\"categorical\">word100</td>\n",
       "          \n",
       "        \n",
       "      </tr>\n",
       "    \n",
       "      <tr>\n",
       "        <th>1</th>\n",
       "        \n",
       "          \n",
       "            <td class=\"join_key\">35</td>\n",
       "          \n",
       "        \n",
       "          \n",
       "            <td class=\"categorical\">word1152</td>\n",
       "          \n",
       "        \n",
       "      </tr>\n",
       "    \n",
       "      <tr>\n",
       "        <th>2</th>\n",
       "        \n",
       "          \n",
       "            <td class=\"join_key\">35</td>\n",
       "          \n",
       "        \n",
       "          \n",
       "            <td class=\"categorical\">word1175</td>\n",
       "          \n",
       "        \n",
       "      </tr>\n",
       "    \n",
       "      <tr>\n",
       "        <th>3</th>\n",
       "        \n",
       "          \n",
       "            <td class=\"join_key\">35</td>\n",
       "          \n",
       "        \n",
       "          \n",
       "            <td class=\"categorical\">word1228</td>\n",
       "          \n",
       "        \n",
       "      </tr>\n",
       "    \n",
       "      <tr>\n",
       "        <th>4</th>\n",
       "        \n",
       "          \n",
       "            <td class=\"join_key\">35</td>\n",
       "          \n",
       "        \n",
       "          \n",
       "            <td class=\"categorical\">word1248</td>\n",
       "          \n",
       "        \n",
       "      </tr>\n",
       "    \n",
       "      <tr>\n",
       "        <th></th>\n",
       "        \n",
       "          \n",
       "            <td class=\"join_key\">...</td>\n",
       "          \n",
       "        \n",
       "          \n",
       "            <td class=\"categorical\">...</td>\n",
       "          \n",
       "        \n",
       "      </tr>\n",
       "    \n",
       "      <tr>\n",
       "        <th>49211</th>\n",
       "        \n",
       "          \n",
       "            <td class=\"join_key\">1155073</td>\n",
       "          \n",
       "        \n",
       "          \n",
       "            <td class=\"categorical\">word75</td>\n",
       "          \n",
       "        \n",
       "      </tr>\n",
       "    \n",
       "      <tr>\n",
       "        <th>49212</th>\n",
       "        \n",
       "          \n",
       "            <td class=\"join_key\">1155073</td>\n",
       "          \n",
       "        \n",
       "          \n",
       "            <td class=\"categorical\">word759</td>\n",
       "          \n",
       "        \n",
       "      </tr>\n",
       "    \n",
       "      <tr>\n",
       "        <th>49213</th>\n",
       "        \n",
       "          \n",
       "            <td class=\"join_key\">1155073</td>\n",
       "          \n",
       "        \n",
       "          \n",
       "            <td class=\"categorical\">word789</td>\n",
       "          \n",
       "        \n",
       "      </tr>\n",
       "    \n",
       "      <tr>\n",
       "        <th>49214</th>\n",
       "        \n",
       "          \n",
       "            <td class=\"join_key\">1155073</td>\n",
       "          \n",
       "        \n",
       "          \n",
       "            <td class=\"categorical\">word815</td>\n",
       "          \n",
       "        \n",
       "      </tr>\n",
       "    \n",
       "      <tr>\n",
       "        <th>49215</th>\n",
       "        \n",
       "          \n",
       "            <td class=\"join_key\">1155073</td>\n",
       "          \n",
       "        \n",
       "          \n",
       "            <td class=\"categorical\">word979</td>\n",
       "          \n",
       "        \n",
       "      </tr>\n",
       "    \n",
       "  </tbody>\n",
       "</table>\n",
       "\n",
       "  <p>\n",
       "    49216 rows x 2 columns<br />\n",
       "    memory usage: 0.39 MB<br />\n",
       "    name: content<br />\n",
       "    type: getml.DataFrame<br />\n",
       "    \n",
       "        url: <a href=\"http://localhost:1709/#/getdataframe/cora/content/\" target=\"_blank\"> http://localhost:1709/#/getdataframe/cora/content/</a>\n",
       "    \n",
       "  </p>\n"
      ],
      "text/plain": [
       " name   paper_id   word_cited_id\n",
       " role   join_key   categorical  \n",
       "    0         35   word100      \n",
       "    1         35   word1152     \n",
       "    2         35   word1175     \n",
       "    3         35   word1228     \n",
       "    4         35   word1248     \n",
       "             ...   ...          \n",
       "49211    1155073   word75       \n",
       "49212    1155073   word759      \n",
       "49213    1155073   word789      \n",
       "49214    1155073   word815      \n",
       "49215    1155073   word979      \n",
       "\n",
       "\n",
       "49216 rows x 2 columns\n",
       "memory usage: 0.39 MB\n",
       "name: content\n",
       "type: getml.DataFrame\n",
       "url: http://localhost:1709/#/getdataframe/cora/content/"
      ]
     },
     "execution_count": 10,
     "metadata": {},
     "output_type": "execute_result"
    }
   ],
   "source": [
    "content.set_role(\"paper_id\", getml.data.roles.join_key)\n",
    "content.set_role(\"word_cited_id\", getml.data.roles.categorical)\n",
    "content"
   ]
  },
  {
   "cell_type": "markdown",
   "metadata": {},
   "source": [
    "The goal is to predict seven different labels. We generate a target column for each of those labels. We also have to separate the data set into a training and testing set."
   ]
  },
  {
   "cell_type": "code",
   "execution_count": 11,
   "metadata": {
    "tags": []
   },
   "outputs": [
    {
     "data": {
      "text/html": [
       "<style>\n",
       "  th {\n",
       "    text-align: left !important;\n",
       "  }\n",
       "  th.sub-header {\n",
       "    font-weight: normal;\n",
       "    font-style: italic;\n",
       "    text-align: left !important;\n",
       "  }\n",
       "  td {\n",
       "    text-align: left !important;\n",
       "  }\n",
       "  th:nth-child(1) {\n",
       "    text-align: right !important;\n",
       "    border-right: 1px solid LightGray;\n",
       "  }\n",
       "  th.numerical {\n",
       "    text-align: right !important;\n",
       "  }\n",
       "  td.numerical {\n",
       "    text-align: right !important;\n",
       "  }\n",
       "\n",
       "  td.char-align {\n",
       "    text-align: right !important;\n",
       "  }\n",
       "  span.left {\n",
       "    text-align: right;\n",
       "    width: 3em;\n",
       "  }\n",
       "  span.right {\n",
       "    float: right;\n",
       "    text-align: left;\n",
       "  }\n",
       "</style>\n",
       "\n",
       "<table class=\"dataframe\">\n",
       "  <thead>\n",
       "    <tr>\n",
       "      \n",
       "        \n",
       "          <th>name</th>\n",
       "        \n",
       "      \n",
       "        \n",
       "          <th class=\"join_key\">paper_id</th>\n",
       "        \n",
       "      \n",
       "        \n",
       "          <th class=\"target\">class_label=Case_Based</th>\n",
       "        \n",
       "      \n",
       "        \n",
       "          <th class=\"target\">class_label=Genetic_Algorithms</th>\n",
       "        \n",
       "      \n",
       "        \n",
       "          <th class=\"target\">class_label=Neural_Networks</th>\n",
       "        \n",
       "      \n",
       "        \n",
       "          <th class=\"target\">class_label=Probabilistic_Methods</th>\n",
       "        \n",
       "      \n",
       "        \n",
       "          <th class=\"target\">class_label=Reinforcement_Learning</th>\n",
       "        \n",
       "      \n",
       "        \n",
       "          <th class=\"target\">class_label=Rule_Learning</th>\n",
       "        \n",
       "      \n",
       "        \n",
       "          <th class=\"target\">class_label=Theory</th>\n",
       "        \n",
       "      \n",
       "    </tr>\n",
       "    \n",
       "      <tr>\n",
       "        \n",
       "          \n",
       "            <th class=\"sub-header\">role</th>\n",
       "          \n",
       "        \n",
       "          \n",
       "            <th class=\"sub-header join_key\">join_key</th>\n",
       "          \n",
       "        \n",
       "          \n",
       "            <th class=\"sub-header target\">                target</th>\n",
       "          \n",
       "        \n",
       "          \n",
       "            <th class=\"sub-header target\">                        target</th>\n",
       "          \n",
       "        \n",
       "          \n",
       "            <th class=\"sub-header target\">                     target</th>\n",
       "          \n",
       "        \n",
       "          \n",
       "            <th class=\"sub-header target\">                          target</th>\n",
       "          \n",
       "        \n",
       "          \n",
       "            <th class=\"sub-header target\">                          target</th>\n",
       "          \n",
       "        \n",
       "          \n",
       "            <th class=\"sub-header target\">                   target</th>\n",
       "          \n",
       "        \n",
       "          \n",
       "            <th class=\"sub-header target\">            target</th>\n",
       "          \n",
       "        \n",
       "      </tr>\n",
       "    \n",
       "  </thead>\n",
       "  <tbody>\n",
       "    \n",
       "      <tr>\n",
       "        <th>0</th>\n",
       "        \n",
       "          \n",
       "            <td class=\"join_key\">35</td>\n",
       "          \n",
       "        \n",
       "          \n",
       "            \n",
       "              \n",
       "              \n",
       "            \n",
       "          <td class=\"char-align numerical\">\n",
       "            <span class=\"left\">0</span\n",
       "            ><span class=\"right\" style=\"width: 0ch\"\n",
       "              >&nbsp;</span\n",
       "            >\n",
       "          </td>\n",
       "          \n",
       "        \n",
       "          \n",
       "            \n",
       "              \n",
       "              \n",
       "            \n",
       "          <td class=\"char-align numerical\">\n",
       "            <span class=\"left\">1</span\n",
       "            ><span class=\"right\" style=\"width: 0ch\"\n",
       "              >&nbsp;</span\n",
       "            >\n",
       "          </td>\n",
       "          \n",
       "        \n",
       "          \n",
       "            \n",
       "              \n",
       "              \n",
       "            \n",
       "          <td class=\"char-align numerical\">\n",
       "            <span class=\"left\">0</span\n",
       "            ><span class=\"right\" style=\"width: 0ch\"\n",
       "              >&nbsp;</span\n",
       "            >\n",
       "          </td>\n",
       "          \n",
       "        \n",
       "          \n",
       "            \n",
       "              \n",
       "              \n",
       "            \n",
       "          <td class=\"char-align numerical\">\n",
       "            <span class=\"left\">0</span\n",
       "            ><span class=\"right\" style=\"width: 0ch\"\n",
       "              >&nbsp;</span\n",
       "            >\n",
       "          </td>\n",
       "          \n",
       "        \n",
       "          \n",
       "            \n",
       "              \n",
       "              \n",
       "            \n",
       "          <td class=\"char-align numerical\">\n",
       "            <span class=\"left\">0</span\n",
       "            ><span class=\"right\" style=\"width: 0ch\"\n",
       "              >&nbsp;</span\n",
       "            >\n",
       "          </td>\n",
       "          \n",
       "        \n",
       "          \n",
       "            \n",
       "              \n",
       "              \n",
       "            \n",
       "          <td class=\"char-align numerical\">\n",
       "            <span class=\"left\">0</span\n",
       "            ><span class=\"right\" style=\"width: 0ch\"\n",
       "              >&nbsp;</span\n",
       "            >\n",
       "          </td>\n",
       "          \n",
       "        \n",
       "          \n",
       "            \n",
       "              \n",
       "              \n",
       "            \n",
       "          <td class=\"char-align numerical\">\n",
       "            <span class=\"left\">0</span\n",
       "            ><span class=\"right\" style=\"width: 0ch\"\n",
       "              >&nbsp;</span\n",
       "            >\n",
       "          </td>\n",
       "          \n",
       "        \n",
       "      </tr>\n",
       "    \n",
       "      <tr>\n",
       "        <th>1</th>\n",
       "        \n",
       "          \n",
       "            <td class=\"join_key\">40</td>\n",
       "          \n",
       "        \n",
       "          \n",
       "            \n",
       "              \n",
       "              \n",
       "            \n",
       "          <td class=\"char-align numerical\">\n",
       "            <span class=\"left\">0</span\n",
       "            ><span class=\"right\" style=\"width: 0ch\"\n",
       "              >&nbsp;</span\n",
       "            >\n",
       "          </td>\n",
       "          \n",
       "        \n",
       "          \n",
       "            \n",
       "              \n",
       "              \n",
       "            \n",
       "          <td class=\"char-align numerical\">\n",
       "            <span class=\"left\">1</span\n",
       "            ><span class=\"right\" style=\"width: 0ch\"\n",
       "              >&nbsp;</span\n",
       "            >\n",
       "          </td>\n",
       "          \n",
       "        \n",
       "          \n",
       "            \n",
       "              \n",
       "              \n",
       "            \n",
       "          <td class=\"char-align numerical\">\n",
       "            <span class=\"left\">0</span\n",
       "            ><span class=\"right\" style=\"width: 0ch\"\n",
       "              >&nbsp;</span\n",
       "            >\n",
       "          </td>\n",
       "          \n",
       "        \n",
       "          \n",
       "            \n",
       "              \n",
       "              \n",
       "            \n",
       "          <td class=\"char-align numerical\">\n",
       "            <span class=\"left\">0</span\n",
       "            ><span class=\"right\" style=\"width: 0ch\"\n",
       "              >&nbsp;</span\n",
       "            >\n",
       "          </td>\n",
       "          \n",
       "        \n",
       "          \n",
       "            \n",
       "              \n",
       "              \n",
       "            \n",
       "          <td class=\"char-align numerical\">\n",
       "            <span class=\"left\">0</span\n",
       "            ><span class=\"right\" style=\"width: 0ch\"\n",
       "              >&nbsp;</span\n",
       "            >\n",
       "          </td>\n",
       "          \n",
       "        \n",
       "          \n",
       "            \n",
       "              \n",
       "              \n",
       "            \n",
       "          <td class=\"char-align numerical\">\n",
       "            <span class=\"left\">0</span\n",
       "            ><span class=\"right\" style=\"width: 0ch\"\n",
       "              >&nbsp;</span\n",
       "            >\n",
       "          </td>\n",
       "          \n",
       "        \n",
       "          \n",
       "            \n",
       "              \n",
       "              \n",
       "            \n",
       "          <td class=\"char-align numerical\">\n",
       "            <span class=\"left\">0</span\n",
       "            ><span class=\"right\" style=\"width: 0ch\"\n",
       "              >&nbsp;</span\n",
       "            >\n",
       "          </td>\n",
       "          \n",
       "        \n",
       "      </tr>\n",
       "    \n",
       "      <tr>\n",
       "        <th>2</th>\n",
       "        \n",
       "          \n",
       "            <td class=\"join_key\">114</td>\n",
       "          \n",
       "        \n",
       "          \n",
       "            \n",
       "              \n",
       "              \n",
       "            \n",
       "          <td class=\"char-align numerical\">\n",
       "            <span class=\"left\">0</span\n",
       "            ><span class=\"right\" style=\"width: 0ch\"\n",
       "              >&nbsp;</span\n",
       "            >\n",
       "          </td>\n",
       "          \n",
       "        \n",
       "          \n",
       "            \n",
       "              \n",
       "              \n",
       "            \n",
       "          <td class=\"char-align numerical\">\n",
       "            <span class=\"left\">0</span\n",
       "            ><span class=\"right\" style=\"width: 0ch\"\n",
       "              >&nbsp;</span\n",
       "            >\n",
       "          </td>\n",
       "          \n",
       "        \n",
       "          \n",
       "            \n",
       "              \n",
       "              \n",
       "            \n",
       "          <td class=\"char-align numerical\">\n",
       "            <span class=\"left\">0</span\n",
       "            ><span class=\"right\" style=\"width: 0ch\"\n",
       "              >&nbsp;</span\n",
       "            >\n",
       "          </td>\n",
       "          \n",
       "        \n",
       "          \n",
       "            \n",
       "              \n",
       "              \n",
       "            \n",
       "          <td class=\"char-align numerical\">\n",
       "            <span class=\"left\">0</span\n",
       "            ><span class=\"right\" style=\"width: 0ch\"\n",
       "              >&nbsp;</span\n",
       "            >\n",
       "          </td>\n",
       "          \n",
       "        \n",
       "          \n",
       "            \n",
       "              \n",
       "              \n",
       "            \n",
       "          <td class=\"char-align numerical\">\n",
       "            <span class=\"left\">1</span\n",
       "            ><span class=\"right\" style=\"width: 0ch\"\n",
       "              >&nbsp;</span\n",
       "            >\n",
       "          </td>\n",
       "          \n",
       "        \n",
       "          \n",
       "            \n",
       "              \n",
       "              \n",
       "            \n",
       "          <td class=\"char-align numerical\">\n",
       "            <span class=\"left\">0</span\n",
       "            ><span class=\"right\" style=\"width: 0ch\"\n",
       "              >&nbsp;</span\n",
       "            >\n",
       "          </td>\n",
       "          \n",
       "        \n",
       "          \n",
       "            \n",
       "              \n",
       "              \n",
       "            \n",
       "          <td class=\"char-align numerical\">\n",
       "            <span class=\"left\">0</span\n",
       "            ><span class=\"right\" style=\"width: 0ch\"\n",
       "              >&nbsp;</span\n",
       "            >\n",
       "          </td>\n",
       "          \n",
       "        \n",
       "      </tr>\n",
       "    \n",
       "      <tr>\n",
       "        <th>3</th>\n",
       "        \n",
       "          \n",
       "            <td class=\"join_key\">117</td>\n",
       "          \n",
       "        \n",
       "          \n",
       "            \n",
       "              \n",
       "              \n",
       "            \n",
       "          <td class=\"char-align numerical\">\n",
       "            <span class=\"left\">0</span\n",
       "            ><span class=\"right\" style=\"width: 0ch\"\n",
       "              >&nbsp;</span\n",
       "            >\n",
       "          </td>\n",
       "          \n",
       "        \n",
       "          \n",
       "            \n",
       "              \n",
       "              \n",
       "            \n",
       "          <td class=\"char-align numerical\">\n",
       "            <span class=\"left\">0</span\n",
       "            ><span class=\"right\" style=\"width: 0ch\"\n",
       "              >&nbsp;</span\n",
       "            >\n",
       "          </td>\n",
       "          \n",
       "        \n",
       "          \n",
       "            \n",
       "              \n",
       "              \n",
       "            \n",
       "          <td class=\"char-align numerical\">\n",
       "            <span class=\"left\">0</span\n",
       "            ><span class=\"right\" style=\"width: 0ch\"\n",
       "              >&nbsp;</span\n",
       "            >\n",
       "          </td>\n",
       "          \n",
       "        \n",
       "          \n",
       "            \n",
       "              \n",
       "              \n",
       "            \n",
       "          <td class=\"char-align numerical\">\n",
       "            <span class=\"left\">0</span\n",
       "            ><span class=\"right\" style=\"width: 0ch\"\n",
       "              >&nbsp;</span\n",
       "            >\n",
       "          </td>\n",
       "          \n",
       "        \n",
       "          \n",
       "            \n",
       "              \n",
       "              \n",
       "            \n",
       "          <td class=\"char-align numerical\">\n",
       "            <span class=\"left\">1</span\n",
       "            ><span class=\"right\" style=\"width: 0ch\"\n",
       "              >&nbsp;</span\n",
       "            >\n",
       "          </td>\n",
       "          \n",
       "        \n",
       "          \n",
       "            \n",
       "              \n",
       "              \n",
       "            \n",
       "          <td class=\"char-align numerical\">\n",
       "            <span class=\"left\">0</span\n",
       "            ><span class=\"right\" style=\"width: 0ch\"\n",
       "              >&nbsp;</span\n",
       "            >\n",
       "          </td>\n",
       "          \n",
       "        \n",
       "          \n",
       "            \n",
       "              \n",
       "              \n",
       "            \n",
       "          <td class=\"char-align numerical\">\n",
       "            <span class=\"left\">0</span\n",
       "            ><span class=\"right\" style=\"width: 0ch\"\n",
       "              >&nbsp;</span\n",
       "            >\n",
       "          </td>\n",
       "          \n",
       "        \n",
       "      </tr>\n",
       "    \n",
       "      <tr>\n",
       "        <th>4</th>\n",
       "        \n",
       "          \n",
       "            <td class=\"join_key\">128</td>\n",
       "          \n",
       "        \n",
       "          \n",
       "            \n",
       "              \n",
       "              \n",
       "            \n",
       "          <td class=\"char-align numerical\">\n",
       "            <span class=\"left\">0</span\n",
       "            ><span class=\"right\" style=\"width: 0ch\"\n",
       "              >&nbsp;</span\n",
       "            >\n",
       "          </td>\n",
       "          \n",
       "        \n",
       "          \n",
       "            \n",
       "              \n",
       "              \n",
       "            \n",
       "          <td class=\"char-align numerical\">\n",
       "            <span class=\"left\">0</span\n",
       "            ><span class=\"right\" style=\"width: 0ch\"\n",
       "              >&nbsp;</span\n",
       "            >\n",
       "          </td>\n",
       "          \n",
       "        \n",
       "          \n",
       "            \n",
       "              \n",
       "              \n",
       "            \n",
       "          <td class=\"char-align numerical\">\n",
       "            <span class=\"left\">0</span\n",
       "            ><span class=\"right\" style=\"width: 0ch\"\n",
       "              >&nbsp;</span\n",
       "            >\n",
       "          </td>\n",
       "          \n",
       "        \n",
       "          \n",
       "            \n",
       "              \n",
       "              \n",
       "            \n",
       "          <td class=\"char-align numerical\">\n",
       "            <span class=\"left\">0</span\n",
       "            ><span class=\"right\" style=\"width: 0ch\"\n",
       "              >&nbsp;</span\n",
       "            >\n",
       "          </td>\n",
       "          \n",
       "        \n",
       "          \n",
       "            \n",
       "              \n",
       "              \n",
       "            \n",
       "          <td class=\"char-align numerical\">\n",
       "            <span class=\"left\">1</span\n",
       "            ><span class=\"right\" style=\"width: 0ch\"\n",
       "              >&nbsp;</span\n",
       "            >\n",
       "          </td>\n",
       "          \n",
       "        \n",
       "          \n",
       "            \n",
       "              \n",
       "              \n",
       "            \n",
       "          <td class=\"char-align numerical\">\n",
       "            <span class=\"left\">0</span\n",
       "            ><span class=\"right\" style=\"width: 0ch\"\n",
       "              >&nbsp;</span\n",
       "            >\n",
       "          </td>\n",
       "          \n",
       "        \n",
       "          \n",
       "            \n",
       "              \n",
       "              \n",
       "            \n",
       "          <td class=\"char-align numerical\">\n",
       "            <span class=\"left\">0</span\n",
       "            ><span class=\"right\" style=\"width: 0ch\"\n",
       "              >&nbsp;</span\n",
       "            >\n",
       "          </td>\n",
       "          \n",
       "        \n",
       "      </tr>\n",
       "    \n",
       "      <tr>\n",
       "        <th>...</th>\n",
       "        \n",
       "          \n",
       "            <td class=\"join_key\">...</td>\n",
       "          \n",
       "        \n",
       "          \n",
       "            \n",
       "              \n",
       "              \n",
       "            \n",
       "          <td class=\"char-align numerical\">\n",
       "            <span class=\"left\">...</span\n",
       "            ><span class=\"right\" style=\"width: 0ch\"\n",
       "              >&nbsp;</span\n",
       "            >\n",
       "          </td>\n",
       "          \n",
       "        \n",
       "          \n",
       "            \n",
       "              \n",
       "              \n",
       "            \n",
       "          <td class=\"char-align numerical\">\n",
       "            <span class=\"left\">...</span\n",
       "            ><span class=\"right\" style=\"width: 0ch\"\n",
       "              >&nbsp;</span\n",
       "            >\n",
       "          </td>\n",
       "          \n",
       "        \n",
       "          \n",
       "            \n",
       "              \n",
       "              \n",
       "            \n",
       "          <td class=\"char-align numerical\">\n",
       "            <span class=\"left\">...</span\n",
       "            ><span class=\"right\" style=\"width: 0ch\"\n",
       "              >&nbsp;</span\n",
       "            >\n",
       "          </td>\n",
       "          \n",
       "        \n",
       "          \n",
       "            \n",
       "              \n",
       "              \n",
       "            \n",
       "          <td class=\"char-align numerical\">\n",
       "            <span class=\"left\">...</span\n",
       "            ><span class=\"right\" style=\"width: 0ch\"\n",
       "              >&nbsp;</span\n",
       "            >\n",
       "          </td>\n",
       "          \n",
       "        \n",
       "          \n",
       "            \n",
       "              \n",
       "              \n",
       "            \n",
       "          <td class=\"char-align numerical\">\n",
       "            <span class=\"left\">...</span\n",
       "            ><span class=\"right\" style=\"width: 0ch\"\n",
       "              >&nbsp;</span\n",
       "            >\n",
       "          </td>\n",
       "          \n",
       "        \n",
       "          \n",
       "            \n",
       "              \n",
       "              \n",
       "            \n",
       "          <td class=\"char-align numerical\">\n",
       "            <span class=\"left\">...</span\n",
       "            ><span class=\"right\" style=\"width: 0ch\"\n",
       "              >&nbsp;</span\n",
       "            >\n",
       "          </td>\n",
       "          \n",
       "        \n",
       "          \n",
       "            \n",
       "              \n",
       "              \n",
       "            \n",
       "          <td class=\"char-align numerical\">\n",
       "            <span class=\"left\">...</span\n",
       "            ><span class=\"right\" style=\"width: 0ch\"\n",
       "              >&nbsp;</span\n",
       "            >\n",
       "          </td>\n",
       "          \n",
       "        \n",
       "      </tr>\n",
       "    \n",
       "  </tbody>\n",
       "</table>\n",
       "\n",
       "  <p>\n",
       "    2708 rows<br />\n",
       "    \n",
       "    type: getml.data.View<br />\n",
       "    \n",
       "  </p>\n"
      ],
      "text/plain": [
       "name   paper_id   class_label=Case_Based   class_label=Genetic_Algorithms   class_label=Neural_Networks\n",
       "role   join_key                   target                           target                        target\n",
       "   0         35                        0                                1                             0\n",
       "   1         40                        0                                1                             0\n",
       "   2        114                        0                                0                             0\n",
       "   3        117                        0                                0                             0\n",
       "   4        128                        0                                0                             0\n",
       " ...        ...                      ...                              ...                           ...\n",
       "\n",
       "name   class_label=Probabilistic_Methods   class_label=Reinforcement_Learning   class_label=Rule_Learning   class_label=Theory\n",
       "role                             target                             target                      target               target\n",
       "   0                                  0                                  0                           0                    0\n",
       "   1                                  0                                  0                           0                    0\n",
       "   2                                  0                                  1                           0                    0\n",
       "   3                                  0                                  1                           0                    0\n",
       "   4                                  0                                  1                           0                    0\n",
       " ...                                ...                                ...                         ...                  ...\n",
       "\n",
       "\n",
       "2708 rows x 8 columns\n",
       "type: getml.data.View"
      ]
     },
     "execution_count": 11,
     "metadata": {},
     "output_type": "execute_result"
    }
   ],
   "source": [
    "data_full = getml.data.make_target_columns(paper, \"class_label\")\n",
    "data_full"
   ]
  },
  {
   "cell_type": "code",
   "execution_count": 12,
   "metadata": {
    "tags": []
   },
   "outputs": [
    {
     "data": {
      "text/html": [
       "<style>\n",
       "  th {\n",
       "    text-align: left !important;\n",
       "  }\n",
       "  th.sub-header {\n",
       "    font-weight: normal;\n",
       "    font-style: italic;\n",
       "    text-align: left !important;\n",
       "  }\n",
       "  td {\n",
       "    text-align: left !important;\n",
       "  }\n",
       "  th:nth-child(1) {\n",
       "    text-align: right !important;\n",
       "    border-right: 1px solid LightGray;\n",
       "  }\n",
       "  th.numerical {\n",
       "    text-align: right !important;\n",
       "  }\n",
       "  td.numerical {\n",
       "    text-align: right !important;\n",
       "  }\n",
       "\n",
       "  td.char-align {\n",
       "    text-align: right !important;\n",
       "  }\n",
       "  span.left {\n",
       "    text-align: right;\n",
       "    width: 3em;\n",
       "  }\n",
       "  span.right {\n",
       "    float: right;\n",
       "    text-align: left;\n",
       "  }\n",
       "</style>\n",
       "\n",
       "<table class=\"dataframe\">\n",
       "  <thead>\n",
       "    <tr>\n",
       "      \n",
       "        \n",
       "          <th>  </th>\n",
       "        \n",
       "      \n",
       "        \n",
       "          <th>     </th>\n",
       "        \n",
       "      \n",
       "    </tr>\n",
       "    \n",
       "  </thead>\n",
       "  <tbody>\n",
       "    \n",
       "      <tr>\n",
       "        <th>0</th>\n",
       "        \n",
       "          \n",
       "            <td>train</td>\n",
       "          \n",
       "        \n",
       "      </tr>\n",
       "    \n",
       "      <tr>\n",
       "        <th>1</th>\n",
       "        \n",
       "          \n",
       "            <td>test</td>\n",
       "          \n",
       "        \n",
       "      </tr>\n",
       "    \n",
       "      <tr>\n",
       "        <th>2</th>\n",
       "        \n",
       "          \n",
       "            <td>train</td>\n",
       "          \n",
       "        \n",
       "      </tr>\n",
       "    \n",
       "      <tr>\n",
       "        <th>3</th>\n",
       "        \n",
       "          \n",
       "            <td>test</td>\n",
       "          \n",
       "        \n",
       "      </tr>\n",
       "    \n",
       "      <tr>\n",
       "        <th>4</th>\n",
       "        \n",
       "          \n",
       "            <td>test</td>\n",
       "          \n",
       "        \n",
       "      </tr>\n",
       "    \n",
       "      <tr>\n",
       "        <th></th>\n",
       "        \n",
       "          \n",
       "            <td>...</td>\n",
       "          \n",
       "        \n",
       "      </tr>\n",
       "    \n",
       "  </tbody>\n",
       "</table>\n",
       "\n",
       "  <p>\n",
       "    infinite number of  rows<br />\n",
       "    \n",
       "    type: StringColumnView<br />\n",
       "    \n",
       "  </p>\n"
      ],
      "text/plain": [
       "          \n",
       " 0   train\n",
       " 1   test \n",
       " 2   train\n",
       " 3   test \n",
       " 4   test \n",
       "     ...  \n",
       "\n",
       "\n",
       "infinite number of  rows\n",
       "type: StringColumnView"
      ]
     },
     "execution_count": 12,
     "metadata": {},
     "output_type": "execute_result"
    }
   ],
   "source": [
    "split = getml.data.split.random(train=0.7, test=0.3, validation=0.0)\n",
    "split"
   ]
  },
  {
   "cell_type": "code",
   "execution_count": 13,
   "metadata": {
    "tags": []
   },
   "outputs": [
    {
     "data": {
      "text/html": [
       "<div style='float: left; margin-right: 50px;'>\n",
       "    <h4>population</h4>\n",
       "    <style>\n",
       "  th {\n",
       "    text-align: left !important;\n",
       "  }\n",
       "  td {\n",
       "    text-align: left !important;\n",
       "  }\n",
       "  th:nth-child(1) {\n",
       "    text-align: right;\n",
       "    border-right: 1px solid LightGray;\n",
       "  }\n",
       "  th.float {\n",
       "    text-align: right !important;\n",
       "  }\n",
       "  td.float {\n",
       "    text-align: right !important;\n",
       "  }\n",
       "  th.int {\n",
       "    text-align: right !important;\n",
       "  }\n",
       "  td.int {\n",
       "    text-align: right !important;\n",
       "  }\n",
       "</style>\n",
       "\n",
       "<table class=\"dataframe\">\n",
       "  <thead>\n",
       "    <tr>\n",
       "      \n",
       "        \n",
       "          <th class=\"int\"> </th>\n",
       "        \n",
       "      \n",
       "        \n",
       "          <th class=\"str\">subset</th>\n",
       "        \n",
       "      \n",
       "        \n",
       "          <th class=\"str\">name </th>\n",
       "        \n",
       "      \n",
       "        \n",
       "          <th class=\"int\">rows</th>\n",
       "        \n",
       "      \n",
       "        \n",
       "          <th class=\"str\">type</th>\n",
       "        \n",
       "      \n",
       "    </tr>\n",
       "    \n",
       "  </thead>\n",
       "  <tbody>\n",
       "    \n",
       "      <tr>\n",
       "        <th>0</th>\n",
       "          \n",
       "            \n",
       "              <td class=\"str\">test</td>\n",
       "            \n",
       "          \n",
       "            \n",
       "              <td class=\"str\">paper</td>\n",
       "            \n",
       "          \n",
       "            \n",
       "              <td class=\"int\">821</td>\n",
       "            \n",
       "          \n",
       "            \n",
       "              <td class=\"str\">View</td>\n",
       "            \n",
       "          \n",
       "      </tr>\n",
       "    \n",
       "      <tr>\n",
       "        <th>1</th>\n",
       "          \n",
       "            \n",
       "              <td class=\"str\">train</td>\n",
       "            \n",
       "          \n",
       "            \n",
       "              <td class=\"str\">paper</td>\n",
       "            \n",
       "          \n",
       "            \n",
       "              <td class=\"int\">1887</td>\n",
       "            \n",
       "          \n",
       "            \n",
       "              <td class=\"str\">View</td>\n",
       "            \n",
       "          \n",
       "      </tr>\n",
       "    \n",
       "  </tbody>\n",
       "</table>\n",
       "</div>\n",
       "<div style='float: left;'>\n",
       "    <h4>peripheral</h4>\n",
       "    <style>\n",
       "  th {\n",
       "    text-align: left !important;\n",
       "  }\n",
       "  td {\n",
       "    text-align: left !important;\n",
       "  }\n",
       "  th:nth-child(1) {\n",
       "    text-align: right;\n",
       "    border-right: 1px solid LightGray;\n",
       "  }\n",
       "  th.float {\n",
       "    text-align: right !important;\n",
       "  }\n",
       "  td.float {\n",
       "    text-align: right !important;\n",
       "  }\n",
       "  th.int {\n",
       "    text-align: right !important;\n",
       "  }\n",
       "  td.int {\n",
       "    text-align: right !important;\n",
       "  }\n",
       "</style>\n",
       "\n",
       "<table class=\"dataframe\">\n",
       "  <thead>\n",
       "    <tr>\n",
       "      \n",
       "        \n",
       "          <th class=\"int\"> </th>\n",
       "        \n",
       "      \n",
       "        \n",
       "          <th class=\"str\">name   </th>\n",
       "        \n",
       "      \n",
       "        \n",
       "          <th class=\"int\"> rows</th>\n",
       "        \n",
       "      \n",
       "        \n",
       "          <th class=\"str\">type     </th>\n",
       "        \n",
       "      \n",
       "    </tr>\n",
       "    \n",
       "  </thead>\n",
       "  <tbody>\n",
       "    \n",
       "      <tr>\n",
       "        <th>0</th>\n",
       "          \n",
       "            \n",
       "              <td class=\"str\">cites</td>\n",
       "            \n",
       "          \n",
       "            \n",
       "              <td class=\"int\">5429</td>\n",
       "            \n",
       "          \n",
       "            \n",
       "              <td class=\"str\">DataFrame</td>\n",
       "            \n",
       "          \n",
       "      </tr>\n",
       "    \n",
       "      <tr>\n",
       "        <th>1</th>\n",
       "          \n",
       "            \n",
       "              <td class=\"str\">content</td>\n",
       "            \n",
       "          \n",
       "            \n",
       "              <td class=\"int\">49216</td>\n",
       "            \n",
       "          \n",
       "            \n",
       "              <td class=\"str\">DataFrame</td>\n",
       "            \n",
       "          \n",
       "      </tr>\n",
       "    \n",
       "      <tr>\n",
       "        <th>2</th>\n",
       "          \n",
       "            \n",
       "              <td class=\"str\">paper</td>\n",
       "            \n",
       "          \n",
       "            \n",
       "              <td class=\"int\">2708</td>\n",
       "            \n",
       "          \n",
       "            \n",
       "              <td class=\"str\">DataFrame</td>\n",
       "            \n",
       "          \n",
       "      </tr>\n",
       "    \n",
       "  </tbody>\n",
       "</table>\n",
       "</div>"
      ],
      "text/plain": [
       "population\n",
       "    subset   name    rows   type\n",
       "0   test     paper    821   View\n",
       "1   train    paper   1887   View\n",
       "\n",
       "peripheral\n",
       "    name       rows   type     \n",
       "0   cites      5429   DataFrame\n",
       "1   content   49216   DataFrame\n",
       "2   paper      2708   DataFrame"
      ]
     },
     "execution_count": 13,
     "metadata": {},
     "output_type": "execute_result"
    }
   ],
   "source": [
    "container = getml.data.Container(population=data_full, split=split)\n",
    "container.add(cites=cites, content=content, paper=paper)\n",
    "container.freeze()\n",
    "container"
   ]
  },
  {
   "cell_type": "markdown",
   "metadata": {
    "tags": []
   },
   "source": [
    "## 2. Predictive modeling\n",
    "\n",
    "We loaded the data and defined the roles and units. Next, we create a getML pipeline for relational learning."
   ]
  },
  {
   "cell_type": "markdown",
   "metadata": {
    "tags": []
   },
   "source": [
    "### 2.1 Define relational model\n",
    "\n",
    "To get started with relational learning, we need to specify the data model. Even though the data set itself is quite simple with only three tables and six columns in total, the resulting data model is actually quite complicated.\n",
    "\n",
    "That is because the class label can be predicting using three different pieces of information:\n",
    "\n",
    "- The keywords used by the paper\n",
    "- The keywords used by papers it cites and by papers that cite the paper\n",
    "- The class label of papers it cites and by papers that cite the paper\n",
    "\n",
    "The main challenge here is that `cites` is used twice, once to connect the _cited_ papers and then to connect the _citing_ papers. To resolve this, we need two placeholders on `cites`."
   ]
  },
  {
   "cell_type": "code",
   "execution_count": 96,
   "metadata": {
    "tags": []
   },
   "outputs": [],
   "source": [
    "from IPython.display import display, DisplayObject, publish_display_data"
   ]
  },
  {
   "cell_type": "code",
   "execution_count": 98,
   "metadata": {
    "tags": []
   },
   "outputs": [
    {
     "data": {
      "application/vnd.jupyter.widget-view+json": {
       "model_id": "cfff55406fed4406ae792a8bc132d027",
       "version_major": 2,
       "version_minor": 0
      },
      "text/html": [
       "<b>aaa</b>"
      ],
      "text/plain": [
       "_DataModelWidget(serialized_svg='<?xml version=\"1.0\" standalone=\"no\"?>\\r\\n<svg xmlns=\"http://www.w3.org/2000/s…"
      ]
     },
     "metadata": {},
     "output_type": "display_data"
    }
   ],
   "source": [
    "dh = display(\"aa\", display_id=True)"
   ]
  },
  {
   "cell_type": "code",
   "execution_count": 100,
   "metadata": {
    "tags": []
   },
   "outputs": [
    {
     "data": {
      "data": {
       "application/vnd.jupyter.widget-view+json": {
        "model_id": "cfff55406fed4406ae792a8bc132d027",
        "version_major": 2,
        "version_minor": 0
       },
       "text/plain": "_DataModelWidget(serialized_svg='<?xml version=\"1.0\" standalone=\"no\"?>\\r\\n<svg xmlns=\"http://www.w3.org/2000/s…"
      },
      "metadata": {},
      "transient": {
       "display_id": "eb43ca67f357664ce376413c22647816"
      }
     },
     "metadata": {},
     "output_type": "display_data"
    }
   ],
   "source": [
    "publish_display_data({\"data\": dm.population._widget._repr_mimebundle_(), \"metadata\": {}, \"transient\": {\"display_id\": dh.display_id}})"
   ]
  },
  {
   "cell_type": "code",
   "execution_count": 108,
   "metadata": {
    "tags": []
   },
   "outputs": [
    {
     "data": {
      "application/vnd.jupyter.widget-view+json": {
       "model_id": "655df3375be14b028e7771664a669646",
       "version_major": 2,
       "version_minor": 0
      },
      "text/html": [
       "            <div style='margin-top: 15px;'><h4>diagram</h4><br>\n",
       "            \n",
       "            </div>\n",
       "\n",
       "            <div style='margin-top: 15px;'><h4>staging</h4>\n",
       "            <style>\n",
       "  th {\n",
       "    text-align: left !important;\n",
       "  }\n",
       "  td {\n",
       "    text-align: left !important;\n",
       "  }\n",
       "  th:nth-child(1) {\n",
       "    text-align: right;\n",
       "    border-right: 1px solid LightGray;\n",
       "  }\n",
       "  th.float {\n",
       "    text-align: right !important;\n",
       "  }\n",
       "  td.float {\n",
       "    text-align: right !important;\n",
       "  }\n",
       "  th.int {\n",
       "    text-align: right !important;\n",
       "  }\n",
       "  td.int {\n",
       "    text-align: right !important;\n",
       "  }\n",
       "</style>\n",
       "\n",
       "<table class=\"dataframe\">\n",
       "  <thead>\n",
       "    <tr>\n",
       "      \n",
       "        \n",
       "          <th class=\"int\"> </th>\n",
       "        \n",
       "      \n",
       "        \n",
       "          <th class=\"str\">data frames</th>\n",
       "        \n",
       "      \n",
       "        \n",
       "          <th class=\"str\">staging table              </th>\n",
       "        \n",
       "      \n",
       "    </tr>\n",
       "    \n",
       "  </thead>\n",
       "  <tbody>\n",
       "    \n",
       "      <tr>\n",
       "        <th>0</th>\n",
       "          \n",
       "            \n",
       "              <td class=\"str\">population</td>\n",
       "            \n",
       "          \n",
       "            \n",
       "              <td class=\"str\">POPULATION__STAGING_TABLE_1</td>\n",
       "            \n",
       "          \n",
       "      </tr>\n",
       "    \n",
       "  </tbody>\n",
       "</table>\n",
       "            </div>\n",
       "            "
      ],
      "text/plain": [
       "_DataModelWidget(tree={'name': 'population', 'children': []})"
      ]
     },
     "metadata": {},
     "output_type": "display_data"
    }
   ],
   "source": [
    "dm = getml.data.DataModel(paper.to_placeholder(\"population\"))\n",
    "\n",
    "# We need two different placeholders for cites.\n",
    "dm.add(getml.data.to_placeholder(cites=[cites]*2, content=content, paper=paper))\n",
    "dh = display(dm, display_id=True)"
   ]
  },
  {
   "cell_type": "code",
   "execution_count": 110,
   "metadata": {
    "tags": []
   },
   "outputs": [],
   "source": [
    "import IPython"
   ]
  },
  {
   "cell_type": "code",
   "execution_count": 111,
   "metadata": {
    "tags": []
   },
   "outputs": [
    {
     "ename": "AttributeError",
     "evalue": "module 'IPython' has no attribute 'display_formatter'",
     "output_type": "error",
     "traceback": [
      "\u001b[0;31m---------------------------------------------------------------------------\u001b[0m",
      "\u001b[0;31mAttributeError\u001b[0m                            Traceback (most recent call last)",
      "Cell \u001b[0;32mIn[111], line 1\u001b[0m\n\u001b[0;32m----> 1\u001b[0m \u001b[43mIPython\u001b[49m\u001b[38;5;241;43m.\u001b[39;49m\u001b[43mdisplay_formatter\u001b[49m\u001b[38;5;241m.\u001b[39mactive_type\n",
      "\u001b[0;31mAttributeError\u001b[0m: module 'IPython' has no attribute 'display_formatter'"
     ]
    }
   ],
   "source": [
    "IPython.display"
   ]
  },
  {
   "cell_type": "code",
   "execution_count": 81,
   "metadata": {
    "tags": []
   },
   "outputs": [
    {
     "data": {
      "text/plain": [
       "<IPython.core.display.DisplayObject object>"
      ]
     },
     "metadata": {},
     "output_type": "display_data"
    }
   ],
   "source": [
    "DisplayObject({'application/vnd.jupyter.widget-view+json': {'version_major': 2,\n",
    "  'version_minor': 0,\n",
    "  'model_id': 'b7e3b125236f432e8d4b367ecb767b8a'}})"
   ]
  },
  {
   "cell_type": "code",
   "execution_count": 54,
   "metadata": {
    "tags": []
   },
   "outputs": [
    {
     "data": {
      "text/plain": [
       "{'text/plain': '_DataModelWidget(serialized_svg=\\'<?xml version=\"1.0\" standalone=\"no\"?>\\\\r\\\\n<svg xmlns=\"http://www.w3.org/2000/s…',\n",
       " 'application/vnd.jupyter.widget-view+json': {'version_major': 2,\n",
       "  'version_minor': 0,\n",
       "  'model_id': 'b7e3b125236f432e8d4b367ecb767b8a'}}"
      ]
     },
     "execution_count": 54,
     "metadata": {},
     "output_type": "execute_result"
    }
   ],
   "source": [
    "dm.population._widget._repr_mimebundle_()"
   ]
  },
  {
   "cell_type": "code",
   "execution_count": 43,
   "metadata": {
    "tags": []
   },
   "outputs": [],
   "source": [
    "from IPython import get_ipython\n",
    "ip = get_ipython()"
   ]
  },
  {
   "cell_type": "code",
   "execution_count": 92,
   "metadata": {
    "tags": []
   },
   "outputs": [],
   "source": [
    "def display_with_id(data, display_id):\n",
    "    iopub = ip.kernel.iopub_socket\n",
    "    session = ip.kernel.session\n",
    "    # data, md = ip.display_formatter.format(obj)\n",
    "    transient = {'display_id': display_id}\n",
    "    content = {'data': data, 'metadata': {}, 'transient': transient}\n",
    "    msg_type = 'display_data'\n",
    "    session.send(iopub, msg_type, content, parent=ip.parent_header)\n",
    "    \n",
    "def update_with_id(data, display_id):\n",
    "    iopub = ip.kernel.iopub_socket\n",
    "    session = ip.kernel.session\n",
    "    transient = {'display_id': display_id}\n",
    "    content = {'data': data, 'metadata': {}, 'transient': transient}\n",
    "    msg_type = 'update_display_data'\n",
    "    session.send(iopub, msg_type, content, parent=ip.parent_header)"
   ]
  },
  {
   "cell_type": "code",
   "execution_count": 93,
   "metadata": {
    "tags": []
   },
   "outputs": [
    {
     "data": {
      "application/vnd.jupyter.widget-view+json": {
       "model_id": "cfff55406fed4406ae792a8bc132d027",
       "version_major": 2,
       "version_minor": 0
      },
      "text/html": [
       "<b>aaa</b>"
      ],
      "text/plain": [
       "_DataModelWidget(serialized_svg='<?xml version=\"1.0\" standalone=\"no\"?>\\r\\n<svg xmlns=\"http://www.w3.org/2000/s…"
      ]
     },
     "metadata": {},
     "output_type": "display_data"
    }
   ],
   "source": [
    "display_with_id(dm.population._widget._repr_mimebundle_(), 1)"
   ]
  },
  {
   "cell_type": "code",
   "execution_count": 101,
   "metadata": {
    "tags": []
   },
   "outputs": [],
   "source": [
    "update_with_id({**dm.population._widget._repr_mimebundle_(), \"text/html\": \"<b>aaa</b>\"}, dh.display_id)"
   ]
  },
  {
   "cell_type": "code",
   "execution_count": null,
   "metadata": {},
   "outputs": [],
   "source": []
  },
  {
   "cell_type": "code",
   "execution_count": 64,
   "metadata": {
    "tags": []
   },
   "outputs": [
    {
     "data": {
      "text/plain": [
       "'9c8fd43769f7092a6e5f0cc0969fef36'"
      ]
     },
     "execution_count": 64,
     "metadata": {},
     "output_type": "execute_result"
    }
   ],
   "source": [
    "dh.display_id"
   ]
  },
  {
   "cell_type": "code",
   "execution_count": 37,
   "metadata": {
    "tags": []
   },
   "outputs": [
    {
     "ename": "AttributeError",
     "evalue": "'NoneType' object has no attribute 'update'",
     "output_type": "error",
     "traceback": [
      "\u001b[0;31m---------------------------------------------------------------------------\u001b[0m",
      "\u001b[0;31mAttributeError\u001b[0m                            Traceback (most recent call last)",
      "Cell \u001b[0;32mIn[37], line 1\u001b[0m\n\u001b[0;32m----> 1\u001b[0m \u001b[43md\u001b[49m\u001b[38;5;241;43m.\u001b[39;49m\u001b[43mupdate\u001b[49m(\u001b[38;5;124m\"\u001b[39m\u001b[38;5;124mbb\u001b[39m\u001b[38;5;124m\"\u001b[39m)\n",
      "\u001b[0;31mAttributeError\u001b[0m: 'NoneType' object has no attribute 'update'"
     ]
    }
   ],
   "source": [
    "d.update(\"bb\")"
   ]
  },
  {
   "cell_type": "code",
   "execution_count": 73,
   "metadata": {
    "tags": []
   },
   "outputs": [
    {
     "ename": "ValueError",
     "evalue": "A join with the following set of parameters already exists on the placeholder 'population':\n\nJoin(right='cites',\n     on=('paper_id', 'cited_paper_id'),\n     time_stamps=None,\n     upper_time_stamp=None,\n     relationship='many-to-many',\n     memory=None,\n     horizon=None,\n     lagged_targets=False)\n\nRedundant joins are not allowed.",
     "output_type": "error",
     "traceback": [
      "\u001b[0;31m---------------------------------------------------------------------------\u001b[0m",
      "\u001b[0;31mValueError\u001b[0m                                Traceback (most recent call last)",
      "Cell \u001b[0;32mIn[73], line 1\u001b[0m\n\u001b[0;32m----> 1\u001b[0m \u001b[43mdm\u001b[49m\u001b[38;5;241;43m.\u001b[39;49m\u001b[43mpopulation\u001b[49m\u001b[38;5;241;43m.\u001b[39;49m\u001b[43mjoin\u001b[49m\u001b[43m(\u001b[49m\n\u001b[1;32m      2\u001b[0m \u001b[43m    \u001b[49m\u001b[43mdm\u001b[49m\u001b[38;5;241;43m.\u001b[39;49m\u001b[43mcites\u001b[49m\u001b[43m[\u001b[49m\u001b[38;5;241;43m0\u001b[39;49m\u001b[43m]\u001b[49m\u001b[43m,\u001b[49m\n\u001b[1;32m      3\u001b[0m \u001b[43m    \u001b[49m\u001b[43mon\u001b[49m\u001b[38;5;241;43m=\u001b[39;49m\u001b[43m(\u001b[49m\u001b[38;5;124;43m'\u001b[39;49m\u001b[38;5;124;43mpaper_id\u001b[39;49m\u001b[38;5;124;43m'\u001b[39;49m\u001b[43m,\u001b[49m\u001b[43m \u001b[49m\u001b[38;5;124;43m'\u001b[39;49m\u001b[38;5;124;43mcited_paper_id\u001b[39;49m\u001b[38;5;124;43m'\u001b[39;49m\u001b[43m)\u001b[49m\n\u001b[1;32m      4\u001b[0m \u001b[43m)\u001b[49m\n",
      "File \u001b[0;32m~/monorepo/src/python-api/getml/data/placeholder.py:449\u001b[0m, in \u001b[0;36mPlaceholder.join\u001b[0;34m(self, right, on, time_stamps, relationship, memory, horizon, lagged_targets, upper_time_stamp)\u001b[0m\n\u001b[1;32m    437\u001b[0m join \u001b[38;5;241m=\u001b[39m Join(\n\u001b[1;32m    438\u001b[0m     right\u001b[38;5;241m=\u001b[39mright,\n\u001b[1;32m    439\u001b[0m     on\u001b[38;5;241m=\u001b[39mon,\n\u001b[0;32m   (...)\u001b[0m\n\u001b[1;32m    445\u001b[0m     upper_time_stamp\u001b[38;5;241m=\u001b[39mupper_time_stamp,\n\u001b[1;32m    446\u001b[0m )\n\u001b[1;32m    448\u001b[0m \u001b[38;5;28;01mif\u001b[39;00m \u001b[38;5;28many\u001b[39m(join \u001b[38;5;241m==\u001b[39m existing \u001b[38;5;28;01mfor\u001b[39;00m existing \u001b[38;5;129;01min\u001b[39;00m \u001b[38;5;28mself\u001b[39m\u001b[38;5;241m.\u001b[39mjoins):\n\u001b[0;32m--> 449\u001b[0m     \u001b[38;5;28;01mraise\u001b[39;00m \u001b[38;5;167;01mValueError\u001b[39;00m(\n\u001b[1;32m    450\u001b[0m         \u001b[38;5;124m\"\u001b[39m\u001b[38;5;124mA join with the following set of parameters already exists on \u001b[39m\u001b[38;5;124m\"\u001b[39m\n\u001b[1;32m    451\u001b[0m         \u001b[38;5;124mf\u001b[39m\u001b[38;5;124m\"\u001b[39m\u001b[38;5;124mthe placeholder \u001b[39m\u001b[38;5;132;01m{\u001b[39;00m\u001b[38;5;28mself\u001b[39m\u001b[38;5;241m.\u001b[39mname\u001b[38;5;132;01m!r}\u001b[39;00m\u001b[38;5;124m:\u001b[39m\u001b[38;5;124m\"\u001b[39m\n\u001b[1;32m    452\u001b[0m         \u001b[38;5;124mf\u001b[39m\u001b[38;5;124m\"\u001b[39m\u001b[38;5;130;01m\\n\u001b[39;00m\u001b[38;5;130;01m\\n\u001b[39;00m\u001b[38;5;132;01m{\u001b[39;00mjoin\u001b[38;5;132;01m}\u001b[39;00m\u001b[38;5;130;01m\\n\u001b[39;00m\u001b[38;5;130;01m\\n\u001b[39;00m\u001b[38;5;124m\"\u001b[39m\n\u001b[1;32m    453\u001b[0m         \u001b[38;5;124m\"\u001b[39m\u001b[38;5;124mRedundant joins are not allowed.\u001b[39m\u001b[38;5;124m\"\u001b[39m\n\u001b[1;32m    454\u001b[0m     )\n\u001b[1;32m    456\u001b[0m \u001b[38;5;28mself\u001b[39m\u001b[38;5;241m.\u001b[39mjoins\u001b[38;5;241m.\u001b[39mappend(join)\n\u001b[1;32m    457\u001b[0m \u001b[38;5;28mself\u001b[39m\u001b[38;5;241m.\u001b[39mpopulation\u001b[38;5;241m.\u001b[39m_widget\u001b[38;5;241m.\u001b[39mtree \u001b[38;5;241m=\u001b[39m \u001b[38;5;28mself\u001b[39m\u001b[38;5;241m.\u001b[39mpopulation\u001b[38;5;241m.\u001b[39m_to_hierarchy_tree()\n",
      "\u001b[0;31mValueError\u001b[0m: A join with the following set of parameters already exists on the placeholder 'population':\n\nJoin(right='cites',\n     on=('paper_id', 'cited_paper_id'),\n     time_stamps=None,\n     upper_time_stamp=None,\n     relationship='many-to-many',\n     memory=None,\n     horizon=None,\n     lagged_targets=False)\n\nRedundant joins are not allowed."
     ]
    }
   ],
   "source": [
    "dm.population.join(\n",
    "    dm.cites[0],\n",
    "    on=('paper_id', 'cited_paper_id')\n",
    ")"
   ]
  },
  {
   "cell_type": "code",
   "execution_count": 36,
   "metadata": {
    "tags": []
   },
   "outputs": [
    {
     "data": {
      "text/plain": [
       "{'name': 'population',\n",
       " 'children': [{'name': 'cites',\n",
       "   'on': 'paper_id = cited_paper_id',\n",
       "   'children': [{'name': 'content', 'on': 'citing_paper_id = paper_id'},\n",
       "    {'name': 'paper', 'on': 'citing_paper_id = paper_id'}]},\n",
       "  {'name': 'cites',\n",
       "   'on': 'paper_id = citing_paper_id',\n",
       "   'children': [{'name': 'content', 'on': 'cited_paper_id = paper_id'}]}]}"
      ]
     },
     "execution_count": 36,
     "metadata": {},
     "output_type": "execute_result"
    }
   ],
   "source": [
    "dm.population._to_hierarchy_tree()"
   ]
  },
  {
   "cell_type": "code",
   "execution_count": 33,
   "metadata": {
    "tags": []
   },
   "outputs": [
    {
     "data": {
      "text/plain": [
       "'<?xml version=\"1.0\" standalone=\"no\"?>\\r\\n<svg xmlns=\"http://www.w3.org/2000/svg\" height=\"500\" width=\"600\"><defs><linearGradient id=\"population-gradient\" x1=\"0\" y1=\"0\" x2=\"0\" y2=\"1\"><stop offset=\"0%\" stop-color=\"#d54c4c\" stop-opacity=\"1\"/><stop offset=\"100%\" stop-color=\"#71248e\" stop-opacity=\"1\"/></linearGradient></defs><g class=\"visx-group\" transform=\"translate(300, 235)\"><g class=\"visx-group\" transform=\"translate(0, 0)\"><path class=\"visx-link visx-link-radial-diagonal\" d=\"M0,0C-18.154748419528158,55.87457033234028,55.87457033234027,18.15474841952816,111.74914066468054,36.30949683905632\" stroke=\"#374469\" stroke-width=\"1\" fill=\"none\"/><path class=\"visx-link visx-link-radial-diagonal\" d=\"M0,0C-18.154748419528158,55.87457033234028,55.87457033234027,18.15474841952816,111.74914066468054,36.30949683905632\" stroke=\"transparent\" stroke-width=\"10\" fill=\"none\"/></g><g class=\"visx-group\" transform=\"translate(0, 0)\"><path class=\"visx-link visx-link-radial-diagonal\" d=\"M0,0C-18.154748419528158,55.87457033234028,-55.87457033234028,-18.154748419528154,-111.74914066468055,-36.30949683905631\" stroke=\"#374469\" stroke-width=\"1\" fill=\"none\"/><path class=\"visx-link visx-link-radial-diagonal\" d=\"M0,0C-18.154748419528158,55.87457033234028,-55.87457033234028,-18.154748419528154,-111.74914066468055,-36.30949683905631\" stroke=\"transparent\" stroke-width=\"10\" fill=\"none\"/></g><g class=\"visx-group\" transform=\"translate(0, 0)\"><path class=\"visx-link visx-link-radial-diagonal\" d=\"M111.74914066468054,36.30949683905632C167.62371099702082,54.46424525858448,167.62371099702082,-54.46424525858448,223.49828132936108,-72.61899367811264\" stroke=\"#374469\" stroke-width=\"1\" fill=\"none\"/><path class=\"visx-link visx-link-radial-diagonal\" d=\"M111.74914066468054,36.30949683905632C167.62371099702082,54.46424525858448,167.62371099702082,-54.46424525858448,223.49828132936108,-72.61899367811264\" stroke=\"transparent\" stroke-width=\"10\" fill=\"none\"/></g><g class=\"visx-group\" transform=\"translate(0, 0)\"><path class=\"visx-link visx-link-radial-diagonal\" d=\"M111.74914066468054,36.30949683905632C167.62371099702082,54.46424525858448,103.59715071654838,142.5892452585845,138.12953428873118,190.11899367811264\" stroke=\"#374469\" stroke-width=\"1\" fill=\"none\"/><path class=\"visx-link visx-link-radial-diagonal\" d=\"M111.74914066468054,36.30949683905632C167.62371099702082,54.46424525858448,103.59715071654838,142.5892452585845,138.12953428873118,190.11899367811264\" stroke=\"transparent\" stroke-width=\"10\" fill=\"none\"/></g><g class=\"visx-group\" transform=\"translate(0, 0)\"><path class=\"visx-link visx-link-radial-diagonal\" d=\"M-111.74914066468055,-36.30949683905631C-167.62371099702082,-54.46424525858446,-167.62371099702082,-54.46424525858446,-223.4982813293611,-72.61899367811262\" stroke=\"#374469\" stroke-width=\"1\" fill=\"none\"/><path class=\"visx-link visx-link-radial-diagonal\" d=\"M-111.74914066468055,-36.30949683905631C-167.62371099702082,-54.46424525858446,-167.62371099702082,-54.46424525858446,-223.4982813293611,-72.61899367811262\" stroke=\"transparent\" stroke-width=\"10\" fill=\"none\"/></g><g class=\"visx-group\" transform=\"translate(0, 25)\"><circle fill=\"url(\\'#population-gradient\\')\" r=\"30\"/><text dy=\".33em\" fill=\"#ffffff\" font-family=\"Arial\" font-size=\"9\" text-anchor=\"middle\" style=\"pointer-events: none;\">population</text></g><g class=\"visx-group\" transform=\"translate(111.74914066468054, 36.30949683905632)\"><rect height=\"25\" width=\"45\" fill=\"#ffffff\" rx=\"12\" stroke=\"#d54c4c\" stroke-width=\"1\" x=\"-22.5\" y=\"-12.5\"/><text dy=\".33em\" fill=\"#272b4d\" font-family=\"Arial\" font-size=\"9\" text-anchor=\"middle\" style=\"pointer-events: none;\">cites</text></g><g class=\"visx-group\" transform=\"translate(-111.74914066468055, -36.30949683905631)\"><rect height=\"25\" width=\"45\" fill=\"#ffffff\" rx=\"12\" stroke=\"#d54c4c\" stroke-width=\"1\" x=\"-22.5\" y=\"-12.5\"/><text dy=\".33em\" fill=\"#272b4d\" font-family=\"Arial\" font-size=\"9\" text-anchor=\"middle\" style=\"pointer-events: none;\">cites</text></g><g class=\"visx-group\" transform=\"translate(223.49828132936108, -72.61899367811264)\"><rect height=\"25\" width=\"45\" fill=\"#ffffff\" rx=\"12\" stroke=\"#d54c4c\" stroke-width=\"1\" x=\"-22.5\" y=\"-12.5\"/><text dy=\".33em\" fill=\"#272b4d\" font-family=\"Arial\" font-size=\"9\" text-anchor=\"middle\" style=\"pointer-events: none;\">content</text></g><g class=\"visx-group\" transform=\"translate(138.12953428873118, 190.11899367811264)\"><rect height=\"25\" width=\"45\" fill=\"#ffffff\" rx=\"12\" stroke=\"#d54c4c\" stroke-width=\"1\" x=\"-22.5\" y=\"-12.5\"/><text dy=\".33em\" fill=\"#272b4d\" font-family=\"Arial\" font-size=\"9\" text-anchor=\"middle\" style=\"pointer-events: none;\">paper</text></g><g class=\"visx-group\" transform=\"translate(-223.4982813293611, -72.61899367811262)\"><rect height=\"25\" width=\"45\" fill=\"#ffffff\" rx=\"12\" stroke=\"#d54c4c\" stroke-width=\"1\" x=\"-22.5\" y=\"-12.5\"/><text dy=\".33em\" fill=\"#272b4d\" font-family=\"Arial\" font-size=\"9\" text-anchor=\"middle\" style=\"pointer-events: none;\">content</text></g></g></svg>'"
      ]
     },
     "execution_count": 33,
     "metadata": {},
     "output_type": "execute_result"
    }
   ],
   "source": [
    "dm.population._widget.serialized_svg"
   ]
  },
  {
   "cell_type": "code",
   "execution_count": 25,
   "metadata": {
    "tags": []
   },
   "outputs": [],
   "source": [
    "dm.cites[0].join(\n",
    "    dm.content,\n",
    "    on=('citing_paper_id', 'paper_id')\n",
    ")"
   ]
  },
  {
   "cell_type": "code",
   "execution_count": 26,
   "metadata": {
    "tags": []
   },
   "outputs": [],
   "source": [
    "dm.cites[0].join(\n",
    "    dm.paper,\n",
    "    on=('citing_paper_id', 'paper_id'),\n",
    "    relationship=getml.data.relationship.many_to_one\n",
    ")"
   ]
  },
  {
   "cell_type": "code",
   "execution_count": 27,
   "metadata": {
    "tags": []
   },
   "outputs": [],
   "source": [
    "dm.population.join(\n",
    "    dm.cites[1],\n",
    "    on=('paper_id', 'citing_paper_id')\n",
    ")"
   ]
  },
  {
   "cell_type": "code",
   "execution_count": 30,
   "metadata": {
    "tags": []
   },
   "outputs": [],
   "source": [
    "dm.cites[1].join(\n",
    "    dm.content,\n",
    "    on=('cited_paper_id', 'paper_id')\n",
    ")"
   ]
  },
  {
   "cell_type": "code",
   "execution_count": 21,
   "metadata": {
    "tags": []
   },
   "outputs": [
    {
     "data": {
      "application/vnd.jupyter.widget-view+json": {
       "model_id": "8abd27b4eaba45848402825f9288c62e",
       "version_major": 2,
       "version_minor": 0
      },
      "text/html": [
       "            <div style='margin-top: 15px;'><h4>diagram</h4><br>\n",
       "            <div style=\"height:320px;width:1160px;position:relative;\"><svg height=\"310\" width=\"1150\"><rect y=\"0\" x=\"0\" rx=\"10\" ry=\"10\" width=\"150\" height=\"90\" style=\"fill:#6829c2;stroke-width:0;\" /><text y=\"73.8\" x=\"75.0\" dominant-baseline=\"middle\" text-anchor=\"middle\" fill=\"white\">content</text><rect x=\"51\" y=\"10\" rx=\"4\" ry=\"4\" width=\"48\" height=\"48\" style=\" fill:#6829c2;stroke:#ffffff;stroke-width:3;\" /><line x1=\"67.0\" y1=\"10\" x2=\"67.0\" y2=\"58\" style=\"stroke:white;stroke-width:3\" /><line x1=\"83.0\" y1=\"10\" x2=\"83.0\" y2=\"58\" style=\"stroke:white;stroke-width:3\" /><line x1=\"51\" y1=\"26.0\" x2=\"99\" y2=\"26.0\" style=\"stroke:white;stroke-width:3\" /><line x1=\"51\" y1=\"42.0\" x2=\"99\" y2=\"42.0\" style=\"stroke:white;stroke-width:3\" /><rect y=\"110\" x=\"0\" rx=\"10\" ry=\"10\" width=\"150\" height=\"90\" style=\"fill:#6829c2;stroke-width:0;\" /><text y=\"183.8\" x=\"75.0\" dominant-baseline=\"middle\" text-anchor=\"middle\" fill=\"white\">paper</text><rect x=\"51\" y=\"120\" rx=\"4\" ry=\"4\" width=\"48\" height=\"48\" style=\" fill:#6829c2;stroke:#ffffff;stroke-width:3;\" /><line x1=\"67.0\" y1=\"120\" x2=\"67.0\" y2=\"168\" style=\"stroke:white;stroke-width:3\" /><line x1=\"83.0\" y1=\"120\" x2=\"83.0\" y2=\"168\" style=\"stroke:white;stroke-width:3\" /><line x1=\"51\" y1=\"136.0\" x2=\"99\" y2=\"136.0\" style=\"stroke:white;stroke-width:3\" /><line x1=\"51\" y1=\"152.0\" x2=\"99\" y2=\"152.0\" style=\"stroke:white;stroke-width:3\" /><rect y=\"110\" x=\"500\" rx=\"10\" ry=\"10\" width=\"150\" height=\"90\" style=\"fill:#6829c2;stroke-width:0;\" /><text y=\"183.8\" x=\"575.0\" dominant-baseline=\"middle\" text-anchor=\"middle\" fill=\"white\">cites</text><rect x=\"551\" y=\"120\" rx=\"4\" ry=\"4\" width=\"48\" height=\"48\" style=\" fill:#6829c2;stroke:#ffffff;stroke-width:3;\" /><line x1=\"567.0\" y1=\"120\" x2=\"567.0\" y2=\"168\" style=\"stroke:white;stroke-width:3\" /><line x1=\"583.0\" y1=\"120\" x2=\"583.0\" y2=\"168\" style=\"stroke:white;stroke-width:3\" /><line x1=\"551\" y1=\"136.0\" x2=\"599\" y2=\"136.0\" style=\"stroke:white;stroke-width:3\" /><line x1=\"551\" y1=\"152.0\" x2=\"599\" y2=\"152.0\" style=\"stroke:white;stroke-width:3\" /><rect y=\"220\" x=\"500\" rx=\"10\" ry=\"10\" width=\"150\" height=\"90\" style=\"fill:#6829c2;stroke-width:0;\" /><text y=\"293.8\" x=\"575.0\" dominant-baseline=\"middle\" text-anchor=\"middle\" fill=\"white\">cites</text><rect x=\"551\" y=\"230\" rx=\"4\" ry=\"4\" width=\"48\" height=\"48\" style=\" fill:#6829c2;stroke:#ffffff;stroke-width:3;\" /><line x1=\"567.0\" y1=\"230\" x2=\"567.0\" y2=\"278\" style=\"stroke:white;stroke-width:3\" /><line x1=\"583.0\" y1=\"230\" x2=\"583.0\" y2=\"278\" style=\"stroke:white;stroke-width:3\" /><line x1=\"551\" y1=\"246.0\" x2=\"599\" y2=\"246.0\" style=\"stroke:white;stroke-width:3\" /><line x1=\"551\" y1=\"262.0\" x2=\"599\" y2=\"262.0\" style=\"stroke:white;stroke-width:3\" /><rect y=\"220\" x=\"1000\" rx=\"10\" ry=\"10\" width=\"150\" height=\"90\" style=\"fill:#6829c2;stroke-width:0;\" /><text y=\"293.8\" x=\"1075.0\" dominant-baseline=\"middle\" text-anchor=\"middle\" fill=\"white\">population</text><rect x=\"1051\" y=\"230\" rx=\"4\" ry=\"4\" width=\"48\" height=\"48\" style=\" fill:#6829c2;stroke:#ffffff;stroke-width:3;\" /><line x1=\"1067.0\" y1=\"230\" x2=\"1067.0\" y2=\"278\" style=\"stroke:white;stroke-width:3\" /><line x1=\"1083.0\" y1=\"230\" x2=\"1083.0\" y2=\"278\" style=\"stroke:white;stroke-width:3\" /><line x1=\"1051\" y1=\"246.0\" x2=\"1099\" y2=\"246.0\" style=\"stroke:white;stroke-width:3\" /><line x1=\"1051\" y1=\"262.0\" x2=\"1099\" y2=\"262.0\" style=\"stroke:white;stroke-width:3\" /><line x1=\"150\" y1=\"43.0\" x2=\"573.0\" y2=\"43.0\" style=\"stroke:#808080;;stroke-width:4\" /><line x1=\"573.0\" y1=\"41.0\" x2=\"573.0\" y2=\"100\" style=\"stroke:#808080;;stroke-width:4\" /><polygon points=\"573.0, 110 567.0, 100 579.0, 100 \" style=\"fill:#808080;;stroke-width:0;\" /><rect y=\"10.0\" x=\"249.0\" rx=\"10\" ry=\"10\" width=\"150\" height=\"70\" style=\"fill:#6829c2;stroke-width:0;\" /><text dominant-baseline=\"middle\" text-anchor=\"middle\" fill=\"white\"><tspan y=\"45.0\" x=\"324.0\" font-size=\"7pt\" >paper_id = citing_paper_id</tspan></text><line x1=\"150\" y1=\"153.0\" x2=\"490\" y2=\"153.0\" style=\"stroke:#808080;;stroke-width:4\" /><polygon points=\"500, 153.0 490, 147.0 490, 159.0 \" style=\"fill:#808080;;stroke-width:0;\" /><rect y=\"120.0\" x=\"249.0\" rx=\"10\" ry=\"10\" width=\"150\" height=\"70\" style=\"fill:#6829c2;stroke-width:0;\" /><text dominant-baseline=\"middle\" text-anchor=\"middle\" fill=\"white\"><tspan y=\"150.0\" x=\"324.0\" font-size=\"7pt\" >paper_id = citing_paper_id</tspan><tspan y=\"160.0\" x=\"324.0\" font-size=\"7pt\" >Relationship: many-to-one</tspan></text><line x1=\"650\" y1=\"153.0\" x2=\"1073.0\" y2=\"153.0\" style=\"stroke:#808080;;stroke-width:4\" /><line x1=\"1073.0\" y1=\"151.0\" x2=\"1073.0\" y2=\"210\" style=\"stroke:#808080;;stroke-width:4\" /><polygon points=\"1073.0, 220 1067.0, 210 1079.0, 210 \" style=\"fill:#808080;;stroke-width:0;\" /><rect y=\"120.0\" x=\"749.0\" rx=\"10\" ry=\"10\" width=\"150\" height=\"70\" style=\"fill:#6829c2;stroke-width:0;\" /><text dominant-baseline=\"middle\" text-anchor=\"middle\" fill=\"white\"><tspan y=\"155.0\" x=\"824.0\" font-size=\"7pt\" >cited_paper_id = paper_id</tspan></text><line x1=\"650\" y1=\"263.0\" x2=\"990\" y2=\"263.0\" style=\"stroke:#808080;;stroke-width:4\" /><polygon points=\"1000, 263.0 990, 257.0 990, 269.0 \" style=\"fill:#808080;;stroke-width:0;\" /><rect y=\"230.0\" x=\"749.0\" rx=\"10\" ry=\"10\" width=\"150\" height=\"70\" style=\"fill:#6829c2;stroke-width:0;\" /><text dominant-baseline=\"middle\" text-anchor=\"middle\" fill=\"white\"><tspan y=\"265.0\" x=\"824.0\" font-size=\"7pt\" >citing_paper_id = paper_id</tspan></text></svg></div>\n",
       "            </div>\n",
       "\n",
       "            <div style='margin-top: 15px;'><h4>staging</h4>\n",
       "            <style>\n",
       "  th {\n",
       "    text-align: left !important;\n",
       "  }\n",
       "  td {\n",
       "    text-align: left !important;\n",
       "  }\n",
       "  th:nth-child(1) {\n",
       "    text-align: right;\n",
       "    border-right: 1px solid LightGray;\n",
       "  }\n",
       "  th.float {\n",
       "    text-align: right !important;\n",
       "  }\n",
       "  td.float {\n",
       "    text-align: right !important;\n",
       "  }\n",
       "  th.int {\n",
       "    text-align: right !important;\n",
       "  }\n",
       "  td.int {\n",
       "    text-align: right !important;\n",
       "  }\n",
       "</style>\n",
       "\n",
       "<table class=\"dataframe\">\n",
       "  <thead>\n",
       "    <tr>\n",
       "      \n",
       "        \n",
       "          <th class=\"int\"> </th>\n",
       "        \n",
       "      \n",
       "        \n",
       "          <th class=\"str\">data frames </th>\n",
       "        \n",
       "      \n",
       "        \n",
       "          <th class=\"str\">staging table              </th>\n",
       "        \n",
       "      \n",
       "    </tr>\n",
       "    \n",
       "  </thead>\n",
       "  <tbody>\n",
       "    \n",
       "      <tr>\n",
       "        <th>0</th>\n",
       "          \n",
       "            \n",
       "              <td class=\"str\">population</td>\n",
       "            \n",
       "          \n",
       "            \n",
       "              <td class=\"str\">POPULATION__STAGING_TABLE_1</td>\n",
       "            \n",
       "          \n",
       "      </tr>\n",
       "    \n",
       "      <tr>\n",
       "        <th>1</th>\n",
       "          \n",
       "            \n",
       "              <td class=\"str\">cites, paper</td>\n",
       "            \n",
       "          \n",
       "            \n",
       "              <td class=\"str\">CITES__STAGING_TABLE_2</td>\n",
       "            \n",
       "          \n",
       "      </tr>\n",
       "    \n",
       "      <tr>\n",
       "        <th>2</th>\n",
       "          \n",
       "            \n",
       "              <td class=\"str\">cites</td>\n",
       "            \n",
       "          \n",
       "            \n",
       "              <td class=\"str\">CITES__STAGING_TABLE_3</td>\n",
       "            \n",
       "          \n",
       "      </tr>\n",
       "    \n",
       "      <tr>\n",
       "        <th>3</th>\n",
       "          \n",
       "            \n",
       "              <td class=\"str\">content</td>\n",
       "            \n",
       "          \n",
       "            \n",
       "              <td class=\"str\">CONTENT__STAGING_TABLE_4</td>\n",
       "            \n",
       "          \n",
       "      </tr>\n",
       "    \n",
       "  </tbody>\n",
       "</table>\n",
       "            </div>\n",
       "            "
      ],
      "text/plain": [
       "population:\n",
       "  columns:\n",
       "  - class_label: categorical\n",
       "  - paper_id: join_key\n",
       "\n",
       "  joins:\n",
       "  - right: 'cites'\n",
       "    on: (population.paper_id, cites.cited_paper_id)\n",
       "    relationship: 'many-to-many'\n",
       "    lagged_targets: False\n",
       "  - right: 'cites'\n",
       "    on: (population.paper_id, cites.citing_paper_id)\n",
       "    relationship: 'many-to-many'\n",
       "    lagged_targets: False\n",
       "\n",
       "cites:\n",
       "  columns:\n",
       "  - cited_paper_id: join_key\n",
       "  - citing_paper_id: join_key\n",
       "\n",
       "  joins:\n",
       "  - right: 'content'\n",
       "    on: (cites.citing_paper_id, content.paper_id)\n",
       "    relationship: 'many-to-many'\n",
       "    lagged_targets: False\n",
       "  - right: 'paper'\n",
       "    on: (cites.citing_paper_id, paper.paper_id)\n",
       "    relationship: 'many-to-one'\n",
       "    lagged_targets: False\n",
       "\n",
       "content:\n",
       "  columns:\n",
       "  - word_cited_id: categorical\n",
       "  - paper_id: join_key\n",
       "\n",
       "paper:\n",
       "  columns:\n",
       "  - class_label: categorical\n",
       "  - paper_id: join_key\n",
       "\n",
       "cites:\n",
       "  columns:\n",
       "  - cited_paper_id: join_key\n",
       "  - citing_paper_id: join_key"
      ]
     },
     "execution_count": 21,
     "metadata": {},
     "output_type": "execute_result"
    }
   ],
   "source": [
    "dm"
   ]
  },
  {
   "cell_type": "code",
   "execution_count": 69,
   "metadata": {
    "tags": []
   },
   "outputs": [],
   "source": [
    "from IPython.display import display_html, display, SVG"
   ]
  },
  {
   "cell_type": "code",
   "execution_count": 85,
   "metadata": {
    "tags": []
   },
   "outputs": [],
   "source": [
    "dm = getml.data.DataModel(paper.to_placeholder(\"population\"))\n",
    "\n",
    "# We need two different placeholders for cites.\n",
    "dm.add(getml.data.to_placeholder(cites=[cites]*2, content=content, paper=paper))\n",
    "\n",
    "dm.population.join(\n",
    "    dm.cites[0],\n",
    "    on=('paper_id', 'cited_paper_id')\n",
    ")\n",
    "\n",
    "dm.cites[0].join(\n",
    "    dm.content,\n",
    "    on=('citing_paper_id', 'paper_id')\n",
    ")\n",
    "\n",
    "dm.cites[0].join(\n",
    "    dm.paper,\n",
    "    on=('citing_paper_id', 'paper_id'),\n",
    "    relationship=getml.data.relationship.many_to_one\n",
    ")\n",
    "\n",
    "dm.population.join(\n",
    "    dm.cites[1],\n",
    "    on=('paper_id', 'citing_paper_id')\n",
    ")\n",
    "\n",
    "dm.cites[1].join(\n",
    "    dm.content,\n",
    "    on=('cited_paper_id', 'paper_id')\n",
    ")\n",
    "\n",
    "dm.cites[1].join(\n",
    "    dm.paper,\n",
    "    on=('cited_paper_id', 'paper_id'),\n",
    "    relationship=getml.data.relationship.many_to_one\n",
    ")\n",
    "\n",
    "dm.population.join(\n",
    "    dm.content,\n",
    "    on='paper_id'\n",
    ")"
   ]
  },
  {
   "cell_type": "code",
   "execution_count": 91,
   "metadata": {
    "tags": []
   },
   "outputs": [
    {
     "data": {
      "application/vnd.jupyter.widget-view+json": {
       "model_id": "bb8e01b7a0284d62a722fccfc21a93cd",
       "version_major": 2,
       "version_minor": 0
      },
      "text/html": [
       "            <div style='margin-top: 15px;'><h4>diagram</h4><br>\n",
       "            <?xml version=\"1.0\" standalone=\"no\"?>\r\n",
       "<svg xmlns=\"http://www.w3.org/2000/svg\" height=\"500\" width=\"600\"><defs><linearGradient id=\"population-gradient\" x1=\"0\" y1=\"0\" x2=\"0\" y2=\"1\"><stop offset=\"0%\" stop-color=\"#d54c4c\" stop-opacity=\"1\"/><stop offset=\"100%\" stop-color=\"#71248e\" stop-opacity=\"1\"/></linearGradient></defs><g class=\"visx-group\" transform=\"translate(300, 235)\"><g class=\"visx-group\" transform=\"translate(0, 0)\"><path class=\"visx-link visx-link-radial-diagonal\" d=\"M0,0C-12.214811835543347,57.46617154311109,55.87457033234027,-18.15474841952816,111.74914066468054,-36.30949683905632\" stroke=\"#374469\" stroke-width=\"1\" fill=\"none\"/><path class=\"visx-link visx-link-radial-diagonal\" d=\"M0,0C-12.214811835543347,57.46617154311109,55.87457033234027,-18.15474841952816,111.74914066468054,-36.30949683905632\" stroke=\"transparent\" stroke-width=\"10\" fill=\"none\"/></g><g class=\"visx-group\" transform=\"translate(0, 0)\"><path class=\"visx-link visx-link-radial-diagonal\" d=\"M0,0C-12.214811835543347,57.46617154311109,-34.53238357218279,47.52974841952816,-69.06476714436558,95.05949683905632\" stroke=\"#374469\" stroke-width=\"1\" fill=\"none\"/><path class=\"visx-link visx-link-radial-diagonal\" d=\"M0,0C-12.214811835543347,57.46617154311109,-34.53238357218279,47.52974841952816,-69.06476714436558,95.05949683905632\" stroke=\"transparent\" stroke-width=\"10\" fill=\"none\"/></g><g class=\"visx-group\" transform=\"translate(0, 0)\"><path class=\"visx-link visx-link-radial-diagonal\" d=\"M0,0C-12.214811835543347,57.46617154311109,-43.65975849679693,-39.311423123582905,-87.31951699359387,-78.62284624716581\" stroke=\"#374469\" stroke-width=\"1\" fill=\"none\"/><path class=\"visx-link visx-link-radial-diagonal\" d=\"M0,0C-12.214811835543347,57.46617154311109,-43.65975849679693,-39.311423123582905,-87.31951699359387,-78.62284624716581\" stroke=\"transparent\" stroke-width=\"10\" fill=\"none\"/></g><g class=\"visx-group\" transform=\"translate(0, 0)\"><path class=\"visx-link visx-link-radial-diagonal\" d=\"M111.74914066468054,-36.30949683905632C167.62371099702082,-54.46424525858448,130.97927549039073,-117.93426937074877,174.63903398718764,-157.24569249433168\" stroke=\"#374469\" stroke-width=\"1\" fill=\"none\"/><path class=\"visx-link visx-link-radial-diagonal\" d=\"M111.74914066468054,-36.30949683905632C167.62371099702082,-54.46424525858448,130.97927549039073,-117.93426937074877,174.63903398718764,-157.24569249433168\" stroke=\"transparent\" stroke-width=\"10\" fill=\"none\"/></g><g class=\"visx-group\" transform=\"translate(0, 0)\"><path class=\"visx-link visx-link-radial-diagonal\" d=\"M111.74914066468054,-36.30949683905632C167.62371099702082,-54.46424525858448,175.28448405865817,18.42314165092391,233.71264541154423,24.564188867898547\" stroke=\"#374469\" stroke-width=\"1\" fill=\"none\"/><path class=\"visx-link visx-link-radial-diagonal\" d=\"M111.74914066468054,-36.30949683905632C167.62371099702082,-54.46424525858448,175.28448405865817,18.42314165092391,233.71264541154423,24.564188867898547\" stroke=\"transparent\" stroke-width=\"10\" fill=\"none\"/></g><g class=\"visx-group\" transform=\"translate(0, 0)\"><path class=\"visx-link visx-link-radial-diagonal\" d=\"M-69.06476714436558,95.05949683905632C-103.59715071654837,142.5892452585845,-36.644435506630046,172.39851462933325,-48.85924734217339,229.86468617244435\" stroke=\"#374469\" stroke-width=\"1\" fill=\"none\"/><path class=\"visx-link visx-link-radial-diagonal\" d=\"M-69.06476714436558,95.05949683905632C-103.59715071654837,142.5892452585845,-36.644435506630046,172.39851462933325,-48.85924734217339,229.86468617244435\" stroke=\"transparent\" stroke-width=\"10\" fill=\"none\"/></g><g class=\"visx-group\" transform=\"translate(0, 0)\"><path class=\"visx-link visx-link-radial-diagonal\" d=\"M-69.06476714436558,95.05949683905632C-103.59715071654837,142.5892452585845,-152.63697741700727,88.12500000000006,-203.51596988934304,117.50000000000009\" stroke=\"#374469\" stroke-width=\"1\" fill=\"none\"/><path class=\"visx-link visx-link-radial-diagonal\" d=\"M-69.06476714436558,95.05949683905632C-103.59715071654837,142.5892452585845,-152.63697741700727,88.12500000000006,-203.51596988934304,117.50000000000009\" stroke=\"transparent\" stroke-width=\"10\" fill=\"none\"/></g><g class=\"visx-group\" transform=\"translate(0, 25)\"><circle fill=\"url('#population-gradient')\" r=\"30\"/><text dy=\".33em\" fill=\"#ffffff\" font-family=\"Arial\" font-size=\"9\" text-anchor=\"middle\" style=\"pointer-events: none;\">population</text></g><g class=\"visx-group\" transform=\"translate(111.74914066468054, -36.30949683905632)\"><rect height=\"25\" width=\"45\" fill=\"#ffffff\" rx=\"12\" stroke=\"#d54c4c\" stroke-width=\"1\" x=\"-22.5\" y=\"-12.5\"/><text dy=\".33em\" fill=\"#272b4d\" font-family=\"Arial\" font-size=\"9\" text-anchor=\"middle\" style=\"pointer-events: none;\">cites</text></g><g class=\"visx-group\" transform=\"translate(-69.06476714436558, 95.05949683905632)\"><rect height=\"25\" width=\"45\" fill=\"#ffffff\" rx=\"12\" stroke=\"#d54c4c\" stroke-width=\"1\" x=\"-22.5\" y=\"-12.5\"/><text dy=\".33em\" fill=\"#272b4d\" font-family=\"Arial\" font-size=\"9\" text-anchor=\"middle\" style=\"pointer-events: none;\">cites</text></g><g class=\"visx-group\" transform=\"translate(-87.31951699359387, -78.62284624716581)\"><rect height=\"25\" width=\"45\" fill=\"#ffffff\" rx=\"12\" stroke=\"#d54c4c\" stroke-width=\"1\" x=\"-22.5\" y=\"-12.5\"/><text dy=\".33em\" fill=\"#272b4d\" font-family=\"Arial\" font-size=\"9\" text-anchor=\"middle\" style=\"pointer-events: none;\">content</text></g><g class=\"visx-group\" transform=\"translate(174.63903398718764, -157.24569249433168)\"><rect height=\"25\" width=\"45\" fill=\"#ffffff\" rx=\"12\" stroke=\"#d54c4c\" stroke-width=\"1\" x=\"-22.5\" y=\"-12.5\"/><text dy=\".33em\" fill=\"#272b4d\" font-family=\"Arial\" font-size=\"9\" text-anchor=\"middle\" style=\"pointer-events: none;\">content</text></g><g class=\"visx-group\" transform=\"translate(233.71264541154423, 24.564188867898547)\"><rect height=\"25\" width=\"45\" fill=\"#ffffff\" rx=\"12\" stroke=\"#d54c4c\" stroke-width=\"1\" x=\"-22.5\" y=\"-12.5\"/><text dy=\".33em\" fill=\"#272b4d\" font-family=\"Arial\" font-size=\"9\" text-anchor=\"middle\" style=\"pointer-events: none;\">paper</text></g><g class=\"visx-group\" transform=\"translate(-48.85924734217339, 229.86468617244435)\"><rect height=\"25\" width=\"45\" fill=\"#ffffff\" rx=\"12\" stroke=\"#d54c4c\" stroke-width=\"1\" x=\"-22.5\" y=\"-12.5\"/><text dy=\".33em\" fill=\"#272b4d\" font-family=\"Arial\" font-size=\"9\" text-anchor=\"middle\" style=\"pointer-events: none;\">content</text></g><g class=\"visx-group\" transform=\"translate(-203.51596988934304, 117.50000000000009)\"><rect height=\"25\" width=\"45\" fill=\"#ffffff\" rx=\"12\" stroke=\"#d54c4c\" stroke-width=\"1\" x=\"-22.5\" y=\"-12.5\"/><text dy=\".33em\" fill=\"#272b4d\" font-family=\"Arial\" font-size=\"9\" text-anchor=\"middle\" style=\"pointer-events: none;\">paper</text></g></g></svg>\n",
       "            </div>\n",
       "\n",
       "            <div style='margin-top: 15px;'><h4>staging</h4>\n",
       "            <style>\n",
       "  th {\n",
       "    text-align: left !important;\n",
       "  }\n",
       "  td {\n",
       "    text-align: left !important;\n",
       "  }\n",
       "  th:nth-child(1) {\n",
       "    text-align: right;\n",
       "    border-right: 1px solid LightGray;\n",
       "  }\n",
       "  th.float {\n",
       "    text-align: right !important;\n",
       "  }\n",
       "  td.float {\n",
       "    text-align: right !important;\n",
       "  }\n",
       "  th.int {\n",
       "    text-align: right !important;\n",
       "  }\n",
       "  td.int {\n",
       "    text-align: right !important;\n",
       "  }\n",
       "</style>\n",
       "\n",
       "<table class=\"dataframe\">\n",
       "  <thead>\n",
       "    <tr>\n",
       "      \n",
       "        \n",
       "          <th class=\"int\"> </th>\n",
       "        \n",
       "      \n",
       "        \n",
       "          <th class=\"str\">data frames </th>\n",
       "        \n",
       "      \n",
       "        \n",
       "          <th class=\"str\">staging table              </th>\n",
       "        \n",
       "      \n",
       "    </tr>\n",
       "    \n",
       "  </thead>\n",
       "  <tbody>\n",
       "    \n",
       "      <tr>\n",
       "        <th>0</th>\n",
       "          \n",
       "            \n",
       "              <td class=\"str\">population</td>\n",
       "            \n",
       "          \n",
       "            \n",
       "              <td class=\"str\">POPULATION__STAGING_TABLE_1</td>\n",
       "            \n",
       "          \n",
       "      </tr>\n",
       "    \n",
       "      <tr>\n",
       "        <th>1</th>\n",
       "          \n",
       "            \n",
       "              <td class=\"str\">cites, paper</td>\n",
       "            \n",
       "          \n",
       "            \n",
       "              <td class=\"str\">CITES__STAGING_TABLE_2</td>\n",
       "            \n",
       "          \n",
       "      </tr>\n",
       "    \n",
       "      <tr>\n",
       "        <th>2</th>\n",
       "          \n",
       "            \n",
       "              <td class=\"str\">cites, paper</td>\n",
       "            \n",
       "          \n",
       "            \n",
       "              <td class=\"str\">CITES__STAGING_TABLE_3</td>\n",
       "            \n",
       "          \n",
       "      </tr>\n",
       "    \n",
       "      <tr>\n",
       "        <th>3</th>\n",
       "          \n",
       "            \n",
       "              <td class=\"str\">content</td>\n",
       "            \n",
       "          \n",
       "            \n",
       "              <td class=\"str\">CONTENT__STAGING_TABLE_4</td>\n",
       "            \n",
       "          \n",
       "      </tr>\n",
       "    \n",
       "  </tbody>\n",
       "</table>\n",
       "            </div>\n",
       "            "
      ],
      "text/plain": [
       "_DataModelWidget(serialized_svg='<?xml version=\"1.0\" standalone=\"no\"?>\\r\\n<svg xmlns=\"http://www.w3.org/2000/s…"
      ]
     },
     "execution_count": 91,
     "metadata": {},
     "output_type": "execute_result"
    }
   ],
   "source": [
    "dm"
   ]
  },
  {
   "cell_type": "code",
   "execution_count": 23,
   "metadata": {
    "tags": []
   },
   "outputs": [
    {
     "data": {
      "text/plain": [
       "{'population': population:\n",
       "   columns:\n",
       "   - class_label: categorical\n",
       "   - paper_id: join_key\n",
       " \n",
       "   joins:\n",
       "   - right: 'cites'\n",
       "     on: (population.paper_id, cites.cited_paper_id)\n",
       "     relationship: 'many-to-many'\n",
       "     lagged_targets: False\n",
       "   - right: 'cites'\n",
       "     on: (population.paper_id, cites.citing_paper_id)\n",
       "     relationship: 'many-to-many'\n",
       "     lagged_targets: False\n",
       "   - right: 'content'\n",
       "     on: (population.paper_id, content.paper_id)\n",
       "     relationship: 'many-to-many'\n",
       "     lagged_targets: False,\n",
       " 'peripheral': {'cites': [cites:\n",
       "     columns:\n",
       "     - cited_paper_id: join_key\n",
       "     - citing_paper_id: join_key\n",
       "   \n",
       "     joins:\n",
       "     - right: 'content'\n",
       "       on: (cites.citing_paper_id, content.paper_id)\n",
       "       relationship: 'many-to-many'\n",
       "       lagged_targets: False\n",
       "     - right: 'paper'\n",
       "       on: (cites.citing_paper_id, paper.paper_id)\n",
       "       relationship: 'many-to-one'\n",
       "       lagged_targets: False,\n",
       "   cites:\n",
       "     columns:\n",
       "     - cited_paper_id: join_key\n",
       "     - citing_paper_id: join_key\n",
       "   \n",
       "     joins:\n",
       "     - right: 'content'\n",
       "       on: (cites.cited_paper_id, content.paper_id)\n",
       "       relationship: 'many-to-many'\n",
       "       lagged_targets: False\n",
       "     - right: 'paper'\n",
       "       on: (cites.cited_paper_id, paper.paper_id)\n",
       "       relationship: 'many-to-one'\n",
       "       lagged_targets: False],\n",
       "  'content': content:\n",
       "    columns:\n",
       "    - word_cited_id: categorical\n",
       "    - paper_id: join_key,\n",
       "  'paper': paper:\n",
       "    columns:\n",
       "    - class_label: categorical\n",
       "    - paper_id: join_key}}"
      ]
     },
     "execution_count": 23,
     "metadata": {},
     "output_type": "execute_result"
    }
   ],
   "source": [
    "vars(dm)"
   ]
  },
  {
   "cell_type": "code",
   "execution_count": 24,
   "metadata": {
    "tags": []
   },
   "outputs": [
    {
     "data": {
      "text/plain": [
       "[cites:\n",
       "   columns:\n",
       "   - cited_paper_id: join_key\n",
       "   - citing_paper_id: join_key\n",
       " \n",
       "   joins:\n",
       "   - right: 'content'\n",
       "     on: (cites.citing_paper_id, content.paper_id)\n",
       "     relationship: 'many-to-many'\n",
       "     lagged_targets: False\n",
       "   - right: 'paper'\n",
       "     on: (cites.citing_paper_id, paper.paper_id)\n",
       "     relationship: 'many-to-one'\n",
       "     lagged_targets: False,\n",
       " cites:\n",
       "   columns:\n",
       "   - cited_paper_id: join_key\n",
       "   - citing_paper_id: join_key\n",
       " \n",
       "   joins:\n",
       "   - right: 'content'\n",
       "     on: (cites.cited_paper_id, content.paper_id)\n",
       "     relationship: 'many-to-many'\n",
       "     lagged_targets: False\n",
       "   - right: 'paper'\n",
       "     on: (cites.cited_paper_id, paper.paper_id)\n",
       "     relationship: 'many-to-one'\n",
       "     lagged_targets: False]"
      ]
     },
     "execution_count": 24,
     "metadata": {},
     "output_type": "execute_result"
    }
   ],
   "source": [
    "dm.cites"
   ]
  },
  {
   "cell_type": "code",
   "execution_count": 25,
   "metadata": {
    "tags": []
   },
   "outputs": [
    {
     "ename": "AttributeError",
     "evalue": "'DataModel' object has no attribute 'widget'",
     "output_type": "error",
     "traceback": [
      "\u001b[0;31m---------------------------------------------------------------------------\u001b[0m",
      "\u001b[0;31mKeyError\u001b[0m                                  Traceback (most recent call last)",
      "File \u001b[0;32m~/monorepo/src/python-api/getml/data/data_model.py:215\u001b[0m, in \u001b[0;36mDataModel.__getattr__\u001b[0;34m(self, key)\u001b[0m\n\u001b[1;32m    214\u001b[0m \u001b[38;5;28;01mtry\u001b[39;00m:\n\u001b[0;32m--> 215\u001b[0m     \u001b[38;5;28;01mreturn\u001b[39;00m \u001b[38;5;28;43mself\u001b[39;49m\u001b[43m[\u001b[49m\u001b[43mkey\u001b[49m\u001b[43m]\u001b[49m\n\u001b[1;32m    216\u001b[0m \u001b[38;5;28;01mexcept\u001b[39;00m \u001b[38;5;167;01mKeyError\u001b[39;00m:\n",
      "File \u001b[0;32m~/monorepo/src/python-api/getml/data/data_model.py:229\u001b[0m, in \u001b[0;36mDataModel.__getitem__\u001b[0;34m(self, key)\u001b[0m\n\u001b[1;32m    223\u001b[0m phs \u001b[38;5;241m=\u001b[39m {\n\u001b[1;32m    224\u001b[0m     \u001b[38;5;124m\"\u001b[39m\u001b[38;5;124mpopulation\u001b[39m\u001b[38;5;124m\"\u001b[39m: population,\n\u001b[1;32m    225\u001b[0m     population\u001b[38;5;241m.\u001b[39mname: population,\n\u001b[1;32m    226\u001b[0m     \u001b[38;5;241m*\u001b[39m\u001b[38;5;241m*\u001b[39mperipheral,\n\u001b[1;32m    227\u001b[0m }\n\u001b[0;32m--> 229\u001b[0m \u001b[38;5;28;01mreturn\u001b[39;00m \u001b[43mphs\u001b[49m\u001b[43m[\u001b[49m\u001b[43mkey\u001b[49m\u001b[43m]\u001b[49m\n",
      "\u001b[0;31mKeyError\u001b[0m: 'widget'",
      "\nDuring handling of the above exception, another exception occurred:\n",
      "\u001b[0;31mAttributeError\u001b[0m                            Traceback (most recent call last)",
      "Cell \u001b[0;32mIn[25], line 1\u001b[0m\n\u001b[0;32m----> 1\u001b[0m \u001b[43mdm\u001b[49m\u001b[38;5;241;43m.\u001b[39;49m\u001b[43mwidget\u001b[49m\u001b[38;5;241m.\u001b[39mdata_model\n",
      "File \u001b[0;32m~/monorepo/src/python-api/getml/data/data_model.py:217\u001b[0m, in \u001b[0;36mDataModel.__getattr__\u001b[0;34m(self, key)\u001b[0m\n\u001b[1;32m    215\u001b[0m     \u001b[38;5;28;01mreturn\u001b[39;00m \u001b[38;5;28mself\u001b[39m[key]\n\u001b[1;32m    216\u001b[0m \u001b[38;5;28;01mexcept\u001b[39;00m \u001b[38;5;167;01mKeyError\u001b[39;00m:\n\u001b[0;32m--> 217\u001b[0m     \u001b[38;5;28;43msuper\u001b[39;49m\u001b[43m(\u001b[49m\u001b[43m)\u001b[49m\u001b[38;5;241;43m.\u001b[39;49m\u001b[38;5;21;43m__getattribute__\u001b[39;49m\u001b[43m(\u001b[49m\u001b[43mkey\u001b[49m\u001b[43m)\u001b[49m\n",
      "\u001b[0;31mAttributeError\u001b[0m: 'DataModel' object has no attribute 'widget'"
     ]
    }
   ],
   "source": [
    "dm.widget.data_model"
   ]
  },
  {
   "cell_type": "code",
   "execution_count": null,
   "metadata": {
    "tags": []
   },
   "outputs": [],
   "source": [
    "dm.to_hierarchy_tree()"
   ]
  },
  {
   "cell_type": "markdown",
   "metadata": {},
   "source": [
    " "
   ]
  },
  {
   "cell_type": "markdown",
   "metadata": {},
   "source": [
    "### 2.2 getML pipeline"
   ]
  },
  {
   "cell_type": "markdown",
   "metadata": {},
   "source": [
    "<!-- #### 2.1.1  -->\n",
    "__Set-up the feature learner & predictor__"
   ]
  },
  {
   "cell_type": "markdown",
   "metadata": {},
   "source": [
    "We use the relboost algorithms for this problem. Because of the large number of keywords, we regularize the model a bit by requiring a minimum support for the keywords (`min_num_samples`)."
   ]
  },
  {
   "cell_type": "code",
   "execution_count": null,
   "metadata": {},
   "outputs": [],
   "source": [
    "mapping = getml.preprocessors.Mapping()\n",
    "\n",
    "fast_prop = getml.feature_learning.FastProp(\n",
    "    loss_function=getml.feature_learning.loss_functions.CrossEntropyLoss,\n",
    "    num_threads=1\n",
    ")\n",
    "\n",
    "relboost = getml.feature_learning.Relboost(\n",
    "    num_features=10,\n",
    "    num_subfeatures=10,\n",
    "    loss_function=getml.feature_learning.loss_functions.CrossEntropyLoss,\n",
    "    seed=4367,\n",
    "    num_threads=1,\n",
    "    min_num_samples=30\n",
    ")\n",
    "\n",
    "predictor = getml.predictors.XGBoostClassifier()"
   ]
  },
  {
   "cell_type": "markdown",
   "metadata": {},
   "source": [
    "__Build the pipeline__"
   ]
  },
  {
   "cell_type": "code",
   "execution_count": null,
   "metadata": {},
   "outputs": [],
   "source": [
    "pipe1 = getml.pipeline.Pipeline(\n",
    "    tags=['fast_prop'],\n",
    "    data_model=dm,\n",
    "    preprocessors=[mapping],\n",
    "    feature_learners=[fast_prop],\n",
    "    predictors=[predictor]\n",
    ")\n",
    "\n",
    "pipe1"
   ]
  },
  {
   "cell_type": "code",
   "execution_count": null,
   "metadata": {},
   "outputs": [],
   "source": [
    "pipe2 = getml.pipeline.Pipeline(\n",
    "    tags=['relboost'],\n",
    "    data_model=dm,\n",
    "    feature_learners=[relboost],\n",
    "    predictors=[predictor]\n",
    ")\n",
    "\n",
    "pipe2"
   ]
  },
  {
   "cell_type": "markdown",
   "metadata": {},
   "source": [
    " "
   ]
  },
  {
   "cell_type": "markdown",
   "metadata": {},
   "source": [
    "### 2.3 Model training"
   ]
  },
  {
   "cell_type": "code",
   "execution_count": null,
   "metadata": {},
   "outputs": [],
   "source": [
    "pipe1.check(container.train)"
   ]
  },
  {
   "cell_type": "code",
   "execution_count": null,
   "metadata": {},
   "outputs": [],
   "source": [
    "pipe1.fit(container.train)"
   ]
  },
  {
   "cell_type": "code",
   "execution_count": null,
   "metadata": {},
   "outputs": [],
   "source": [
    "pipe2.check(container.train)"
   ]
  },
  {
   "cell_type": "markdown",
   "metadata": {},
   "source": [
    "The training process seems a bit intimidating. That is because the relboost algorithms needs to train separate models for each class label. This is due to the nature of the generated features."
   ]
  },
  {
   "cell_type": "code",
   "execution_count": null,
   "metadata": {},
   "outputs": [],
   "source": [
    "pipe2.fit(container.train)"
   ]
  },
  {
   "cell_type": "markdown",
   "metadata": {},
   "source": [
    " "
   ]
  },
  {
   "cell_type": "markdown",
   "metadata": {},
   "source": [
    "### 2.4 Model evaluation"
   ]
  },
  {
   "cell_type": "code",
   "execution_count": null,
   "metadata": {
    "lines_to_next_cell": 0
   },
   "outputs": [],
   "source": [
    "pipe1.score(container.test)"
   ]
  },
  {
   "cell_type": "code",
   "execution_count": null,
   "metadata": {},
   "outputs": [],
   "source": [
    "pipe2.score(container.test)"
   ]
  },
  {
   "cell_type": "markdown",
   "metadata": {},
   "source": [
    "To make things a bit easier, we just look at our test results."
   ]
  },
  {
   "cell_type": "code",
   "execution_count": null,
   "metadata": {},
   "outputs": [],
   "source": [
    "pipe1.scores.filter(lambda score: score.set_used == \"test\")"
   ]
  },
  {
   "cell_type": "code",
   "execution_count": null,
   "metadata": {},
   "outputs": [],
   "source": [
    "pipe2.scores.filter(lambda score: score.set_used == \"test\")"
   ]
  },
  {
   "cell_type": "markdown",
   "metadata": {},
   "source": [
    "We take the average of the AUC values, which is also the value that appears in the getML monitor (http://localhost:1709/#/listpipelines/cora)."
   ]
  },
  {
   "cell_type": "code",
   "execution_count": null,
   "metadata": {},
   "outputs": [],
   "source": [
    "print(np.mean(pipe1.auc))\n",
    "print(np.mean(pipe2.auc))"
   ]
  },
  {
   "cell_type": "markdown",
   "metadata": {},
   "source": [
    "The accuracy for multiple targets can be calculated using one of two methods. The first method is to simply take the average of the pair-wise accuracy values, which is also the value that appears in the getML monitor (http://localhost:1709/#/listpipelines/cora)."
   ]
  },
  {
   "cell_type": "code",
   "execution_count": null,
   "metadata": {},
   "outputs": [],
   "source": [
    "print(np.mean(pipe1.accuracy))\n",
    "print(np.mean(pipe2.accuracy))"
   ]
  },
  {
   "cell_type": "markdown",
   "metadata": {},
   "source": [
    "However, the benchmarking papers actually use a different approach: \n",
    "\n",
    "- They first generate probabilities for each of the labels:"
   ]
  },
  {
   "cell_type": "code",
   "execution_count": null,
   "metadata": {},
   "outputs": [],
   "source": [
    "probabilities1 = pipe1.predict(container.test)\n",
    "probabilities2 = pipe2.predict(container.test)"
   ]
  },
  {
   "cell_type": "markdown",
   "metadata": {},
   "source": [
    "- They then find the class label with the highest probability:"
   ]
  },
  {
   "cell_type": "code",
   "execution_count": null,
   "metadata": {},
   "outputs": [],
   "source": [
    "class_label = paper.class_label.unique()\n",
    "\n",
    "ix_max = np.argmax(probabilities1, axis=1)\n",
    "predicted_labels1 = np.asarray([class_label[ix] for ix in ix_max])\n",
    "\n",
    "ix_max = np.argmax(probabilities2, axis=1)\n",
    "predicted_labels2 = np.asarray([class_label[ix] for ix in ix_max])"
   ]
  },
  {
   "cell_type": "markdown",
   "metadata": {},
   "source": [
    "- They then compare that value to the actual class label:"
   ]
  },
  {
   "cell_type": "code",
   "execution_count": null,
   "metadata": {},
   "outputs": [],
   "source": [
    "actual_labels = paper[split == \"test\"].class_label.to_numpy()\n",
    "\n",
    "print(\"Share of accurately predicted class labels (pipe1):\")\n",
    "print((actual_labels == predicted_labels1).sum() / len(actual_labels))\n",
    "print()\n",
    "print(\"Share of accurately predicted class labels (pipe2):\")\n",
    "print((actual_labels == predicted_labels2).sum() / len(actual_labels))\n",
    "print()"
   ]
  },
  {
   "cell_type": "markdown",
   "metadata": {},
   "source": [
    "Since this is the method the benchmark papers use, this is the accuracy score we will report as well."
   ]
  },
  {
   "cell_type": "markdown",
   "metadata": {},
   "source": [
    " "
   ]
  },
  {
   "cell_type": "markdown",
   "metadata": {},
   "source": [
    "### 2.5 Studying features"
   ]
  },
  {
   "cell_type": "markdown",
   "metadata": {},
   "source": [
    "__Feature correlations__\n",
    "\n",
    "We want to analyze how the features are correlated with the target variables."
   ]
  },
  {
   "cell_type": "code",
   "execution_count": null,
   "metadata": {},
   "outputs": [],
   "source": [
    "TARGET_NUM = 0"
   ]
  },
  {
   "cell_type": "code",
   "execution_count": null,
   "metadata": {},
   "outputs": [],
   "source": [
    "names, correlations = pipe2.features.correlations(target_num=TARGET_NUM)\n",
    "\n",
    "plt.subplots(figsize=(20, 10))\n",
    "\n",
    "plt.bar(names, correlations, color='#6829c2')\n",
    "\n",
    "plt.title('Feature correlations with class label ' + class_label[TARGET_NUM])\n",
    "plt.xlabel('Features')\n",
    "plt.ylabel('Correlations')\n",
    "plt.xticks(rotation='vertical')\n",
    "plt.show()"
   ]
  },
  {
   "cell_type": "markdown",
   "metadata": {},
   "source": [
    " "
   ]
  },
  {
   "cell_type": "markdown",
   "metadata": {},
   "source": [
    "__Feature importances__\n",
    " \n",
    "Feature importances are calculated by analyzing the improvement in predictive accuracy on each node of the trees in the XGBoost predictor. They are then normalized, so that all importances add up to 100%."
   ]
  },
  {
   "cell_type": "code",
   "execution_count": null,
   "metadata": {
    "lines_to_next_cell": 0
   },
   "outputs": [],
   "source": [
    "names, importances = pipe2.features.importances()\n",
    "\n",
    "plt.subplots(figsize=(20, 10))\n",
    "\n",
    "plt.bar(names, importances, color='#6829c2')\n",
    "\n",
    "plt.title('Feature importances for class label ' + class_label[TARGET_NUM])\n",
    "plt.xlabel('Features')\n",
    "plt.ylabel('Importances')\n",
    "plt.xticks(rotation='vertical')\n",
    "plt.show()"
   ]
  },
  {
   "cell_type": "markdown",
   "metadata": {},
   "source": [
    "  "
   ]
  },
  {
   "cell_type": "markdown",
   "metadata": {},
   "source": [
    "__Column importances__\n",
    "\n",
    "Because getML uses relational learning, we can apply the principles we used to calculate the feature importances to individual columns as well."
   ]
  },
  {
   "cell_type": "code",
   "execution_count": null,
   "metadata": {},
   "outputs": [],
   "source": [
    "names, importances = pipe2.columns.importances(target_num=TARGET_NUM)\n",
    "\n",
    "plt.subplots(figsize=(20, 10))\n",
    "\n",
    "plt.bar(names, importances, color='#6829c2')\n",
    "\n",
    "plt.title('Columns importances for class label ' + class_label[TARGET_NUM])\n",
    "plt.xlabel('Columns')\n",
    "plt.ylabel('Importances')\n",
    "plt.xticks(rotation='vertical')\n",
    "plt.show()"
   ]
  },
  {
   "cell_type": "markdown",
   "metadata": {},
   "source": [
    "The most important features look as follows:"
   ]
  },
  {
   "cell_type": "code",
   "execution_count": null,
   "metadata": {},
   "outputs": [],
   "source": [
    "pipe1.features.to_sql()[pipe1.features.sort(by=\"importances\")[0].name]"
   ]
  },
  {
   "cell_type": "code",
   "execution_count": null,
   "metadata": {},
   "outputs": [],
   "source": [
    "pipe2.features.to_sql()[pipe2.features.sort(by=\"importances\")[0].name]"
   ]
  },
  {
   "cell_type": "markdown",
   "metadata": {},
   "source": [
    " "
   ]
  },
  {
   "cell_type": "markdown",
   "metadata": {},
   "source": [
    "### 2.6 Productionization\n",
    "\n",
    "It is possible to productionize the pipeline by transpiling the features into production-ready SQL code. Please also refer to getML's `sqlite3` and `spark` modules."
   ]
  },
  {
   "cell_type": "markdown",
   "metadata": {},
   "source": [
    " "
   ]
  },
  {
   "cell_type": "code",
   "execution_count": null,
   "metadata": {},
   "outputs": [],
   "source": [
    "# Creates a folder containing the SQL code.\n",
    "pipe1.features.to_sql().save(\"cora_pipeline\")"
   ]
  },
  {
   "cell_type": "code",
   "execution_count": null,
   "metadata": {},
   "outputs": [],
   "source": [
    "pipe1.features.to_sql(dialect=getml.pipeline.dialect.spark_sql).save(\"cora_spark\")"
   ]
  },
  {
   "cell_type": "markdown",
   "metadata": {},
   "source": [
    " "
   ]
  },
  {
   "cell_type": "markdown",
   "metadata": {},
   "source": [
    "### 2.7 Benchmarks"
   ]
  },
  {
   "cell_type": "markdown",
   "metadata": {},
   "source": [
    "State-of-the-art approaches on this data set perform as follows:\n",
    "\n",
    "| Approach                      | Study                      | Accuracy     | AUC     |\n",
    "| :--------------------------   | :------------------------  | -----------: | ------: |\n",
    "| RelF                          | Dinh et al (2012)          | 85.7%        |     --  |\n",
    "| LBP                           | Dinh et al (2012)          | 85.0%        |     --  |\n",
    "| EPRN                          | Preisach and Thieme (2006) | 84.0%        |     --  |\n",
    "| PRN                           | Preisach and Thieme (2006) | 81.0%        |     --  |\n",
    "| ACORA                         | Perlich and Provost (2006) | --           |   97.0% |\n",
    "\n",
    "\n",
    "As we can see, the performance of the relboost algorithm, as used in this notebook, compares favorably to these benchmarks.\n",
    "\n",
    "| Approach                      | Accuracy     | AUC     |\n",
    "| :---------------------------- | -----------: | ------: |\n",
    "| FastProp                      | 89.9%        | 98.5%   |\n",
    "| Relboost                      | 89.9%        | 98.3%   |\n"
   ]
  },
  {
   "cell_type": "markdown",
   "metadata": {},
   "source": [
    "## 3. Conclusion\n",
    "\n",
    "In this notebook we have demonstrated that getML outperforms state-of-the-art relational learning algorithms on the CORA dataset."
   ]
  },
  {
   "cell_type": "markdown",
   "metadata": {},
   "source": [
    " "
   ]
  },
  {
   "cell_type": "markdown",
   "metadata": {},
   "source": [
    "## References\n",
    "\n",
    "Dinh, Quang-Thang, Christel Vrain, and Matthieu Exbrayat. \"A Link-Based Method for Propositionalization.\" ILP (Late Breaking Papers). 2012.\n",
    "\n",
    "Motl, Jan, and Oliver Schulte. \"The CTU prague relational learning repository.\" arXiv preprint arXiv:1511.03086 (2015).\n",
    "\n",
    "Perlich, Claudia, and Foster Provost. \"Distribution-based aggregation for relational learning with identifier attributes.\" Machine Learning 62.1-2 (2006): 65-105.\n",
    "\n",
    "Preisach, Christine, and Lars Schmidt-Thieme. \"Relational ensemble classification.\" Sixth International Conference on Data Mining (ICDM'06). IEEE, 2006."
   ]
  },
  {
   "cell_type": "markdown",
   "metadata": {},
   "source": [
    " "
   ]
  },
  {
   "cell_type": "markdown",
   "metadata": {},
   "source": [
    "# Next Steps\n",
    "\n",
    "This tutorial benchmarked getML against academic state-of-the-art algorithms from relational learning literature and getML's qualities with respect to categorical data.\n",
    "\n",
    "If you are interested in further real-world applications of getML, head back to the [notebook overview](welcome.md) and choose one of the remaining examples.\n",
    "\n",
    "Here is some additional material from our [documentation](https://docs.getml.com/latest/) if you want to learn more about getML:\n",
    "* [Feature learning with Multirel](https://docs.getml.com/latest/user_guide/feature_engineering/feature_engineering.html#multirel)\n",
    "* [Feature learning with Relboost](https://docs.getml.com/latest/user_guide/feature_engineering/feature_engineering.html#relboost)"
   ]
  },
  {
   "cell_type": "markdown",
   "metadata": {},
   "source": [
    "# Get in contact\n",
    "\n",
    "If you have any question schedule a [call with Alex](https://go.getml.com/meetings/alexander-uhlig/getml-demo), the co-founder of getML, or write us an [email](team@getml.com). Prefer a private demo of getML? Just contact us to make an appointment."
   ]
  },
  {
   "cell_type": "markdown",
   "metadata": {},
   "source": [
    " "
   ]
  }
 ],
 "metadata": {
  "jupytext": {
   "encoding": "# -*- coding: utf-8 -*-",
   "formats": "ipynb,py:percent,md"
  },
  "kernelspec": {
   "display_name": "Python 3 (ipykernel)",
   "language": "python",
   "name": "python3"
  },
  "language_info": {
   "codemirror_mode": {
    "name": "ipython",
    "version": 3
   },
   "file_extension": ".py",
   "mimetype": "text/x-python",
   "name": "python",
   "nbconvert_exporter": "python",
   "pygments_lexer": "ipython3",
   "version": "3.11.3"
  },
  "toc": {
   "base_numbering": 1,
   "nav_menu": {},
   "number_sections": false,
   "sideBar": true,
   "skip_h1_title": false,
   "title_cell": "Table of Contents",
   "title_sidebar": "Contents",
   "toc_cell": false,
   "toc_position": {},
   "toc_section_display": true,
   "toc_window_display": true
  },
  "vscode": {
   "interpreter": {
    "hash": "31f2aee4e71d21fbe5cf8b01ff0e069b9275f58929596ceb00d14d90e3e16cd6"
   }
  },
  "widgets": {
   "application/vnd.jupyter.widget-state+json": {
    "state": {
     "00702e8c359749619d13d67000eb5835": {
      "model_module": "getml-jupyter-widgets",
      "model_module_version": "^0.1.0",
      "model_name": "DataModelWidgetModel",
      "state": {
       "_model_module_version": "^0.1.0",
       "_view_module_version": "^0.1.0",
       "layout": "IPY_MODEL_4dda733a1e0a447da137b7d7f5e37c8b",
       "tree": {
        "children": [],
        "name": "content"
       }
      }
     },
     "016b74df4e09439f9acef7b8096997e3": {
      "model_module": "getml-jupyter-widgets",
      "model_module_version": "^0.1.0",
      "model_name": "DataModelWidgetModel",
      "state": {
       "_model_module_version": "^0.1.0",
       "_view_module_version": "^0.1.0",
       "layout": "IPY_MODEL_413470e63bc141d1a1d22d7319594a5b",
       "serialized_svg": "<?xml version=\"1.0\" standalone=\"no\"?>\r\n<svg xmlns=\"http://www.w3.org/2000/svg\" height=\"500\" width=\"600\"><defs><linearGradient id=\"population-gradient\" x1=\"0\" y1=\"0\" x2=\"0\" y2=\"1\"><stop offset=\"0%\" stop-color=\"#d54c4c\" stop-opacity=\"1\"/><stop offset=\"100%\" stop-color=\"#71248e\" stop-opacity=\"1\"/></linearGradient></defs><g class=\"visx-group\" transform=\"translate(300, 235)\"><g class=\"visx-group\" transform=\"translate(0, 25)\"><circle fill=\"url('#population-gradient')\" r=\"30\"/><text dy=\".33em\" fill=\"#ffffff\" font-family=\"Arial\" font-size=\"9\" text-anchor=\"middle\" style=\"pointer-events: none;\">population</text></g></g></svg>",
       "tree": {
        "children": [],
        "name": "population"
       }
      }
     },
     "04121c47de4c4c218c05a4d686adeb60": {
      "model_module": "@jupyter-widgets/base",
      "model_module_version": "2.0.0",
      "model_name": "LayoutModel",
      "state": {}
     },
     "041fdd601bda4ffe8881f1c81d6be62f": {
      "model_module": "getml-jupyter-widgets",
      "model_module_version": "^0.1.0",
      "model_name": "DataModelWidgetModel",
      "state": {
       "_model_module_version": "^0.1.0",
       "_view_module_version": "^0.1.0",
       "layout": "IPY_MODEL_846a2e41acc34c81b24b9001514b1f18",
       "tree": {
        "children": [],
        "name": "cites"
       }
      }
     },
     "0450a633ccb44e00a580efb511e63fcb": {
      "model_module": "getml-jupyter-widgets",
      "model_module_version": "^0.1.0",
      "model_name": "DataModelWidgetModel",
      "state": {
       "_model_module_version": "^0.1.0",
       "_view_module_version": "^0.1.0",
       "layout": "IPY_MODEL_d04a023ead6949bd8c09373f5e4b0a80",
       "tree": {
        "children": [],
        "name": "content"
       }
      }
     },
     "07364ab2989c4115ab114ab094c4dafe": {
      "model_module": "@jupyter-widgets/base",
      "model_module_version": "2.0.0",
      "model_name": "LayoutModel",
      "state": {}
     },
     "0a4adfa9c4684db38b805cf7b83bce4c": {
      "model_module": "getml-jupyter-widgets",
      "model_module_version": "^0.1.0",
      "model_name": "DataModelWidgetModel",
      "state": {
       "_model_module_version": "^0.1.0",
       "_view_module_version": "^0.1.0",
       "layout": "IPY_MODEL_663a471f1c9844bf9093fc46dff1a649",
       "tree": {
        "children": [],
        "name": "cites"
       }
      }
     },
     "0b04b9f695b04ac1be960acedba7e1a0": {
      "model_module": "@jupyter-widgets/base",
      "model_module_version": "2.0.0",
      "model_name": "LayoutModel",
      "state": {}
     },
     "0c00d94056204999892e28c3e4a0bce6": {
      "model_module": "@jupyter-widgets/base",
      "model_module_version": "2.0.0",
      "model_name": "LayoutModel",
      "state": {}
     },
     "0e78504e1ec8405aa4f0bb7a453730e2": {
      "model_module": "@jupyter-widgets/base",
      "model_module_version": "2.0.0",
      "model_name": "LayoutModel",
      "state": {}
     },
     "0f7b121f666044549e8793a90ddf4cc1": {
      "model_module": "getml-jupyter-widgets",
      "model_module_version": "^0.1.0",
      "model_name": "DataModelWidgetModel",
      "state": {
       "_model_module_version": "^0.1.0",
       "_view_module_version": "^0.1.0",
       "layout": "IPY_MODEL_cc28d0fd047743059425cd683b813860",
       "tree": {
        "children": [],
        "name": "cites"
       }
      }
     },
     "10354d0b388c464b93db7935bbe7e176": {
      "model_module": "@jupyter-widgets/base",
      "model_module_version": "2.0.0",
      "model_name": "LayoutModel",
      "state": {}
     },
     "1233e85c529749408cc6347033d0fae6": {
      "model_module": "@jupyter-widgets/output",
      "model_module_version": "1.0.0",
      "model_name": "OutputModel",
      "state": {
       "layout": "IPY_MODEL_3dab0eb7b2c544e3b1333fe35858d7ee",
       "outputs": [
        {
         "data": {
          "text/plain": "'aaa'"
         },
         "metadata": {},
         "output_type": "display_data"
        },
        {
         "data": {
          "text/plain": "'aaa'"
         },
         "metadata": {},
         "output_type": "display_data"
        }
       ]
      }
     },
     "125a5f2251af43fd81fa8ae4eb3746f9": {
      "model_module": "@jupyter-widgets/base",
      "model_module_version": "2.0.0",
      "model_name": "LayoutModel",
      "state": {}
     },
     "12bad1ea2d1142028f341670911d52a0": {
      "model_module": "@jupyter-widgets/base",
      "model_module_version": "2.0.0",
      "model_name": "LayoutModel",
      "state": {}
     },
     "1440aadf405543edb487c97d3564de81": {
      "model_module": "@jupyter-widgets/base",
      "model_module_version": "2.0.0",
      "model_name": "LayoutModel",
      "state": {}
     },
     "162a2db3e3bb43fd8b0f832c1edf8a0a": {
      "model_module": "getml-jupyter-widgets",
      "model_module_version": "^0.1.0",
      "model_name": "DataModelWidgetModel",
      "state": {
       "_model_module_version": "^0.1.0",
       "_view_module_version": "^0.1.0",
       "layout": "IPY_MODEL_6e10d39182434408a8a302359c66fd0d",
       "tree": {
        "children": [],
        "name": "cites"
       }
      }
     },
     "1660fa81b75f45b886384fd47d94088b": {
      "model_module": "getml-jupyter-widgets",
      "model_module_version": "^0.1.0",
      "model_name": "DataModelWidgetModel",
      "state": {
       "_model_module_version": "^0.1.0",
       "_view_module_version": "^0.1.0",
       "layout": "IPY_MODEL_6c06e65d1de945399aff5044957ca47e",
       "tree": {
        "children": [],
        "name": "content"
       }
      }
     },
     "16c9606b0d654d2aae3a722a86bdfbd8": {
      "model_module": "@jupyter-widgets/base",
      "model_module_version": "2.0.0",
      "model_name": "LayoutModel",
      "state": {}
     },
     "16f3b384c3a149d3be4be0280012ecd0": {
      "model_module": "@jupyter-widgets/base",
      "model_module_version": "2.0.0",
      "model_name": "LayoutModel",
      "state": {}
     },
     "17dfb83e51204115a4830d15cd141903": {
      "model_module": "getml-jupyter-widgets",
      "model_module_version": "^0.1.0",
      "model_name": "DataModelWidgetModel",
      "state": {
       "_model_module_version": "^0.1.0",
       "_view_module_version": "^0.1.0",
       "layout": "IPY_MODEL_ba56ca7fafcb40fe995f67d0ba74844b",
       "tree": {
        "children": [],
        "name": "population"
       }
      }
     },
     "17e26744fa254b358201bb960be635a5": {
      "model_module": "@jupyter-widgets/base",
      "model_module_version": "2.0.0",
      "model_name": "LayoutModel",
      "state": {}
     },
     "185a96464b5f4cc19ec006690a995c57": {
      "model_module": "getml-jupyter-widgets",
      "model_module_version": "^0.1.0",
      "model_name": "DataModelWidgetModel",
      "state": {
       "_model_module_version": "^0.1.0",
       "_view_module_version": "^0.1.0",
       "layout": "IPY_MODEL_dce37c84c34843d19c4c0c722d8bf6c7",
       "tree": {
        "children": [],
        "name": "content"
       }
      }
     },
     "18b65a30dc084156b23816ec532a2be0": {
      "model_module": "@jupyter-widgets/base",
      "model_module_version": "2.0.0",
      "model_name": "LayoutModel",
      "state": {}
     },
     "192de40adedf4eb1a4aa414940c57eea": {
      "model_module": "@jupyter-widgets/base",
      "model_module_version": "2.0.0",
      "model_name": "LayoutModel",
      "state": {}
     },
     "1bf0606146c24ea49c7e57cd39e6b0d1": {
      "model_module": "@jupyter-widgets/base",
      "model_module_version": "2.0.0",
      "model_name": "LayoutModel",
      "state": {}
     },
     "1cea3f7d256841a2bf9d27484435e314": {
      "model_module": "getml-jupyter-widgets",
      "model_module_version": "^0.1.0",
      "model_name": "DataModelWidgetModel",
      "state": {
       "_model_module_version": "^0.1.0",
       "_view_module_version": "^0.1.0",
       "layout": "IPY_MODEL_16f3b384c3a149d3be4be0280012ecd0",
       "tree": {
        "children": [],
        "name": "cites"
       }
      }
     },
     "1e4e9c2921b34a4d80e44b113e3cdebc": {
      "model_module": "getml-jupyter-widgets",
      "model_module_version": "^0.1.0",
      "model_name": "DataModelWidgetModel",
      "state": {
       "_model_module_version": "^0.1.0",
       "_view_module_version": "^0.1.0",
       "layout": "IPY_MODEL_5fd1811d5bf4424782100826827d42de",
       "tree": {
        "children": [],
        "name": "cites"
       }
      }
     },
     "1e56ce646b844ad5be255126c62987ab": {
      "model_module": "getml-jupyter-widgets",
      "model_module_version": "^0.1.0",
      "model_name": "DataModelWidgetModel",
      "state": {
       "_model_module_version": "^0.1.0",
       "_view_module_version": "^0.1.0",
       "layout": "IPY_MODEL_8b35ec26aef34ff4a1886d9dbcb91bf8",
       "tree": {
        "children": [],
        "name": "paper"
       }
      }
     },
     "1ef4f37a2012428baadfa6cf56a79322": {
      "model_module": "@jupyter-widgets/base",
      "model_module_version": "2.0.0",
      "model_name": "LayoutModel",
      "state": {}
     },
     "1f6c0b26dc8e4270b7ec9963f92b71ba": {
      "model_module": "getml-jupyter-widgets",
      "model_module_version": "^0.1.0",
      "model_name": "DataModelWidgetModel",
      "state": {
       "_model_module_version": "^0.1.0",
       "_view_module_version": "^0.1.0",
       "layout": "IPY_MODEL_9b4728cbfbfa4498890757ee984a39f7",
       "tree": {
        "children": [],
        "name": "cites"
       }
      }
     },
     "22cf188059ae4c7cbc072e54b9b7a96d": {
      "model_module": "@jupyter-widgets/base",
      "model_module_version": "2.0.0",
      "model_name": "LayoutModel",
      "state": {}
     },
     "2393a86c5c3b4cea8dee6c0e60282ce5": {
      "model_module": "getml-jupyter-widgets",
      "model_module_version": "^0.1.0",
      "model_name": "DataModelWidgetModel",
      "state": {
       "_model_module_version": "^0.1.0",
       "_view_module_version": "^0.1.0",
       "layout": "IPY_MODEL_89433d5cca21489592a51d31a34e153f",
       "tree": {
        "children": [],
        "name": "content"
       }
      }
     },
     "27881887fd8846fb9be40008e4748017": {
      "model_module": "@jupyter-widgets/base",
      "model_module_version": "2.0.0",
      "model_name": "LayoutModel",
      "state": {}
     },
     "284533eb827748e3a253cff725d532c0": {
      "model_module": "@jupyter-widgets/base",
      "model_module_version": "2.0.0",
      "model_name": "LayoutModel",
      "state": {}
     },
     "2a26d3a221b24917aa8483146d5ca03e": {
      "model_module": "@jupyter-widgets/base",
      "model_module_version": "2.0.0",
      "model_name": "LayoutModel",
      "state": {}
     },
     "2accc9ac1a4c4c67aca283d2bb184d7c": {
      "model_module": "@jupyter-widgets/base",
      "model_module_version": "2.0.0",
      "model_name": "LayoutModel",
      "state": {}
     },
     "2df6c5fd1d284ff49ced2aa36eca927f": {
      "model_module": "getml-jupyter-widgets",
      "model_module_version": "^0.1.0",
      "model_name": "DataModelWidgetModel",
      "state": {
       "_model_module_version": "^0.1.0",
       "_view_module_version": "^0.1.0",
       "layout": "IPY_MODEL_5abb43ba048041f6b2d7a75a8f53e0d7",
       "tree": {
        "children": [],
        "name": "paper"
       }
      }
     },
     "2ea2087f50294f5999c12997099e85f5": {
      "model_module": "getml-jupyter-widgets",
      "model_module_version": "^0.1.0",
      "model_name": "DataModelWidgetModel",
      "state": {
       "_model_module_version": "^0.1.0",
       "_view_module_version": "^0.1.0",
       "layout": "IPY_MODEL_0e78504e1ec8405aa4f0bb7a453730e2",
       "tree": {
        "children": [],
        "name": "cites"
       }
      }
     },
     "2f126e6691c34227bee72f2d38d21c72": {
      "model_module": "@jupyter-widgets/base",
      "model_module_version": "2.0.0",
      "model_name": "LayoutModel",
      "state": {}
     },
     "2f2e8eff7ccb469c9cd63ea67d48b1a0": {
      "model_module": "@jupyter-widgets/base",
      "model_module_version": "2.0.0",
      "model_name": "LayoutModel",
      "state": {}
     },
     "3149064ec95345209daa3c6477b6a3e2": {
      "model_module": "getml-jupyter-widgets",
      "model_module_version": "^0.1.0",
      "model_name": "DataModelWidgetModel",
      "state": {
       "_model_module_version": "^0.1.0",
       "_view_module_version": "^0.1.0",
       "layout": "IPY_MODEL_7dd979405b1a4dc99e14833a861a9eca",
       "tree": {
        "children": [],
        "name": "cites"
       }
      }
     },
     "3315bad876db489e8e0cdbb6831ddb67": {
      "model_module": "@jupyter-widgets/base",
      "model_module_version": "2.0.0",
      "model_name": "LayoutModel",
      "state": {}
     },
     "367fffd0f2aa4af5990abb7010bd0f65": {
      "model_module": "getml-jupyter-widgets",
      "model_module_version": "^0.1.0",
      "model_name": "DataModelWidgetModel",
      "state": {
       "_model_module_version": "^0.1.0",
       "_view_module_version": "^0.1.0",
       "layout": "IPY_MODEL_0b04b9f695b04ac1be960acedba7e1a0",
       "tree": {
        "children": [],
        "name": "paper"
       }
      }
     },
     "38cb4da35d7544ab8733299b0c239012": {
      "model_module": "@jupyter-widgets/base",
      "model_module_version": "2.0.0",
      "model_name": "LayoutModel",
      "state": {}
     },
     "39d1b524390740378babd5ac9be2b638": {
      "model_module": "@jupyter-widgets/base",
      "model_module_version": "2.0.0",
      "model_name": "LayoutModel",
      "state": {}
     },
     "3a1ef8e9909a412baa76c3b3a0fe548d": {
      "model_module": "@jupyter-widgets/base",
      "model_module_version": "2.0.0",
      "model_name": "LayoutModel",
      "state": {}
     },
     "3a86f716fbc7425c9fe1869cada620fc": {
      "model_module": "getml-jupyter-widgets",
      "model_module_version": "^0.1.0",
      "model_name": "DataModelWidgetModel",
      "state": {
       "_model_module_version": "^0.1.0",
       "_view_module_version": "^0.1.0",
       "layout": "IPY_MODEL_91ea3a777d44452a9b5ed11b9064ebd0",
       "serialized_svg": "<?xml version=\"1.0\" standalone=\"no\"?>\r\n<svg xmlns=\"http://www.w3.org/2000/svg\" height=\"500\" width=\"600\"><defs><linearGradient id=\"population-gradient\" x1=\"0\" y1=\"0\" x2=\"0\" y2=\"1\"><stop offset=\"0%\" stop-color=\"#d54c4c\" stop-opacity=\"1\"/><stop offset=\"100%\" stop-color=\"#71248e\" stop-opacity=\"1\"/></linearGradient></defs><g class=\"visx-group\" transform=\"translate(300, 235)\"><g class=\"visx-group\" transform=\"translate(0, 25)\"><circle fill=\"url('#population-gradient')\" r=\"30\"/><text dy=\".33em\" fill=\"#ffffff\" font-family=\"Arial\" font-size=\"9\" text-anchor=\"middle\" style=\"pointer-events: none;\">population</text></g></g></svg>",
       "tree": {
        "children": [],
        "name": "population"
       }
      }
     },
     "3bdefdebbc9e41269ff2169494d58b2e": {
      "model_module": "getml-jupyter-widgets",
      "model_module_version": "^0.1.0",
      "model_name": "DataModelWidgetModel",
      "state": {
       "_model_module_version": "^0.1.0",
       "_view_module_version": "^0.1.0",
       "layout": "IPY_MODEL_e7c03a57d5f04b8fb1b248696142a636",
       "tree": {
        "children": [],
        "name": "cites"
       }
      }
     },
     "3da2acf5c24d4634a13ce8aafe609eb4": {
      "model_module": "@jupyter-widgets/base",
      "model_module_version": "2.0.0",
      "model_name": "LayoutModel",
      "state": {}
     },
     "3dab0eb7b2c544e3b1333fe35858d7ee": {
      "model_module": "@jupyter-widgets/base",
      "model_module_version": "2.0.0",
      "model_name": "LayoutModel",
      "state": {}
     },
     "413470e63bc141d1a1d22d7319594a5b": {
      "model_module": "@jupyter-widgets/base",
      "model_module_version": "2.0.0",
      "model_name": "LayoutModel",
      "state": {}
     },
     "42136daacf91472eb80ffb99aa6f0b4d": {
      "model_module": "getml-jupyter-widgets",
      "model_module_version": "^0.1.0",
      "model_name": "DataModelWidgetModel",
      "state": {
       "_model_module_version": "^0.1.0",
       "_view_module_version": "^0.1.0",
       "layout": "IPY_MODEL_b2a6b85182924ad8a764f0465b0ee974",
       "tree": {
        "children": [],
        "name": "content"
       }
      }
     },
     "433d4015ae004b758a8c131511ca1977": {
      "model_module": "getml-jupyter-widgets",
      "model_module_version": "^0.1.0",
      "model_name": "DataModelWidgetModel",
      "state": {
       "_model_module_version": "^0.1.0",
       "_view_module_version": "^0.1.0",
       "layout": "IPY_MODEL_d700aea3f5aa4b119ef167684d2a4cae",
       "tree": {
        "children": [],
        "name": "paper"
       }
      }
     },
     "4421c013cceb47c8af3dee63ddc84afa": {
      "model_module": "getml-jupyter-widgets",
      "model_module_version": "^0.1.0",
      "model_name": "DataModelWidgetModel",
      "state": {
       "_model_module_version": "^0.1.0",
       "_view_module_version": "^0.1.0",
       "layout": "IPY_MODEL_56bb40d85352473f90ab51ac5b5c7691",
       "tree": {
        "children": [],
        "name": "cites"
       }
      }
     },
     "4a68a9e8a8ab4541b1978ad00abeffbd": {
      "model_module": "getml-jupyter-widgets",
      "model_module_version": "^0.1.0",
      "model_name": "DataModelWidgetModel",
      "state": {
       "_model_module_version": "^0.1.0",
       "_view_module_version": "^0.1.0",
       "layout": "IPY_MODEL_f0090b2f552f47e99da6478ace0b2d85",
       "tree": {
        "children": [],
        "name": "paper"
       }
      }
     },
     "4ae24d5648cc427f871f5faa6a9786f1": {
      "model_module": "getml-jupyter-widgets",
      "model_module_version": "^0.1.0",
      "model_name": "DataModelWidgetModel",
      "state": {
       "_model_module_version": "^0.1.0",
       "_view_module_version": "^0.1.0",
       "layout": "IPY_MODEL_2a26d3a221b24917aa8483146d5ca03e",
       "tree": {
        "children": [],
        "name": "cites"
       }
      }
     },
     "4c3a30613cfd4a28a356e4e05dca27e2": {
      "model_module": "getml-jupyter-widgets",
      "model_module_version": "^0.1.0",
      "model_name": "DataModelWidgetModel",
      "state": {
       "_model_module_version": "^0.1.0",
       "_view_module_version": "^0.1.0",
       "layout": "IPY_MODEL_643f65f4ef6549b3905f3064bddb9349",
       "tree": {
        "children": [],
        "name": "cites"
       }
      }
     },
     "4cfdbc2f4326446a8d56321e9b54331c": {
      "model_module": "getml-jupyter-widgets",
      "model_module_version": "^0.1.0",
      "model_name": "DataModelWidgetModel",
      "state": {
       "_model_module_version": "^0.1.0",
       "_view_module_version": "^0.1.0",
       "layout": "IPY_MODEL_9bc36ec005d04a429c02ae8b4c1d1eb2",
       "serialized_svg": "<?xml version=\"1.0\" standalone=\"no\"?>\r\n<svg xmlns=\"http://www.w3.org/2000/svg\" height=\"500\" width=\"600\"><defs><linearGradient id=\"population-gradient\" x1=\"0\" y1=\"0\" x2=\"0\" y2=\"1\"><stop offset=\"0%\" stop-color=\"#d54c4c\" stop-opacity=\"1\"/><stop offset=\"100%\" stop-color=\"#71248e\" stop-opacity=\"1\"/></linearGradient></defs><g class=\"visx-group\" transform=\"translate(300, 235)\"><g class=\"visx-group\" transform=\"translate(0, 25)\"><circle fill=\"url('#population-gradient')\" r=\"30\"/><text dy=\".33em\" fill=\"#ffffff\" font-family=\"Arial\" font-size=\"9\" text-anchor=\"middle\" style=\"pointer-events: none;\">population</text></g></g></svg>",
       "tree": {
        "children": [],
        "name": "population"
       }
      }
     },
     "4dda733a1e0a447da137b7d7f5e37c8b": {
      "model_module": "@jupyter-widgets/base",
      "model_module_version": "2.0.0",
      "model_name": "LayoutModel",
      "state": {}
     },
     "4f1eabe68ec8419ea697beb573eebdae": {
      "model_module": "getml-jupyter-widgets",
      "model_module_version": "^0.1.0",
      "model_name": "DataModelWidgetModel",
      "state": {
       "_model_module_version": "^0.1.0",
       "_view_module_version": "^0.1.0",
       "layout": "IPY_MODEL_d434fc7de6084608a3c1c6ff138128dc",
       "tree": {
        "children": [],
        "name": "content"
       }
      }
     },
     "5142240859a14d198f3550d1010e3b82": {
      "model_module": "@jupyter-widgets/base",
      "model_module_version": "2.0.0",
      "model_name": "LayoutModel",
      "state": {}
     },
     "5297882150e84509bf81077425f791f6": {
      "model_module": "@jupyter-widgets/base",
      "model_module_version": "2.0.0",
      "model_name": "LayoutModel",
      "state": {}
     },
     "53b92d08f41a48baa98070261bddbadc": {
      "model_module": "getml-jupyter-widgets",
      "model_module_version": "^0.1.0",
      "model_name": "DataModelWidgetModel",
      "state": {
       "_model_module_version": "^0.1.0",
       "_view_module_version": "^0.1.0",
       "layout": "IPY_MODEL_6a6d22308a704e8c94be8af7880bcda3",
       "tree": {
        "children": [],
        "name": "paper"
       }
      }
     },
     "53eaa3db6fb64339acb5f7109791880c": {
      "model_module": "getml-jupyter-widgets",
      "model_module_version": "^0.1.0",
      "model_name": "DataModelWidgetModel",
      "state": {
       "_model_module_version": "^0.1.0",
       "_view_module_version": "^0.1.0",
       "layout": "IPY_MODEL_724a108525bb4728adb29b56e9f2d1f0",
       "tree": {
        "children": [],
        "name": "cites"
       }
      }
     },
     "53fe4e14721c4b06a158d69df531265b": {
      "model_module": "getml-jupyter-widgets",
      "model_module_version": "^0.1.0",
      "model_name": "DataModelWidgetModel",
      "state": {
       "_model_module_version": "^0.1.0",
       "_view_module_version": "^0.1.0",
       "layout": "IPY_MODEL_07364ab2989c4115ab114ab094c4dafe",
       "tree": {
        "children": [],
        "name": "cites"
       }
      }
     },
     "56719bd738e64fe381dac374c81fcac7": {
      "model_module": "getml-jupyter-widgets",
      "model_module_version": "^0.1.0",
      "model_name": "DataModelWidgetModel",
      "state": {
       "_model_module_version": "^0.1.0",
       "_view_module_version": "^0.1.0",
       "layout": "IPY_MODEL_1ef4f37a2012428baadfa6cf56a79322",
       "tree": {
        "children": [],
        "name": "paper"
       }
      }
     },
     "56bb40d85352473f90ab51ac5b5c7691": {
      "model_module": "@jupyter-widgets/base",
      "model_module_version": "2.0.0",
      "model_name": "LayoutModel",
      "state": {}
     },
     "584ce72528d541f2b5bfcda23f7e9465": {
      "model_module": "getml-jupyter-widgets",
      "model_module_version": "^0.1.0",
      "model_name": "DataModelWidgetModel",
      "state": {
       "_model_module_version": "^0.1.0",
       "_view_module_version": "^0.1.0",
       "layout": "IPY_MODEL_b304ddb21c1a4ce9aae3a9834f5bef68",
       "tree": {
        "children": [],
        "name": "content"
       }
      }
     },
     "5abb43ba048041f6b2d7a75a8f53e0d7": {
      "model_module": "@jupyter-widgets/base",
      "model_module_version": "2.0.0",
      "model_name": "LayoutModel",
      "state": {}
     },
     "5b68e20feff141118cd96b8c54a51e3a": {
      "model_module": "getml-jupyter-widgets",
      "model_module_version": "^0.1.0",
      "model_name": "DataModelWidgetModel",
      "state": {
       "_model_module_version": "^0.1.0",
       "_view_module_version": "^0.1.0",
       "layout": "IPY_MODEL_f73aebba6b424d0f876bcf66e9317b9f",
       "serialized_svg": "<?xml version=\"1.0\" standalone=\"no\"?>\r\n<svg xmlns=\"http://www.w3.org/2000/svg\" height=\"500\" width=\"600\"><defs><linearGradient id=\"population-gradient\" x1=\"0\" y1=\"0\" x2=\"0\" y2=\"1\"><stop offset=\"0%\" stop-color=\"#d54c4c\" stop-opacity=\"1\"/><stop offset=\"100%\" stop-color=\"#71248e\" stop-opacity=\"1\"/></linearGradient></defs><g class=\"visx-group\" transform=\"translate(300, 235)\"><g class=\"visx-group\" transform=\"translate(0, 25)\"><circle fill=\"url('#population-gradient')\" r=\"30\"/><text dy=\".33em\" fill=\"#ffffff\" font-family=\"Arial\" font-size=\"9\" text-anchor=\"middle\" style=\"pointer-events: none;\">population</text></g></g></svg>",
       "tree": {
        "children": [],
        "name": "population"
       }
      }
     },
     "5ba0796159b84bd096834c967c7941ca": {
      "model_module": "getml-jupyter-widgets",
      "model_module_version": "^0.1.0",
      "model_name": "DataModelWidgetModel",
      "state": {
       "_model_module_version": "^0.1.0",
       "_view_module_version": "^0.1.0",
       "layout": "IPY_MODEL_b847603e928c478598bc9eff94af6687",
       "tree": {
        "children": [],
        "name": "cites"
       }
      }
     },
     "5dd9779e68174affb47983e7c970f27d": {
      "model_module": "getml-jupyter-widgets",
      "model_module_version": "^0.1.0",
      "model_name": "DataModelWidgetModel",
      "state": {
       "_model_module_version": "^0.1.0",
       "_view_module_version": "^0.1.0",
       "layout": "IPY_MODEL_6be059accd214dad8e05bea138e34f8b",
       "tree": {
        "children": [],
        "name": "content"
       }
      }
     },
     "5fd1811d5bf4424782100826827d42de": {
      "model_module": "@jupyter-widgets/base",
      "model_module_version": "2.0.0",
      "model_name": "LayoutModel",
      "state": {}
     },
     "62d1c8f0446c42d6b48a3992cf88dab5": {
      "model_module": "@jupyter-widgets/base",
      "model_module_version": "2.0.0",
      "model_name": "LayoutModel",
      "state": {}
     },
     "633f8c70099c4b09afd750cd61f77b65": {
      "model_module": "getml-jupyter-widgets",
      "model_module_version": "^0.1.0",
      "model_name": "DataModelWidgetModel",
      "state": {
       "_model_module_version": "^0.1.0",
       "_view_module_version": "^0.1.0",
       "layout": "IPY_MODEL_8f93bccce0e3486d86bfb7abf4ff1bf1",
       "tree": {
        "children": [],
        "name": "content"
       }
      }
     },
     "63e76f3db0d34ca2a6efb283ed33facc": {
      "model_module": "getml-jupyter-widgets",
      "model_module_version": "^0.1.0",
      "model_name": "DataModelWidgetModel",
      "state": {
       "_model_module_version": "^0.1.0",
       "_view_module_version": "^0.1.0",
       "layout": "IPY_MODEL_6f1041f027af4fcfa081aaebda11f8c8",
       "tree": {
        "children": [],
        "name": "paper"
       }
      }
     },
     "63f13b8e71164a47873c35693ad20a4a": {
      "model_module": "@jupyter-widgets/base",
      "model_module_version": "2.0.0",
      "model_name": "LayoutModel",
      "state": {}
     },
     "643f65f4ef6549b3905f3064bddb9349": {
      "model_module": "@jupyter-widgets/base",
      "model_module_version": "2.0.0",
      "model_name": "LayoutModel",
      "state": {}
     },
     "64f2c2626ed541a8a41a9f1f499345a6": {
      "model_module": "getml-jupyter-widgets",
      "model_module_version": "^0.1.0",
      "model_name": "DataModelWidgetModel",
      "state": {
       "_model_module_version": "^0.1.0",
       "_view_module_version": "^0.1.0",
       "layout": "IPY_MODEL_76a67cf821a5489fbc23d6434f31ea5a",
       "tree": {
        "children": [],
        "name": "cites"
       }
      }
     },
     "655df3375be14b028e7771664a669646": {
      "model_module": "getml-jupyter-widgets",
      "model_module_version": "^0.1.0",
      "model_name": "DataModelWidgetModel",
      "state": {
       "_model_module_version": "^0.1.0",
       "_view_module_version": "^0.1.0",
       "layout": "IPY_MODEL_6d6d56b6713d48f68af9eae8443f38f0",
       "serialized_svg": "<?xml version=\"1.0\" standalone=\"no\"?>\r\n<svg xmlns=\"http://www.w3.org/2000/svg\" height=\"500\" width=\"600\"><defs><linearGradient id=\"population-gradient\" x1=\"0\" y1=\"0\" x2=\"0\" y2=\"1\"><stop offset=\"0%\" stop-color=\"#d54c4c\" stop-opacity=\"1\"/><stop offset=\"100%\" stop-color=\"#71248e\" stop-opacity=\"1\"/></linearGradient></defs><g class=\"visx-group\" transform=\"translate(300, 235)\"><g class=\"visx-group\" transform=\"translate(0, 25)\"><circle fill=\"url('#population-gradient')\" r=\"30\"/><text dy=\".33em\" fill=\"#ffffff\" font-family=\"Arial\" font-size=\"9\" text-anchor=\"middle\" style=\"pointer-events: none;\">population</text></g></g></svg>",
       "tree": {
        "children": [],
        "name": "population"
       }
      }
     },
     "65da4143355d48129b26121b8d028b50": {
      "model_module": "@jupyter-widgets/base",
      "model_module_version": "2.0.0",
      "model_name": "LayoutModel",
      "state": {}
     },
     "663a471f1c9844bf9093fc46dff1a649": {
      "model_module": "@jupyter-widgets/base",
      "model_module_version": "2.0.0",
      "model_name": "LayoutModel",
      "state": {}
     },
     "67983fc0bf414fc3bac844327525c45b": {
      "model_module": "getml-jupyter-widgets",
      "model_module_version": "^0.1.0",
      "model_name": "DataModelWidgetModel",
      "state": {
       "_model_module_version": "^0.1.0",
       "_view_module_version": "^0.1.0",
       "layout": "IPY_MODEL_17e26744fa254b358201bb960be635a5",
       "serialized_svg": "<?xml version=\"1.0\" standalone=\"no\"?>\r\n<svg xmlns=\"http://www.w3.org/2000/svg\" height=\"500\" width=\"600\"><defs><linearGradient id=\"population-gradient\" x1=\"0\" y1=\"0\" x2=\"0\" y2=\"1\"><stop offset=\"0%\" stop-color=\"#d54c4c\" stop-opacity=\"1\"/><stop offset=\"100%\" stop-color=\"#71248e\" stop-opacity=\"1\"/></linearGradient></defs><g class=\"visx-group\" transform=\"translate(300, 235)\"><g class=\"visx-group\" transform=\"translate(0, 25)\"><circle fill=\"url('#population-gradient')\" r=\"30\"/><text dy=\".33em\" fill=\"#ffffff\" font-family=\"Arial\" font-size=\"9\" text-anchor=\"middle\" style=\"pointer-events: none;\">population</text></g></g></svg>",
       "tree": {
        "children": [],
        "name": "population"
       }
      }
     },
     "6a6d22308a704e8c94be8af7880bcda3": {
      "model_module": "@jupyter-widgets/base",
      "model_module_version": "2.0.0",
      "model_name": "LayoutModel",
      "state": {}
     },
     "6be059accd214dad8e05bea138e34f8b": {
      "model_module": "@jupyter-widgets/base",
      "model_module_version": "2.0.0",
      "model_name": "LayoutModel",
      "state": {}
     },
     "6c06e65d1de945399aff5044957ca47e": {
      "model_module": "@jupyter-widgets/base",
      "model_module_version": "2.0.0",
      "model_name": "LayoutModel",
      "state": {}
     },
     "6cad8b901a194bdd9f788494071118b6": {
      "model_module": "@jupyter-widgets/base",
      "model_module_version": "2.0.0",
      "model_name": "LayoutModel",
      "state": {}
     },
     "6d6d56b6713d48f68af9eae8443f38f0": {
      "model_module": "@jupyter-widgets/base",
      "model_module_version": "2.0.0",
      "model_name": "LayoutModel",
      "state": {}
     },
     "6e10d39182434408a8a302359c66fd0d": {
      "model_module": "@jupyter-widgets/base",
      "model_module_version": "2.0.0",
      "model_name": "LayoutModel",
      "state": {}
     },
     "6f1041f027af4fcfa081aaebda11f8c8": {
      "model_module": "@jupyter-widgets/base",
      "model_module_version": "2.0.0",
      "model_name": "LayoutModel",
      "state": {}
     },
     "6f66b0a8363e4a45b4ff66a69d063773": {
      "model_module": "@jupyter-widgets/base",
      "model_module_version": "2.0.0",
      "model_name": "LayoutModel",
      "state": {}
     },
     "70fd53010c404a7595706281c3d67659": {
      "model_module": "getml-jupyter-widgets",
      "model_module_version": "^0.1.0",
      "model_name": "DataModelWidgetModel",
      "state": {
       "_model_module_version": "^0.1.0",
       "_view_module_version": "^0.1.0",
       "layout": "IPY_MODEL_65da4143355d48129b26121b8d028b50",
       "tree": {
        "children": [],
        "name": "cites"
       }
      }
     },
     "71955b565e0e40e894e8f7e73e2736ec": {
      "model_module": "getml-jupyter-widgets",
      "model_module_version": "^0.1.0",
      "model_name": "DataModelWidgetModel",
      "state": {
       "_model_module_version": "^0.1.0",
       "_view_module_version": "^0.1.0",
       "layout": "IPY_MODEL_27881887fd8846fb9be40008e4748017",
       "tree": {
        "children": [],
        "name": "cites"
       }
      }
     },
     "724a108525bb4728adb29b56e9f2d1f0": {
      "model_module": "@jupyter-widgets/base",
      "model_module_version": "2.0.0",
      "model_name": "LayoutModel",
      "state": {}
     },
     "7521ae8eda6243e08fa67c5611002490": {
      "model_module": "@jupyter-widgets/base",
      "model_module_version": "2.0.0",
      "model_name": "LayoutModel",
      "state": {}
     },
     "76a67cf821a5489fbc23d6434f31ea5a": {
      "model_module": "@jupyter-widgets/base",
      "model_module_version": "2.0.0",
      "model_name": "LayoutModel",
      "state": {}
     },
     "78a8de256da94f04a618c5c0f3628681": {
      "model_module": "@jupyter-widgets/base",
      "model_module_version": "2.0.0",
      "model_name": "LayoutModel",
      "state": {}
     },
     "78d84c1c730540f882371e5bc097364e": {
      "model_module": "getml-jupyter-widgets",
      "model_module_version": "^0.1.0",
      "model_name": "DataModelWidgetModel",
      "state": {
       "_model_module_version": "^0.1.0",
       "_view_module_version": "^0.1.0",
       "layout": "IPY_MODEL_bd9e97dec5304bf8b9868c76b3acd5c2",
       "serialized_svg": "<?xml version=\"1.0\" standalone=\"no\"?>\r\n<svg xmlns=\"http://www.w3.org/2000/svg\" height=\"500\" width=\"600\"><defs><linearGradient id=\"population-gradient\" x1=\"0\" y1=\"0\" x2=\"0\" y2=\"1\"><stop offset=\"0%\" stop-color=\"#d54c4c\" stop-opacity=\"1\"/><stop offset=\"100%\" stop-color=\"#71248e\" stop-opacity=\"1\"/></linearGradient></defs><g class=\"visx-group\" transform=\"translate(300, 235)\"><g class=\"visx-group\" transform=\"translate(0, 25)\"><circle fill=\"url('#population-gradient')\" r=\"30\"/><text dy=\".33em\" fill=\"#ffffff\" font-family=\"Arial\" font-size=\"9\" text-anchor=\"middle\" style=\"pointer-events: none;\">population</text></g></g></svg>",
       "tree": {
        "children": [],
        "name": "population"
       }
      }
     },
     "7a8dac2daa954da887d44428487032bc": {
      "model_module": "getml-jupyter-widgets",
      "model_module_version": "^0.1.0",
      "model_name": "DataModelWidgetModel",
      "state": {
       "_model_module_version": "^0.1.0",
       "_view_module_version": "^0.1.0",
       "layout": "IPY_MODEL_fbba5d2e094a456ba017ec782b8068f3",
       "tree": {
        "children": [],
        "name": "cites"
       }
      }
     },
     "7d292da01c334a6f86b7437a059d9f07": {
      "model_module": "getml-jupyter-widgets",
      "model_module_version": "^0.1.0",
      "model_name": "DataModelWidgetModel",
      "state": {
       "_model_module_version": "^0.1.0",
       "_view_module_version": "^0.1.0",
       "layout": "IPY_MODEL_0c00d94056204999892e28c3e4a0bce6",
       "serialized_svg": "<?xml version=\"1.0\" standalone=\"no\"?>\r\n<svg xmlns=\"http://www.w3.org/2000/svg\" height=\"500\" width=\"600\"><defs><linearGradient id=\"population-gradient\" x1=\"0\" y1=\"0\" x2=\"0\" y2=\"1\"><stop offset=\"0%\" stop-color=\"#d54c4c\" stop-opacity=\"1\"/><stop offset=\"100%\" stop-color=\"#71248e\" stop-opacity=\"1\"/></linearGradient></defs><g class=\"visx-group\" transform=\"translate(300, 235)\"><g class=\"visx-group\" transform=\"translate(0, 25)\"><circle fill=\"url('#population-gradient')\" r=\"30\"/><text dy=\".33em\" fill=\"#ffffff\" font-family=\"Arial\" font-size=\"9\" text-anchor=\"middle\" style=\"pointer-events: none;\">population</text></g></g></svg>",
       "tree": {
        "children": [],
        "name": "population"
       }
      }
     },
     "7dd979405b1a4dc99e14833a861a9eca": {
      "model_module": "@jupyter-widgets/base",
      "model_module_version": "2.0.0",
      "model_name": "LayoutModel",
      "state": {}
     },
     "838b4723fa954d91a1d68af09b313c16": {
      "model_module": "@jupyter-widgets/base",
      "model_module_version": "2.0.0",
      "model_name": "LayoutModel",
      "state": {}
     },
     "846a2e41acc34c81b24b9001514b1f18": {
      "model_module": "@jupyter-widgets/base",
      "model_module_version": "2.0.0",
      "model_name": "LayoutModel",
      "state": {}
     },
     "857928df391f4654a1bb4e4938a86974": {
      "model_module": "getml-jupyter-widgets",
      "model_module_version": "^0.1.0",
      "model_name": "DataModelWidgetModel",
      "state": {
       "_model_module_version": "^0.1.0",
       "_view_module_version": "^0.1.0",
       "layout": "IPY_MODEL_b051e42c9efd4a85b0a204c7d423c952",
       "tree": {
        "children": [],
        "name": "cites"
       }
      }
     },
     "862969312e4548a8be2f5898beb12c5a": {
      "model_module": "getml-jupyter-widgets",
      "model_module_version": "^0.1.0",
      "model_name": "DataModelWidgetModel",
      "state": {
       "_model_module_version": "^0.1.0",
       "_view_module_version": "^0.1.0",
       "layout": "IPY_MODEL_39d1b524390740378babd5ac9be2b638",
       "tree": {
        "children": [],
        "name": "cites"
       }
      }
     },
     "86e2e93468df4de38c3def5c39763e9c": {
      "model_module": "getml-jupyter-widgets",
      "model_module_version": "^0.1.0",
      "model_name": "DataModelWidgetModel",
      "state": {
       "_model_module_version": "^0.1.0",
       "_view_module_version": "^0.1.0",
       "layout": "IPY_MODEL_d77771bfaee441bc83e524e1f692414a",
       "tree": {
        "children": [],
        "name": "population"
       }
      }
     },
     "89433d5cca21489592a51d31a34e153f": {
      "model_module": "@jupyter-widgets/base",
      "model_module_version": "2.0.0",
      "model_name": "LayoutModel",
      "state": {}
     },
     "8a2971d2d09c4df394f95541e8e842e4": {
      "model_module": "getml-jupyter-widgets",
      "model_module_version": "^0.1.0",
      "model_name": "DataModelWidgetModel",
      "state": {
       "_model_module_version": "^0.1.0",
       "_view_module_version": "^0.1.0",
       "layout": "IPY_MODEL_3315bad876db489e8e0cdbb6831ddb67",
       "tree": {
        "children": [],
        "name": "content"
       }
      }
     },
     "8b35ec26aef34ff4a1886d9dbcb91bf8": {
      "model_module": "@jupyter-widgets/base",
      "model_module_version": "2.0.0",
      "model_name": "LayoutModel",
      "state": {}
     },
     "8c515672f8e643df8af47d0f93112441": {
      "model_module": "getml-jupyter-widgets",
      "model_module_version": "^0.1.0",
      "model_name": "DataModelWidgetModel",
      "state": {
       "_model_module_version": "^0.1.0",
       "_view_module_version": "^0.1.0",
       "layout": "IPY_MODEL_10354d0b388c464b93db7935bbe7e176",
       "tree": {
        "children": [],
        "name": "cites"
       }
      }
     },
     "8e06697b74804454bcfec5b56b0c1e20": {
      "model_module": "getml-jupyter-widgets",
      "model_module_version": "^0.1.0",
      "model_name": "DataModelWidgetModel",
      "state": {
       "_model_module_version": "^0.1.0",
       "_view_module_version": "^0.1.0",
       "layout": "IPY_MODEL_c337c23e1683410c89d8c732a0723707",
       "tree": {
        "children": [],
        "name": "cites"
       }
      }
     },
     "8e88f4914eec4b3593c318fc970c78ca": {
      "model_module": "@jupyter-widgets/base",
      "model_module_version": "2.0.0",
      "model_name": "LayoutModel",
      "state": {}
     },
     "8f93bccce0e3486d86bfb7abf4ff1bf1": {
      "model_module": "@jupyter-widgets/base",
      "model_module_version": "2.0.0",
      "model_name": "LayoutModel",
      "state": {}
     },
     "90c9e6a59c2a4831affa007da523d029": {
      "model_module": "getml-jupyter-widgets",
      "model_module_version": "^0.1.0",
      "model_name": "DataModelWidgetModel",
      "state": {
       "_model_module_version": "^0.1.0",
       "_view_module_version": "^0.1.0",
       "layout": "IPY_MODEL_ee9480fdc9914dd2837144155ef59661",
       "tree": {
        "children": [],
        "name": "paper"
       }
      }
     },
     "91ea3a777d44452a9b5ed11b9064ebd0": {
      "model_module": "@jupyter-widgets/base",
      "model_module_version": "2.0.0",
      "model_name": "LayoutModel",
      "state": {}
     },
     "951ffecc17f044f2a0e278e01e7fb063": {
      "model_module": "@jupyter-widgets/base",
      "model_module_version": "2.0.0",
      "model_name": "LayoutModel",
      "state": {}
     },
     "974b6fe461dd4dbaa1d2bb316278b4ef": {
      "model_module": "@jupyter-widgets/base",
      "model_module_version": "2.0.0",
      "model_name": "LayoutModel",
      "state": {}
     },
     "985af3e507dc46e6b5010c766f8991e4": {
      "model_module": "getml-jupyter-widgets",
      "model_module_version": "^0.1.0",
      "model_name": "DataModelWidgetModel",
      "state": {
       "_model_module_version": "^0.1.0",
       "_view_module_version": "^0.1.0",
       "layout": "IPY_MODEL_f4e9e81ff15643998124adf4312b3157",
       "tree": {
        "children": [],
        "name": "population"
       }
      }
     },
     "9a571158a309490e858a060466a8572f": {
      "model_module": "getml-jupyter-widgets",
      "model_module_version": "^0.1.0",
      "model_name": "DataModelWidgetModel",
      "state": {
       "_model_module_version": "^0.1.0",
       "_view_module_version": "^0.1.0",
       "layout": "IPY_MODEL_5142240859a14d198f3550d1010e3b82",
       "tree": {
        "children": [],
        "name": "content"
       }
      }
     },
     "9b4728cbfbfa4498890757ee984a39f7": {
      "model_module": "@jupyter-widgets/base",
      "model_module_version": "2.0.0",
      "model_name": "LayoutModel",
      "state": {}
     },
     "9bc36ec005d04a429c02ae8b4c1d1eb2": {
      "model_module": "@jupyter-widgets/base",
      "model_module_version": "2.0.0",
      "model_name": "LayoutModel",
      "state": {}
     },
     "9d1144c166194e178cff7f23e155ac14": {
      "model_module": "getml-jupyter-widgets",
      "model_module_version": "^0.1.0",
      "model_name": "DataModelWidgetModel",
      "state": {
       "_model_module_version": "^0.1.0",
       "_view_module_version": "^0.1.0",
       "layout": "IPY_MODEL_9fd911e0afa94e78b6476c157da560a8",
       "tree": {
        "children": [],
        "name": "content"
       }
      }
     },
     "9d28730f146c488b854180dbf17a3b4d": {
      "model_module": "getml-jupyter-widgets",
      "model_module_version": "^0.1.0",
      "model_name": "DataModelWidgetModel",
      "state": {
       "_model_module_version": "^0.1.0",
       "_view_module_version": "^0.1.0",
       "layout": "IPY_MODEL_7521ae8eda6243e08fa67c5611002490",
       "tree": {
        "children": [],
        "name": "cites"
       }
      }
     },
     "9d85a45d3c3d4bf095a888fadab6b545": {
      "model_module": "@jupyter-widgets/base",
      "model_module_version": "2.0.0",
      "model_name": "LayoutModel",
      "state": {}
     },
     "9f426477e5b24b44b38419e46c2f0d55": {
      "model_module": "getml-jupyter-widgets",
      "model_module_version": "^0.1.0",
      "model_name": "DataModelWidgetModel",
      "state": {
       "_model_module_version": "^0.1.0",
       "_view_module_version": "^0.1.0",
       "layout": "IPY_MODEL_d124acab94e246368664ee7588156715",
       "tree": {
        "children": [],
        "name": "paper"
       }
      }
     },
     "9f5c706e54f540eaadf2f102df6185ad": {
      "model_module": "getml-jupyter-widgets",
      "model_module_version": "^0.1.0",
      "model_name": "DataModelWidgetModel",
      "state": {
       "_model_module_version": "^0.1.0",
       "_view_module_version": "^0.1.0",
       "layout": "IPY_MODEL_22cf188059ae4c7cbc072e54b9b7a96d",
       "tree": {
        "children": [],
        "name": "cites"
       }
      }
     },
     "9f63b20e34674639972ed01b448d1245": {
      "model_module": "getml-jupyter-widgets",
      "model_module_version": "^0.1.0",
      "model_name": "DataModelWidgetModel",
      "state": {
       "_model_module_version": "^0.1.0",
       "_view_module_version": "^0.1.0",
       "layout": "IPY_MODEL_38cb4da35d7544ab8733299b0c239012",
       "tree": {
        "children": [],
        "name": "paper"
       }
      }
     },
     "9fd911e0afa94e78b6476c157da560a8": {
      "model_module": "@jupyter-widgets/base",
      "model_module_version": "2.0.0",
      "model_name": "LayoutModel",
      "state": {}
     },
     "a45d53d80b604828ac21ba2fe354a2f9": {
      "model_module": "getml-jupyter-widgets",
      "model_module_version": "^0.1.0",
      "model_name": "DataModelWidgetModel",
      "state": {
       "_model_module_version": "^0.1.0",
       "_view_module_version": "^0.1.0",
       "layout": "IPY_MODEL_1bf0606146c24ea49c7e57cd39e6b0d1",
       "tree": {
        "children": [],
        "name": "cites"
       }
      }
     },
     "a50bebac076b48d4bd001d064eb3286e": {
      "model_module": "getml-jupyter-widgets",
      "model_module_version": "^0.1.0",
      "model_name": "DataModelWidgetModel",
      "state": {
       "_model_module_version": "^0.1.0",
       "_view_module_version": "^0.1.0",
       "layout": "IPY_MODEL_951ffecc17f044f2a0e278e01e7fb063",
       "tree": {
        "children": [],
        "name": "content"
       }
      }
     },
     "a5186252e81948d0a8bfe6ca40d55081": {
      "model_module": "getml-jupyter-widgets",
      "model_module_version": "^0.1.0",
      "model_name": "DataModelWidgetModel",
      "state": {
       "_model_module_version": "^0.1.0",
       "_view_module_version": "^0.1.0",
       "layout": "IPY_MODEL_974b6fe461dd4dbaa1d2bb316278b4ef",
       "serialized_svg": "<?xml version=\"1.0\" standalone=\"no\"?>\r\n<svg xmlns=\"http://www.w3.org/2000/svg\" height=\"500\" width=\"600\"><defs><linearGradient id=\"population-gradient\" x1=\"0\" y1=\"0\" x2=\"0\" y2=\"1\"><stop offset=\"0%\" stop-color=\"#d54c4c\" stop-opacity=\"1\"/><stop offset=\"100%\" stop-color=\"#71248e\" stop-opacity=\"1\"/></linearGradient></defs><g class=\"visx-group\" transform=\"translate(300, 235)\"><g class=\"visx-group\" transform=\"translate(0, 25)\"><circle fill=\"url('#population-gradient')\" r=\"30\"/><text dy=\".33em\" fill=\"#ffffff\" font-family=\"Arial\" font-size=\"9\" text-anchor=\"middle\" style=\"pointer-events: none;\">population</text></g></g></svg>",
       "tree": {
        "children": [],
        "name": "population"
       }
      }
     },
     "a9d21db01d464de1854883feae26727f": {
      "model_module": "getml-jupyter-widgets",
      "model_module_version": "^0.1.0",
      "model_name": "DataModelWidgetModel",
      "state": {
       "_model_module_version": "^0.1.0",
       "_view_module_version": "^0.1.0",
       "layout": "IPY_MODEL_125a5f2251af43fd81fa8ae4eb3746f9",
       "tree": {
        "children": [],
        "name": "cites"
       }
      }
     },
     "ad7c683979c643669b40a29a1ffeb092": {
      "model_module": "getml-jupyter-widgets",
      "model_module_version": "^0.1.0",
      "model_name": "DataModelWidgetModel",
      "state": {
       "_model_module_version": "^0.1.0",
       "_view_module_version": "^0.1.0",
       "layout": "IPY_MODEL_8e88f4914eec4b3593c318fc970c78ca",
       "tree": {
        "children": [],
        "name": "cites"
       }
      }
     },
     "afd539d3e3414166a2ab0d249463ad86": {
      "model_module": "getml-jupyter-widgets",
      "model_module_version": "^0.1.0",
      "model_name": "DataModelWidgetModel",
      "state": {
       "_model_module_version": "^0.1.0",
       "_view_module_version": "^0.1.0",
       "layout": "IPY_MODEL_16c9606b0d654d2aae3a722a86bdfbd8",
       "tree": {
        "children": [],
        "name": "cites"
       }
      }
     },
     "b051e42c9efd4a85b0a204c7d423c952": {
      "model_module": "@jupyter-widgets/base",
      "model_module_version": "2.0.0",
      "model_name": "LayoutModel",
      "state": {}
     },
     "b2464c2f3e0841bdaf2f7d59381ef3ba": {
      "model_module": "getml-jupyter-widgets",
      "model_module_version": "^0.1.0",
      "model_name": "DataModelWidgetModel",
      "state": {
       "_model_module_version": "^0.1.0",
       "_view_module_version": "^0.1.0",
       "layout": "IPY_MODEL_2f2e8eff7ccb469c9cd63ea67d48b1a0",
       "tree": {
        "children": [],
        "name": "cites"
       }
      }
     },
     "b2a6b85182924ad8a764f0465b0ee974": {
      "model_module": "@jupyter-widgets/base",
      "model_module_version": "2.0.0",
      "model_name": "LayoutModel",
      "state": {}
     },
     "b304ddb21c1a4ce9aae3a9834f5bef68": {
      "model_module": "@jupyter-widgets/base",
      "model_module_version": "2.0.0",
      "model_name": "LayoutModel",
      "state": {}
     },
     "b34a6f3d81944eb7ad491036f1a0bf03": {
      "model_module": "getml-jupyter-widgets",
      "model_module_version": "^0.1.0",
      "model_name": "DataModelWidgetModel",
      "state": {
       "_model_module_version": "^0.1.0",
       "_view_module_version": "^0.1.0",
       "layout": "IPY_MODEL_12bad1ea2d1142028f341670911d52a0",
       "tree": {
        "children": [],
        "name": "content"
       }
      }
     },
     "b3eea47315144bee84cd11c698b3b6b8": {
      "model_module": "getml-jupyter-widgets",
      "model_module_version": "^0.1.0",
      "model_name": "DataModelWidgetModel",
      "state": {
       "_model_module_version": "^0.1.0",
       "_view_module_version": "^0.1.0",
       "layout": "IPY_MODEL_5297882150e84509bf81077425f791f6",
       "tree": {
        "children": [],
        "name": "cites"
       }
      }
     },
     "b518b892de074eaab5617dcc39faf483": {
      "model_module": "getml-jupyter-widgets",
      "model_module_version": "^0.1.0",
      "model_name": "DataModelWidgetModel",
      "state": {
       "_model_module_version": "^0.1.0",
       "_view_module_version": "^0.1.0",
       "layout": "IPY_MODEL_62d1c8f0446c42d6b48a3992cf88dab5",
       "serialized_svg": "<?xml version=\"1.0\" standalone=\"no\"?>\r\n<svg xmlns=\"http://www.w3.org/2000/svg\" height=\"500\" width=\"600\"><defs><linearGradient id=\"population-gradient\" x1=\"0\" y1=\"0\" x2=\"0\" y2=\"1\"><stop offset=\"0%\" stop-color=\"#d54c4c\" stop-opacity=\"1\"/><stop offset=\"100%\" stop-color=\"#71248e\" stop-opacity=\"1\"/></linearGradient></defs><g class=\"visx-group\" transform=\"translate(300, 235)\"><g class=\"visx-group\" transform=\"translate(0, 25)\"><circle fill=\"url('#population-gradient')\" r=\"30\"/><text dy=\".33em\" fill=\"#ffffff\" font-family=\"Arial\" font-size=\"9\" text-anchor=\"middle\" style=\"pointer-events: none;\">population</text></g></g></svg>",
       "tree": {
        "children": [],
        "name": "population"
       }
      }
     },
     "b7c7f9cf7c56441d95299c57da87b8fc": {
      "model_module": "@jupyter-widgets/base",
      "model_module_version": "2.0.0",
      "model_name": "LayoutModel",
      "state": {}
     },
     "b7e3b125236f432e8d4b367ecb767b8a": {
      "model_module": "getml-jupyter-widgets",
      "model_module_version": "^0.1.0",
      "model_name": "DataModelWidgetModel",
      "state": {
       "_model_module_version": "^0.1.0",
       "_view_module_version": "^0.1.0",
       "layout": "IPY_MODEL_2accc9ac1a4c4c67aca283d2bb184d7c",
       "serialized_svg": "<?xml version=\"1.0\" standalone=\"no\"?>\r\n<svg xmlns=\"http://www.w3.org/2000/svg\" height=\"500\" width=\"600\"><defs><linearGradient id=\"population-gradient\" x1=\"0\" y1=\"0\" x2=\"0\" y2=\"1\"><stop offset=\"0%\" stop-color=\"#d54c4c\" stop-opacity=\"1\"/><stop offset=\"100%\" stop-color=\"#71248e\" stop-opacity=\"1\"/></linearGradient></defs><g class=\"visx-group\" transform=\"translate(300, 235)\"><g class=\"visx-group\" transform=\"translate(0, 25)\"><circle fill=\"url('#population-gradient')\" r=\"30\"/><text dy=\".33em\" fill=\"#ffffff\" font-family=\"Arial\" font-size=\"9\" text-anchor=\"middle\" style=\"pointer-events: none;\">population</text></g></g></svg>",
       "tree": {
        "children": [],
        "name": "population"
       }
      }
     },
     "b847603e928c478598bc9eff94af6687": {
      "model_module": "@jupyter-widgets/base",
      "model_module_version": "2.0.0",
      "model_name": "LayoutModel",
      "state": {}
     },
     "b963d6606100497db3e16990767bc823": {
      "model_module": "getml-jupyter-widgets",
      "model_module_version": "^0.1.0",
      "model_name": "DataModelWidgetModel",
      "state": {
       "_model_module_version": "^0.1.0",
       "_view_module_version": "^0.1.0",
       "layout": "IPY_MODEL_63f13b8e71164a47873c35693ad20a4a",
       "tree": {
        "children": [],
        "name": "paper"
       }
      }
     },
     "ba56ca7fafcb40fe995f67d0ba74844b": {
      "model_module": "@jupyter-widgets/base",
      "model_module_version": "2.0.0",
      "model_name": "LayoutModel",
      "state": {}
     },
     "bd9e97dec5304bf8b9868c76b3acd5c2": {
      "model_module": "@jupyter-widgets/base",
      "model_module_version": "2.0.0",
      "model_name": "LayoutModel",
      "state": {}
     },
     "c23be66461de4acdb84bbf0f13be4b52": {
      "model_module": "getml-jupyter-widgets",
      "model_module_version": "^0.1.0",
      "model_name": "DataModelWidgetModel",
      "state": {
       "_model_module_version": "^0.1.0",
       "_view_module_version": "^0.1.0",
       "layout": "IPY_MODEL_6cad8b901a194bdd9f788494071118b6",
       "tree": {
        "children": [],
        "name": "paper"
       }
      }
     },
     "c337c23e1683410c89d8c732a0723707": {
      "model_module": "@jupyter-widgets/base",
      "model_module_version": "2.0.0",
      "model_name": "LayoutModel",
      "state": {}
     },
     "c7c380852ed4458681ab621c237c5eb3": {
      "model_module": "getml-jupyter-widgets",
      "model_module_version": "^0.1.0",
      "model_name": "DataModelWidgetModel",
      "state": {
       "_model_module_version": "^0.1.0",
       "_view_module_version": "^0.1.0",
       "layout": "IPY_MODEL_3da2acf5c24d4634a13ce8aafe609eb4",
       "tree": {
        "children": [],
        "name": "paper"
       }
      }
     },
     "cb68358c4fbf4c57ab05ce390b759da4": {
      "model_module": "getml-jupyter-widgets",
      "model_module_version": "^0.1.0",
      "model_name": "DataModelWidgetModel",
      "state": {
       "_model_module_version": "^0.1.0",
       "_view_module_version": "^0.1.0",
       "layout": "IPY_MODEL_1440aadf405543edb487c97d3564de81",
       "tree": {
        "children": [],
        "name": "paper"
       }
      }
     },
     "cc28d0fd047743059425cd683b813860": {
      "model_module": "@jupyter-widgets/base",
      "model_module_version": "2.0.0",
      "model_name": "LayoutModel",
      "state": {}
     },
     "cc675b94d85c4bfda3a8ed642ddf6e7a": {
      "model_module": "@jupyter-widgets/base",
      "model_module_version": "2.0.0",
      "model_name": "LayoutModel",
      "state": {}
     },
     "cfff55406fed4406ae792a8bc132d027": {
      "model_module": "getml-jupyter-widgets",
      "model_module_version": "^0.1.0",
      "model_name": "DataModelWidgetModel",
      "state": {
       "_model_module_version": "^0.1.0",
       "_view_module_version": "^0.1.0",
       "layout": "IPY_MODEL_dd41bcd7956b48f58f5e7fd8ee10a12b",
       "serialized_svg": "<?xml version=\"1.0\" standalone=\"no\"?>\r\n<svg xmlns=\"http://www.w3.org/2000/svg\" height=\"500\" width=\"600\"><defs><linearGradient id=\"population-gradient\" x1=\"0\" y1=\"0\" x2=\"0\" y2=\"1\"><stop offset=\"0%\" stop-color=\"#d54c4c\" stop-opacity=\"1\"/><stop offset=\"100%\" stop-color=\"#71248e\" stop-opacity=\"1\"/></linearGradient></defs><g class=\"visx-group\" transform=\"translate(300, 235)\"><g class=\"visx-group\" transform=\"translate(0, 25)\"><circle fill=\"url('#population-gradient')\" r=\"30\"/><text dy=\".33em\" fill=\"#ffffff\" font-family=\"Arial\" font-size=\"9\" text-anchor=\"middle\" style=\"pointer-events: none;\">population</text></g></g></svg>",
       "tree": {
        "children": [],
        "name": "population"
       }
      }
     },
     "d04a023ead6949bd8c09373f5e4b0a80": {
      "model_module": "@jupyter-widgets/base",
      "model_module_version": "2.0.0",
      "model_name": "LayoutModel",
      "state": {}
     },
     "d124acab94e246368664ee7588156715": {
      "model_module": "@jupyter-widgets/base",
      "model_module_version": "2.0.0",
      "model_name": "LayoutModel",
      "state": {}
     },
     "d35c83f3a5ad4c45ab9adfa9b387c3ba": {
      "model_module": "getml-jupyter-widgets",
      "model_module_version": "^0.1.0",
      "model_name": "DataModelWidgetModel",
      "state": {
       "_model_module_version": "^0.1.0",
       "_view_module_version": "^0.1.0",
       "layout": "IPY_MODEL_838b4723fa954d91a1d68af09b313c16",
       "tree": {
        "children": [],
        "name": "cites"
       }
      }
     },
     "d434fc7de6084608a3c1c6ff138128dc": {
      "model_module": "@jupyter-widgets/base",
      "model_module_version": "2.0.0",
      "model_name": "LayoutModel",
      "state": {}
     },
     "d700aea3f5aa4b119ef167684d2a4cae": {
      "model_module": "@jupyter-widgets/base",
      "model_module_version": "2.0.0",
      "model_name": "LayoutModel",
      "state": {}
     },
     "d745acbccd7f4a07b716ecff03c68a6a": {
      "model_module": "getml-jupyter-widgets",
      "model_module_version": "^0.1.0",
      "model_name": "DataModelWidgetModel",
      "state": {
       "_model_module_version": "^0.1.0",
       "_view_module_version": "^0.1.0",
       "layout": "IPY_MODEL_9d85a45d3c3d4bf095a888fadab6b545",
       "serialized_svg": "<?xml version=\"1.0\" standalone=\"no\"?>\r\n<svg xmlns=\"http://www.w3.org/2000/svg\" height=\"500\" width=\"600\"><defs><linearGradient id=\"population-gradient\" x1=\"0\" y1=\"0\" x2=\"0\" y2=\"1\"><stop offset=\"0%\" stop-color=\"#d54c4c\" stop-opacity=\"1\"/><stop offset=\"100%\" stop-color=\"#71248e\" stop-opacity=\"1\"/></linearGradient></defs><g class=\"visx-group\" transform=\"translate(300, 235)\"><g class=\"visx-group\" transform=\"translate(0, 25)\"><circle fill=\"url('#population-gradient')\" r=\"30\"/><text dy=\".33em\" fill=\"#ffffff\" font-family=\"Arial\" font-size=\"9\" text-anchor=\"middle\" style=\"pointer-events: none;\">population</text></g></g></svg>",
       "tree": {
        "children": [],
        "name": "population"
       }
      }
     },
     "d77771bfaee441bc83e524e1f692414a": {
      "model_module": "@jupyter-widgets/base",
      "model_module_version": "2.0.0",
      "model_name": "LayoutModel",
      "state": {}
     },
     "d7e41c77a55143d28121fa28e20903d0": {
      "model_module": "getml-jupyter-widgets",
      "model_module_version": "^0.1.0",
      "model_name": "DataModelWidgetModel",
      "state": {
       "_model_module_version": "^0.1.0",
       "_view_module_version": "^0.1.0",
       "layout": "IPY_MODEL_78a8de256da94f04a618c5c0f3628681",
       "tree": {
        "children": [],
        "name": "cites"
       }
      }
     },
     "d956b7b6457b4700a6f7b7a1464b6197": {
      "model_module": "getml-jupyter-widgets",
      "model_module_version": "^0.1.0",
      "model_name": "DataModelWidgetModel",
      "state": {
       "_model_module_version": "^0.1.0",
       "_view_module_version": "^0.1.0",
       "layout": "IPY_MODEL_b7c7f9cf7c56441d95299c57da87b8fc",
       "serialized_svg": "<?xml version=\"1.0\" standalone=\"no\"?>\r\n<svg xmlns=\"http://www.w3.org/2000/svg\" height=\"500\" width=\"600\"><defs><linearGradient id=\"population-gradient\" x1=\"0\" y1=\"0\" x2=\"0\" y2=\"1\"><stop offset=\"0%\" stop-color=\"#d54c4c\" stop-opacity=\"1\"/><stop offset=\"100%\" stop-color=\"#71248e\" stop-opacity=\"1\"/></linearGradient></defs><g class=\"visx-group\" transform=\"translate(300, 235)\"><g class=\"visx-group\" transform=\"translate(0, 25)\"><circle fill=\"url('#population-gradient')\" r=\"30\"/><text dy=\".33em\" fill=\"#ffffff\" font-family=\"Arial\" font-size=\"9\" text-anchor=\"middle\" style=\"pointer-events: none;\">population</text></g></g></svg>",
       "tree": {
        "children": [],
        "name": "population"
       }
      }
     },
     "db036fd98ba342c29c3da4a5d168e26b": {
      "model_module": "@jupyter-widgets/base",
      "model_module_version": "2.0.0",
      "model_name": "LayoutModel",
      "state": {}
     },
     "dbb33c3755954f31bff56c52c1e2e28f": {
      "model_module": "getml-jupyter-widgets",
      "model_module_version": "^0.1.0",
      "model_name": "DataModelWidgetModel",
      "state": {
       "_model_module_version": "^0.1.0",
       "_view_module_version": "^0.1.0",
       "layout": "IPY_MODEL_284533eb827748e3a253cff725d532c0",
       "tree": {
        "children": [],
        "name": "population"
       }
      }
     },
     "dbdb0fab148e46e69a69ddfbead20df1": {
      "model_module": "getml-jupyter-widgets",
      "model_module_version": "^0.1.0",
      "model_name": "DataModelWidgetModel",
      "state": {
       "_model_module_version": "^0.1.0",
       "_view_module_version": "^0.1.0",
       "layout": "IPY_MODEL_192de40adedf4eb1a4aa414940c57eea",
       "tree": {
        "children": [],
        "name": "paper"
       }
      }
     },
     "dcb3334e466749acbd48cb1d62f59d34": {
      "model_module": "@jupyter-widgets/base",
      "model_module_version": "2.0.0",
      "model_name": "LayoutModel",
      "state": {}
     },
     "dce37c84c34843d19c4c0c722d8bf6c7": {
      "model_module": "@jupyter-widgets/base",
      "model_module_version": "2.0.0",
      "model_name": "LayoutModel",
      "state": {}
     },
     "dd0d8b85d7564be3aadaf33fbfca1e05": {
      "model_module": "getml-jupyter-widgets",
      "model_module_version": "^0.1.0",
      "model_name": "DataModelWidgetModel",
      "state": {
       "_model_module_version": "^0.1.0",
       "_view_module_version": "^0.1.0",
       "layout": "IPY_MODEL_18b65a30dc084156b23816ec532a2be0",
       "tree": {
        "children": [],
        "name": "cites"
       }
      }
     },
     "dd41bcd7956b48f58f5e7fd8ee10a12b": {
      "model_module": "@jupyter-widgets/base",
      "model_module_version": "2.0.0",
      "model_name": "LayoutModel",
      "state": {}
     },
     "dd9cc10fd88a45b6a4ce99b48a329f1c": {
      "model_module": "getml-jupyter-widgets",
      "model_module_version": "^0.1.0",
      "model_name": "DataModelWidgetModel",
      "state": {
       "_model_module_version": "^0.1.0",
       "_view_module_version": "^0.1.0",
       "layout": "IPY_MODEL_f195dc770f9c45fd95d5cd2cdd27d5f5",
       "tree": {
        "children": [],
        "name": "content"
       }
      }
     },
     "e313efcd42864e9b94930a507b89011e": {
      "model_module": "getml-jupyter-widgets",
      "model_module_version": "^0.1.0",
      "model_name": "DataModelWidgetModel",
      "state": {
       "_model_module_version": "^0.1.0",
       "_view_module_version": "^0.1.0",
       "layout": "IPY_MODEL_e35b71285af34c67921ae029bdfb430d",
       "tree": {
        "children": [],
        "name": "content"
       }
      }
     },
     "e35b71285af34c67921ae029bdfb430d": {
      "model_module": "@jupyter-widgets/base",
      "model_module_version": "2.0.0",
      "model_name": "LayoutModel",
      "state": {}
     },
     "e7c03a57d5f04b8fb1b248696142a636": {
      "model_module": "@jupyter-widgets/base",
      "model_module_version": "2.0.0",
      "model_name": "LayoutModel",
      "state": {}
     },
     "eb11f7a3c8dd46f39f0cda76062aeb35": {
      "model_module": "getml-jupyter-widgets",
      "model_module_version": "^0.1.0",
      "model_name": "DataModelWidgetModel",
      "state": {
       "_model_module_version": "^0.1.0",
       "_view_module_version": "^0.1.0",
       "layout": "IPY_MODEL_fba595bc9ff74aa8bbbb98dca2de169d",
       "serialized_svg": "<?xml version=\"1.0\" standalone=\"no\"?>\r\n<svg xmlns=\"http://www.w3.org/2000/svg\" height=\"500\" width=\"600\"><defs><linearGradient id=\"population-gradient\" x1=\"0\" y1=\"0\" x2=\"0\" y2=\"1\"><stop offset=\"0%\" stop-color=\"#d54c4c\" stop-opacity=\"1\"/><stop offset=\"100%\" stop-color=\"#71248e\" stop-opacity=\"1\"/></linearGradient></defs><g class=\"visx-group\" transform=\"translate(300, 235)\"><g class=\"visx-group\" transform=\"translate(0, 25)\"><circle fill=\"url('#population-gradient')\" r=\"30\"/><text dy=\".33em\" fill=\"#ffffff\" font-family=\"Arial\" font-size=\"9\" text-anchor=\"middle\" style=\"pointer-events: none;\">population</text></g></g></svg>",
       "tree": {
        "children": [],
        "name": "population"
       }
      }
     },
     "eb5841c8222749a0900efc6b5acd5bd2": {
      "model_module": "getml-jupyter-widgets",
      "model_module_version": "^0.1.0",
      "model_name": "DataModelWidgetModel",
      "state": {
       "_model_module_version": "^0.1.0",
       "_view_module_version": "^0.1.0",
       "layout": "IPY_MODEL_db036fd98ba342c29c3da4a5d168e26b",
       "tree": {
        "children": [],
        "name": "cites"
       }
      }
     },
     "ecfd0cf220cc459a8524e7f77d2992c1": {
      "model_module": "getml-jupyter-widgets",
      "model_module_version": "^0.1.0",
      "model_name": "DataModelWidgetModel",
      "state": {
       "_model_module_version": "^0.1.0",
       "_view_module_version": "^0.1.0",
       "layout": "IPY_MODEL_cc675b94d85c4bfda3a8ed642ddf6e7a",
       "tree": {
        "children": [],
        "name": "paper"
       }
      }
     },
     "ee9480fdc9914dd2837144155ef59661": {
      "model_module": "@jupyter-widgets/base",
      "model_module_version": "2.0.0",
      "model_name": "LayoutModel",
      "state": {}
     },
     "ef1f808a9cb54a3ea8b74cdd0beafd9e": {
      "model_module": "getml-jupyter-widgets",
      "model_module_version": "^0.1.0",
      "model_name": "DataModelWidgetModel",
      "state": {
       "_model_module_version": "^0.1.0",
       "_view_module_version": "^0.1.0",
       "layout": "IPY_MODEL_3a1ef8e9909a412baa76c3b3a0fe548d",
       "tree": {
        "children": [],
        "name": "content"
       }
      }
     },
     "f0090b2f552f47e99da6478ace0b2d85": {
      "model_module": "@jupyter-widgets/base",
      "model_module_version": "2.0.0",
      "model_name": "LayoutModel",
      "state": {}
     },
     "f10f36e87a0b48c4afaa1c8dbf2778d8": {
      "model_module": "getml-jupyter-widgets",
      "model_module_version": "^0.1.0",
      "model_name": "DataModelWidgetModel",
      "state": {
       "_model_module_version": "^0.1.0",
       "_view_module_version": "^0.1.0",
       "layout": "IPY_MODEL_2f126e6691c34227bee72f2d38d21c72",
       "tree": {
        "children": [],
        "name": "paper"
       }
      }
     },
     "f195dc770f9c45fd95d5cd2cdd27d5f5": {
      "model_module": "@jupyter-widgets/base",
      "model_module_version": "2.0.0",
      "model_name": "LayoutModel",
      "state": {}
     },
     "f4d4e95100e54feb9093e96f56d60421": {
      "model_module": "@jupyter-widgets/base",
      "model_module_version": "2.0.0",
      "model_name": "LayoutModel",
      "state": {}
     },
     "f4e9e81ff15643998124adf4312b3157": {
      "model_module": "@jupyter-widgets/base",
      "model_module_version": "2.0.0",
      "model_name": "LayoutModel",
      "state": {}
     },
     "f4edd075116740b68c7c31f7d32a58b2": {
      "model_module": "getml-jupyter-widgets",
      "model_module_version": "^0.1.0",
      "model_name": "DataModelWidgetModel",
      "state": {
       "_model_module_version": "^0.1.0",
       "_view_module_version": "^0.1.0",
       "layout": "IPY_MODEL_f4d4e95100e54feb9093e96f56d60421",
       "tree": {
        "children": [],
        "name": "paper"
       }
      }
     },
     "f5374451aa634e009332f915004453d8": {
      "model_module": "getml-jupyter-widgets",
      "model_module_version": "^0.1.0",
      "model_name": "DataModelWidgetModel",
      "state": {
       "_model_module_version": "^0.1.0",
       "_view_module_version": "^0.1.0",
       "layout": "IPY_MODEL_6f66b0a8363e4a45b4ff66a69d063773",
       "tree": {
        "children": [],
        "name": "content"
       }
      }
     },
     "f73aebba6b424d0f876bcf66e9317b9f": {
      "model_module": "@jupyter-widgets/base",
      "model_module_version": "2.0.0",
      "model_name": "LayoutModel",
      "state": {}
     },
     "fa25bf8fce3f446db74b025a192a513f": {
      "model_module": "getml-jupyter-widgets",
      "model_module_version": "^0.1.0",
      "model_name": "DataModelWidgetModel",
      "state": {
       "_model_module_version": "^0.1.0",
       "_view_module_version": "^0.1.0",
       "layout": "IPY_MODEL_04121c47de4c4c218c05a4d686adeb60",
       "tree": {
        "children": [],
        "name": "cites"
       }
      }
     },
     "fa57e9cc9ef04316abbb3a70fdd3f32a": {
      "model_module": "getml-jupyter-widgets",
      "model_module_version": "^0.1.0",
      "model_name": "DataModelWidgetModel",
      "state": {
       "_model_module_version": "^0.1.0",
       "_view_module_version": "^0.1.0",
       "layout": "IPY_MODEL_dcb3334e466749acbd48cb1d62f59d34",
       "tree": {
        "children": [],
        "name": "cites"
       }
      }
     },
     "fba595bc9ff74aa8bbbb98dca2de169d": {
      "model_module": "@jupyter-widgets/base",
      "model_module_version": "2.0.0",
      "model_name": "LayoutModel",
      "state": {}
     },
     "fbba5d2e094a456ba017ec782b8068f3": {
      "model_module": "@jupyter-widgets/base",
      "model_module_version": "2.0.0",
      "model_name": "LayoutModel",
      "state": {}
     }
    },
    "version_major": 2,
    "version_minor": 0
   }
  }
 },
 "nbformat": 4,
 "nbformat_minor": 4
}
